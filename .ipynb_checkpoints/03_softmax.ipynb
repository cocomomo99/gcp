{
 "cells": [
  {
   "cell_type": "markdown",
   "source": [
    "# multi classification"
   ],
   "metadata": {
    "collapsed": false
   }
  },
  {
   "cell_type": "code",
   "execution_count": 1,
   "outputs": [],
   "source": [
    "import pandas as pd\n",
    "import numpy as np\n",
    "import tensorflow as tf"
   ],
   "metadata": {
    "collapsed": false
   }
  },
  {
   "cell_type": "code",
   "execution_count": 3,
   "outputs": [],
   "source": [
    "# train data set :\n",
    "# x_data :  [N,4]  --> [8,4]\n",
    "x_data = [[1,2,1,1],\n",
    "          [2,1,3,2],\n",
    "          [3,1,3,4],\n",
    "          [4,1,5,5],\n",
    "          [1,7,5,5],\n",
    "          [1,2,5,6],\n",
    "          [1,6,6,6],\n",
    "          [1,7,7,7]]\n",
    "\n",
    "# y_data : [N,3] --> [8,3]\n",
    "y_data = [[0,0,1],  # [2]\n",
    "          [0,0,1],  # [2]\n",
    "          [0,0,1],  # [2]\n",
    "          [0,1,0],  # [1]\n",
    "          [0,1,0],  # [1]\n",
    "          [0,1,0],  # [1]\n",
    "          [1,0,0],  # [0]\n",
    "          [1,0,0]]  # [0]\n",
    "\n",
    "x_train = np.array(x_data,dtype=np.float32)\n",
    "y_train = np.array(y_data, dtype=np.float32)"
   ],
   "metadata": {
    "collapsed": false
   }
  },
  {
   "cell_type": "code",
   "execution_count": 4,
   "outputs": [
    {
     "data": {
      "text/plain": "(<tf.Variable 'weight:0' shape=(4, 3) dtype=float32, numpy=\n array([[0.7432718 , 0.10292533, 0.9438405 ],\n        [0.8061488 , 0.14819986, 0.2560085 ],\n        [0.7656641 , 0.18242346, 0.6182705 ],\n        [0.30674708, 0.9751197 , 0.55835235]], dtype=float32)>,\n <tf.Variable 'bias:0' shape=(1,) dtype=float32, numpy=array([0.04719498], dtype=float32)>)"
     },
     "execution_count": 4,
     "metadata": {},
     "output_type": "execute_result"
    }
   ],
   "source": [
    "w = tf.Variable(np.random.random([4,3]), dtype= tf.float32, name= 'weight')\n",
    "b = tf.Variable(np.random.random([1]), dtype= tf.float32, name= 'bias')\n",
    "w, b"
   ],
   "metadata": {
    "collapsed": false
   }
  },
  {
   "cell_type": "code",
   "execution_count": 6,
   "outputs": [],
   "source": [
    "def logit(x):\n",
    "    return tf.matmul(x, w) + b\n",
    "\n",
    "def pred(x):\n",
    "    return tf.nn.softmax(logit(x))"
   ],
   "metadata": {
    "collapsed": false
   }
  },
  {
   "cell_type": "code",
   "execution_count": 8,
   "outputs": [
    {
     "data": {
      "text/plain": "<tf.Tensor: shape=(8, 3), dtype=float32, numpy=\narray([[0.62293357, 0.09590206, 0.2811644 ],\n       [0.49726492, 0.04734703, 0.455388  ],\n       [0.32870966, 0.06279999, 0.60849035],\n       [0.309802  , 0.0189586 , 0.6712394 ],\n       [0.95074195, 0.00766691, 0.04159118],\n       [0.43423164, 0.18334441, 0.3824239 ],\n       [0.908169  , 0.01539714, 0.07643397],\n       [0.9403407 , 0.00899057, 0.05066876]], dtype=float32)>"
     },
     "execution_count": 8,
     "metadata": {},
     "output_type": "execute_result"
    }
   ],
   "source": [
    "pred(x_train)"
   ],
   "metadata": {
    "collapsed": false
   }
  },
  {
   "cell_type": "code",
   "execution_count": null,
   "outputs": [],
   "source": [],
   "metadata": {
    "collapsed": false
   }
  }
 ],
 "metadata": {
  "kernelspec": {
   "display_name": "Python 3",
   "language": "python",
   "name": "python3"
  },
  "language_info": {
   "codemirror_mode": {
    "name": "ipython",
    "version": 2
   },
   "file_extension": ".py",
   "mimetype": "text/x-python",
   "name": "python",
   "nbconvert_exporter": "python",
   "pygments_lexer": "ipython2",
   "version": "2.7.6"
  }
 },
 "nbformat": 4,
 "nbformat_minor": 0
}
