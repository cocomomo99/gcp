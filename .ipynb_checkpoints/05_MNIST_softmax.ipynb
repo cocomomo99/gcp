{
 "cells": [
  {
   "cell_type": "code",
   "execution_count": 19,
   "metadata": {
    "collapsed": true
   },
   "outputs": [],
   "source": [
    "import matplotlib.pyplot as plt\n",
    "import pandas as pd\n",
    "import tensorflow as tf\n",
    "import numpy as np\n",
    "import matplotlib.pyplot as plt\n",
    "tf.random.set_seed(5)"
   ]
  },
  {
   "cell_type": "code",
   "execution_count": 2,
   "outputs": [
    {
     "data": {
      "text/plain": "((array([[[0, 0, 0, ..., 0, 0, 0],\n          [0, 0, 0, ..., 0, 0, 0],\n          [0, 0, 0, ..., 0, 0, 0],\n          ...,\n          [0, 0, 0, ..., 0, 0, 0],\n          [0, 0, 0, ..., 0, 0, 0],\n          [0, 0, 0, ..., 0, 0, 0]],\n  \n         [[0, 0, 0, ..., 0, 0, 0],\n          [0, 0, 0, ..., 0, 0, 0],\n          [0, 0, 0, ..., 0, 0, 0],\n          ...,\n          [0, 0, 0, ..., 0, 0, 0],\n          [0, 0, 0, ..., 0, 0, 0],\n          [0, 0, 0, ..., 0, 0, 0]],\n  \n         [[0, 0, 0, ..., 0, 0, 0],\n          [0, 0, 0, ..., 0, 0, 0],\n          [0, 0, 0, ..., 0, 0, 0],\n          ...,\n          [0, 0, 0, ..., 0, 0, 0],\n          [0, 0, 0, ..., 0, 0, 0],\n          [0, 0, 0, ..., 0, 0, 0]],\n  \n         ...,\n  \n         [[0, 0, 0, ..., 0, 0, 0],\n          [0, 0, 0, ..., 0, 0, 0],\n          [0, 0, 0, ..., 0, 0, 0],\n          ...,\n          [0, 0, 0, ..., 0, 0, 0],\n          [0, 0, 0, ..., 0, 0, 0],\n          [0, 0, 0, ..., 0, 0, 0]],\n  \n         [[0, 0, 0, ..., 0, 0, 0],\n          [0, 0, 0, ..., 0, 0, 0],\n          [0, 0, 0, ..., 0, 0, 0],\n          ...,\n          [0, 0, 0, ..., 0, 0, 0],\n          [0, 0, 0, ..., 0, 0, 0],\n          [0, 0, 0, ..., 0, 0, 0]],\n  \n         [[0, 0, 0, ..., 0, 0, 0],\n          [0, 0, 0, ..., 0, 0, 0],\n          [0, 0, 0, ..., 0, 0, 0],\n          ...,\n          [0, 0, 0, ..., 0, 0, 0],\n          [0, 0, 0, ..., 0, 0, 0],\n          [0, 0, 0, ..., 0, 0, 0]]], dtype=uint8),\n  array([5, 0, 4, ..., 5, 6, 8], dtype=uint8)),\n (array([[[0, 0, 0, ..., 0, 0, 0],\n          [0, 0, 0, ..., 0, 0, 0],\n          [0, 0, 0, ..., 0, 0, 0],\n          ...,\n          [0, 0, 0, ..., 0, 0, 0],\n          [0, 0, 0, ..., 0, 0, 0],\n          [0, 0, 0, ..., 0, 0, 0]],\n  \n         [[0, 0, 0, ..., 0, 0, 0],\n          [0, 0, 0, ..., 0, 0, 0],\n          [0, 0, 0, ..., 0, 0, 0],\n          ...,\n          [0, 0, 0, ..., 0, 0, 0],\n          [0, 0, 0, ..., 0, 0, 0],\n          [0, 0, 0, ..., 0, 0, 0]],\n  \n         [[0, 0, 0, ..., 0, 0, 0],\n          [0, 0, 0, ..., 0, 0, 0],\n          [0, 0, 0, ..., 0, 0, 0],\n          ...,\n          [0, 0, 0, ..., 0, 0, 0],\n          [0, 0, 0, ..., 0, 0, 0],\n          [0, 0, 0, ..., 0, 0, 0]],\n  \n         ...,\n  \n         [[0, 0, 0, ..., 0, 0, 0],\n          [0, 0, 0, ..., 0, 0, 0],\n          [0, 0, 0, ..., 0, 0, 0],\n          ...,\n          [0, 0, 0, ..., 0, 0, 0],\n          [0, 0, 0, ..., 0, 0, 0],\n          [0, 0, 0, ..., 0, 0, 0]],\n  \n         [[0, 0, 0, ..., 0, 0, 0],\n          [0, 0, 0, ..., 0, 0, 0],\n          [0, 0, 0, ..., 0, 0, 0],\n          ...,\n          [0, 0, 0, ..., 0, 0, 0],\n          [0, 0, 0, ..., 0, 0, 0],\n          [0, 0, 0, ..., 0, 0, 0]],\n  \n         [[0, 0, 0, ..., 0, 0, 0],\n          [0, 0, 0, ..., 0, 0, 0],\n          [0, 0, 0, ..., 0, 0, 0],\n          ...,\n          [0, 0, 0, ..., 0, 0, 0],\n          [0, 0, 0, ..., 0, 0, 0],\n          [0, 0, 0, ..., 0, 0, 0]]], dtype=uint8),\n  array([7, 2, 1, ..., 4, 5, 6], dtype=uint8)))"
     },
     "execution_count": 2,
     "metadata": {},
     "output_type": "execute_result"
    }
   ],
   "source": [
    "mnist = tf.keras.datasets.mnist.load_data()\n",
    "mnist"
   ],
   "metadata": {
    "collapsed": false
   }
  },
  {
   "cell_type": "code",
   "execution_count": 3,
   "outputs": [
    {
     "name": "stdout",
     "output_type": "stream",
     "text": [
      "[[[0 0 0 ... 0 0 0]\n",
      "  [0 0 0 ... 0 0 0]\n",
      "  [0 0 0 ... 0 0 0]\n",
      "  ...\n",
      "  [0 0 0 ... 0 0 0]\n",
      "  [0 0 0 ... 0 0 0]\n",
      "  [0 0 0 ... 0 0 0]]\n",
      "\n",
      " [[0 0 0 ... 0 0 0]\n",
      "  [0 0 0 ... 0 0 0]\n",
      "  [0 0 0 ... 0 0 0]\n",
      "  ...\n",
      "  [0 0 0 ... 0 0 0]\n",
      "  [0 0 0 ... 0 0 0]\n",
      "  [0 0 0 ... 0 0 0]]\n",
      "\n",
      " [[0 0 0 ... 0 0 0]\n",
      "  [0 0 0 ... 0 0 0]\n",
      "  [0 0 0 ... 0 0 0]\n",
      "  ...\n",
      "  [0 0 0 ... 0 0 0]\n",
      "  [0 0 0 ... 0 0 0]\n",
      "  [0 0 0 ... 0 0 0]]\n",
      "\n",
      " ...\n",
      "\n",
      " [[0 0 0 ... 0 0 0]\n",
      "  [0 0 0 ... 0 0 0]\n",
      "  [0 0 0 ... 0 0 0]\n",
      "  ...\n",
      "  [0 0 0 ... 0 0 0]\n",
      "  [0 0 0 ... 0 0 0]\n",
      "  [0 0 0 ... 0 0 0]]\n",
      "\n",
      " [[0 0 0 ... 0 0 0]\n",
      "  [0 0 0 ... 0 0 0]\n",
      "  [0 0 0 ... 0 0 0]\n",
      "  ...\n",
      "  [0 0 0 ... 0 0 0]\n",
      "  [0 0 0 ... 0 0 0]\n",
      "  [0 0 0 ... 0 0 0]]\n",
      "\n",
      " [[0 0 0 ... 0 0 0]\n",
      "  [0 0 0 ... 0 0 0]\n",
      "  [0 0 0 ... 0 0 0]\n",
      "  ...\n",
      "  [0 0 0 ... 0 0 0]\n",
      "  [0 0 0 ... 0 0 0]\n",
      "  [0 0 0 ... 0 0 0]]] \n",
      " [5 0 4 ... 5 6 8]\n"
     ]
    }
   ],
   "source": [
    "(x_train, y_train), (x_test, y_test) = mnist\n",
    "print(x_train,'\\n', y_train)"
   ],
   "metadata": {
    "collapsed": false
   }
  },
  {
   "cell_type": "code",
   "execution_count": 4,
   "outputs": [
    {
     "name": "stdout",
     "output_type": "stream",
     "text": [
      "       0  1  2  3  4  5  6  7  8  9\n",
      "0      0  0  0  0  0  1  0  0  0  0\n",
      "1      1  0  0  0  0  0  0  0  0  0\n",
      "2      0  0  0  0  1  0  0  0  0  0\n",
      "3      0  1  0  0  0  0  0  0  0  0\n",
      "4      0  0  0  0  0  0  0  0  0  1\n",
      "...   .. .. .. .. .. .. .. .. .. ..\n",
      "59995  0  0  0  0  0  0  0  0  1  0\n",
      "59996  0  0  0  1  0  0  0  0  0  0\n",
      "59997  0  0  0  0  0  1  0  0  0  0\n",
      "59998  0  0  0  0  0  0  1  0  0  0\n",
      "59999  0  0  0  0  0  0  0  0  1  0\n",
      "\n",
      "[60000 rows x 10 columns]\n"
     ]
    }
   ],
   "source": [
    "y_train = pd.get_dummies(y_train)\n",
    "print(y_train)"
   ],
   "metadata": {
    "collapsed": false
   }
  },
  {
   "cell_type": "markdown",
   "source": [
    "## 60000 x 28 x 28 --> 60000 x 784 로 차원변환"
   ],
   "metadata": {
    "collapsed": false
   }
  },
  {
   "cell_type": "code",
   "execution_count": 5,
   "outputs": [
    {
     "name": "stdout",
     "output_type": "stream",
     "text": [
      "(60000, 28, 28)\n"
     ]
    },
    {
     "data": {
      "text/plain": "((60000, 784), (10000, 784))"
     },
     "execution_count": 5,
     "metadata": {},
     "output_type": "execute_result"
    }
   ],
   "source": [
    "print(x_train.shape)\n",
    "\n",
    "x_train = x_train.reshape(-1, 784)\n",
    "x_test = x_test.reshape(-1, 784)\n",
    "x_train.shape, x_test.shape"
   ],
   "metadata": {
    "collapsed": false
   }
  },
  {
   "cell_type": "code",
   "execution_count": 6,
   "outputs": [
    {
     "name": "stdout",
     "output_type": "stream",
     "text": [
      "<dtype: 'float32'>\n"
     ]
    }
   ],
   "source": [
    "x_train = tf.cast(x_train, dtype=tf.float32)\n",
    "x_test = tf.cast(x_test, dtype=tf.float32)\n",
    "\n",
    "print(x_train.dtype)"
   ],
   "metadata": {
    "collapsed": false
   }
  },
  {
   "cell_type": "code",
   "execution_count": 7,
   "outputs": [],
   "source": [
    "# 신경망"
   ],
   "metadata": {
    "collapsed": false
   }
  },
  {
   "cell_type": "code",
   "execution_count": 58,
   "outputs": [
    {
     "name": "stdout",
     "output_type": "stream",
     "text": [
      "(784, 512) (512,)\n"
     ]
    }
   ],
   "source": [
    "w1 = tf.Variable(np.random.random([784, 512]), dtype=tf.float32, name='weight1')\n",
    "b1 = tf.Variable(np.random.random([512]), dtype=tf.float32, name='bias1')\n",
    "\n",
    "w2 = tf.Variable(np.random.random([512, 128]), dtype=tf.float32, name='weight2')\n",
    "b2 = tf.Variable(np.random.random([128]), dtype=tf.float32, name='bias2')\n",
    "\n",
    "w3 = tf.Variable(np.random.random([128, 64]), dtype=tf.float32, name='weight3')\n",
    "b3 = tf.Variable(np.random.random([64]), dtype=tf.float32, name='bias3')\n",
    "\n",
    "w4 = tf.Variable(np.random.random([64, 10]), dtype=tf.float32, name='weight4')\n",
    "b4 = tf.Variable(np.random.random([10]), dtype=tf.float32, name='bias4')\n",
    "print(w1.shape, b1.shape)"
   ],
   "metadata": {
    "collapsed": false
   }
  },
  {
   "cell_type": "code",
   "execution_count": 67,
   "outputs": [],
   "source": [
    "def layer1(x):\n",
    "    return (tf.matmul(x, w1) + b1)\n",
    "\n",
    "def layer2(x):\n",
    "    layer1_out = layer1(x)\n",
    "    return (tf.matmul(layer1_out, w2) + b2)\n",
    "\n",
    "def layer3(x):\n",
    "    layer2_out = layer2(x)\n",
    "    return (tf.matmul(layer2_out, w3) + b3)\n",
    "\n",
    "def logits(x):\n",
    "    layer3_out = layer3(x)\n",
    "    layer4_out = tf.matmul(layer3_out, w4) + b4\n",
    "    return layer4_out\n",
    "\n",
    "###\n",
    "#\n",
    "# def layer1(x):\n",
    "#     return tf.nn.relu(tf.matmul(x, w1) + b1)\n",
    "#\n",
    "# def layer2(x):\n",
    "#     layer1_out = layer1(x)\n",
    "#     return tf.nn.relu(tf.matmul(layer1_out, w2) + b2)\n",
    "#\n",
    "# def layer3(x):\n",
    "#     layer2_out = layer2(x)\n",
    "#     return tf.nn.relu(tf.matmul(layer2_out, w3) + b3)\n",
    "#\n",
    "# def logits(x):\n",
    "#     layer3_out = layer3(x)\n",
    "#     layer4_out = tf.matmul(layer3_out, w4) + b4\n",
    "#     return layer4_out\n",
    "\n",
    "#for 1 layer DNN\n",
    "\n",
    "# def cost_func():\n",
    "    # return -tf.nn.softmax_cross_entropy_with_logits(x_train, labels= y_train)\n",
    "\n",
    "# def logits(x):\n",
    "#     return tf.cast(tf.matmul(x,w1) + b1, dtype= tf.float32)"
   ],
   "metadata": {
    "collapsed": false
   }
  },
  {
   "cell_type": "code",
   "execution_count": null,
   "outputs": [
    {
     "name": "stdout",
     "output_type": "stream",
     "text": [
      "***** Start Learning!!\n",
      "epoch : 1 cost : 2639092.694761616 \n",
      "\n",
      "epoch : 2 cost : 94773.34879557285 \n",
      "\n",
      "epoch : 3 cost : 42024.233280540546 \n",
      "\n",
      "epoch : 4 cost : 36056.16595928485 \n",
      "\n",
      "epoch : 5 cost : 27219.962868193288 \n",
      "\n",
      "epoch : 6 cost : 29446.603670560384 \n",
      "\n",
      "epoch : 7 cost : 19863.550937228734 \n",
      "\n",
      "epoch : 8 cost : 8944.340067806408 \n",
      "\n",
      "epoch : 9 cost : 12225.481262207024 \n",
      "\n",
      "epoch : 10 cost : 7823.047006721172 \n",
      "\n",
      "epoch : 11 cost : 4518.512755565155 \n",
      "\n",
      "epoch : 12 cost : 2221.9589702247576 \n",
      "\n",
      "epoch : 13 cost : 81787812.83064254 \n",
      "\n",
      "epoch : 14 cost : 1527931.9941406255 \n",
      "\n",
      "epoch : 15 cost : 546669.8837807159 \n",
      "\n",
      "epoch : 16 cost : 287281.600640191 \n",
      "\n",
      "epoch : 17 cost : 180288.28309879164 \n",
      "\n",
      "epoch : 18 cost : 110025.79588174412 \n",
      "\n",
      "epoch : 19 cost : 96754.38158136344 \n",
      "\n",
      "epoch : 20 cost : 83852.32974425748 \n",
      "\n",
      "epoch : 21 cost : 106252.48495509487 \n",
      "\n",
      "epoch : 22 cost : 187938.86157017894 \n",
      "\n"
     ]
    }
   ],
   "source": [
    "optimizer = tf.optimizers.Adam(learning_rate= 0.1)\n",
    "training_epoch = 50\n",
    "batch_size = 128\n",
    "\n",
    "print('***** Start Learning!!')\n",
    "for epoch in range(training_epoch):\n",
    "    avg_cost = 0\n",
    "    total_batch = int(x_train.shape[0]/batch_size)\n",
    "    for k in range(total_batch):\n",
    "        batch_xs = x_train[0 + k*batch_size: 0 + (k+1)*batch_size]\n",
    "        batch_ys = y_train[0 + k*batch_size: 0 + (k+1)*batch_size]\n",
    "\n",
    "        # 비용함수\n",
    "        def cost_func_batch():\n",
    "            cost_i = tf.nn.softmax_cross_entropy_with_logits(logits = logits(batch_xs), labels= batch_ys)\n",
    "            cost = tf.reduce_mean(cost_i)\n",
    "            return cost\n",
    "\n",
    "        optimizer.minimize(loss=cost_func_batch, var_list=[w1, b1, w2, b2, w3, b3, w4, b4])\n",
    "        avg_cost += cost_func_batch().numpy() / total_batch\n",
    "    print('epoch :',epoch + 1,'cost :',avg_cost,'\\n', )\n",
    "print('***** Learning Finished!!')"
   ],
   "metadata": {
    "collapsed": false,
    "pycharm": {
     "is_executing": true
    }
   }
  },
  {
   "cell_type": "code",
   "execution_count": 87,
   "outputs": [],
   "source": [
    "def pred(x):\n",
    "    return tf.argmax(logits(x),  axis=1)\n",
    "\n",
    "def accuracy(pred, real_y):\n",
    "    return pd.DataFrame(pred, real_y).assign(equal = pred == real_y)"
   ],
   "metadata": {
    "collapsed": false
   }
  },
  {
   "cell_type": "code",
   "execution_count": 88,
   "outputs": [
    {
     "data": {
      "text/plain": "<tf.Tensor: shape=(60000,), dtype=int64, numpy=array([3, 0, 7, ..., 5, 6, 8], dtype=int64)>"
     },
     "execution_count": 88,
     "metadata": {},
     "output_type": "execute_result"
    }
   ],
   "source": [
    "pred(x_train)"
   ],
   "metadata": {
    "collapsed": false
   }
  },
  {
   "cell_type": "code",
   "execution_count": 89,
   "outputs": [
    {
     "data": {
      "text/plain": "<tf.Tensor: shape=(10000,), dtype=int64, numpy=array([7, 2, 1, ..., 4, 5, 6], dtype=int64)>"
     },
     "execution_count": 89,
     "metadata": {},
     "output_type": "execute_result"
    }
   ],
   "source": [
    "pred(x_test)"
   ],
   "metadata": {
    "collapsed": false
   }
  },
  {
   "cell_type": "code",
   "execution_count": 90,
   "outputs": [
    {
     "data": {
      "text/plain": "0.7830666666666667"
     },
     "execution_count": 90,
     "metadata": {},
     "output_type": "execute_result"
    }
   ],
   "source": [
    "accuracy(pred(x_train), tf.argmax(y_train, axis=1))['equal'].mean()"
   ],
   "metadata": {
    "collapsed": false
   }
  },
  {
   "cell_type": "code",
   "execution_count": 91,
   "outputs": [
    {
     "data": {
      "text/plain": "0.7869"
     },
     "execution_count": 91,
     "metadata": {},
     "output_type": "execute_result"
    }
   ],
   "source": [
    "accuracy(pred(x_test), y_test)['equal'].mean()"
   ],
   "metadata": {
    "collapsed": false
   }
  },
  {
   "cell_type": "markdown",
   "source": [
    "# 시각화"
   ],
   "metadata": {
    "collapsed": false
   }
  },
  {
   "cell_type": "code",
   "execution_count": null,
   "outputs": [],
   "source": [
    "def show_one_image(n):\n",
    "    image = x_train[n]\n",
    "    print(tf.argmax(y_train.iloc[1]).numpy())\n",
    "\n",
    "    plt.imshow(image,cmap='Greys')\n",
    "    return lt.show()"
   ],
   "metadata": {
    "collapsed": false
   }
  },
  {
   "cell_type": "code",
   "execution_count": null,
   "outputs": [],
   "source": [
    "show_one_image(10)"
   ],
   "metadata": {
    "collapsed": false
   }
  },
  {
   "cell_type": "code",
   "execution_count": null,
   "outputs": [],
   "source": [],
   "metadata": {
    "collapsed": false
   }
  },
  {
   "cell_type": "code",
   "execution_count": 55,
   "outputs": [
    {
     "data": {
      "text/plain": "<tf.Tensor: shape=(60000, 512), dtype=float32, numpy=\narray([[14267.773 , 13015.039 , 13953.026 , ..., 12630.1045, 12748.008 ,\n        14517.968 ],\n       [14797.572 , 16126.914 , 16220.492 , ..., 14879.62  , 15412.641 ,\n        16220.007 ],\n       [ 9919.087 ,  9480.674 , 10280.637 , ...,  9468.09  ,  9541.298 ,\n        10438.212 ],\n       ...,\n       [11838.955 , 11621.906 , 10220.276 , ..., 10651.524 , 11193.998 ,\n        11069.699 ],\n       [10311.178 , 10173.695 , 10189.388 , ...,  9674.077 , 10124.148 ,\n        10498.485 ],\n       [10935.686 , 11697.106 , 10541.614 , ..., 10177.334 , 10790.027 ,\n        10730.14  ]], dtype=float32)>"
     },
     "execution_count": 55,
     "metadata": {},
     "output_type": "execute_result"
    }
   ],
   "source": [
    "tf.nn.relu(tf.matmul(x_train, w1) + b1)"
   ],
   "metadata": {
    "collapsed": false
   }
  },
  {
   "cell_type": "code",
   "execution_count": null,
   "outputs": [],
   "source": [],
   "metadata": {
    "collapsed": false
   }
  }
 ],
 "metadata": {
  "kernelspec": {
   "display_name": "Python 3",
   "language": "python",
   "name": "python3"
  },
  "language_info": {
   "codemirror_mode": {
    "name": "ipython",
    "version": 2
   },
   "file_extension": ".py",
   "mimetype": "text/x-python",
   "name": "python",
   "nbconvert_exporter": "python",
   "pygments_lexer": "ipython2",
   "version": "2.7.6"
  }
 },
 "nbformat": 4,
 "nbformat_minor": 0
}
