{
 "cells": [
  {
   "cell_type": "code",
   "execution_count": 1,
   "metadata": {
    "collapsed": true
   },
   "outputs": [],
   "source": [
    "import tensorflow as tf\n",
    "import numpy as np\n",
    "import pandas as pd\n",
    "import tqdm as tqdm"
   ]
  },
  {
   "cell_type": "code",
   "execution_count": 2,
   "outputs": [
    {
     "data": {
      "text/plain": "((array([[[0, 0, 0, ..., 0, 0, 0],\n          [0, 0, 0, ..., 0, 0, 0],\n          [0, 0, 0, ..., 0, 0, 0],\n          ...,\n          [0, 0, 0, ..., 0, 0, 0],\n          [0, 0, 0, ..., 0, 0, 0],\n          [0, 0, 0, ..., 0, 0, 0]],\n  \n         [[0, 0, 0, ..., 0, 0, 0],\n          [0, 0, 0, ..., 0, 0, 0],\n          [0, 0, 0, ..., 0, 0, 0],\n          ...,\n          [0, 0, 0, ..., 0, 0, 0],\n          [0, 0, 0, ..., 0, 0, 0],\n          [0, 0, 0, ..., 0, 0, 0]],\n  \n         [[0, 0, 0, ..., 0, 0, 0],\n          [0, 0, 0, ..., 0, 0, 0],\n          [0, 0, 0, ..., 0, 0, 0],\n          ...,\n          [0, 0, 0, ..., 0, 0, 0],\n          [0, 0, 0, ..., 0, 0, 0],\n          [0, 0, 0, ..., 0, 0, 0]],\n  \n         ...,\n  \n         [[0, 0, 0, ..., 0, 0, 0],\n          [0, 0, 0, ..., 0, 0, 0],\n          [0, 0, 0, ..., 0, 0, 0],\n          ...,\n          [0, 0, 0, ..., 0, 0, 0],\n          [0, 0, 0, ..., 0, 0, 0],\n          [0, 0, 0, ..., 0, 0, 0]],\n  \n         [[0, 0, 0, ..., 0, 0, 0],\n          [0, 0, 0, ..., 0, 0, 0],\n          [0, 0, 0, ..., 0, 0, 0],\n          ...,\n          [0, 0, 0, ..., 0, 0, 0],\n          [0, 0, 0, ..., 0, 0, 0],\n          [0, 0, 0, ..., 0, 0, 0]],\n  \n         [[0, 0, 0, ..., 0, 0, 0],\n          [0, 0, 0, ..., 0, 0, 0],\n          [0, 0, 0, ..., 0, 0, 0],\n          ...,\n          [0, 0, 0, ..., 0, 0, 0],\n          [0, 0, 0, ..., 0, 0, 0],\n          [0, 0, 0, ..., 0, 0, 0]]], dtype=uint8),\n  array([5, 0, 4, ..., 5, 6, 8], dtype=uint8)),\n (array([[[0, 0, 0, ..., 0, 0, 0],\n          [0, 0, 0, ..., 0, 0, 0],\n          [0, 0, 0, ..., 0, 0, 0],\n          ...,\n          [0, 0, 0, ..., 0, 0, 0],\n          [0, 0, 0, ..., 0, 0, 0],\n          [0, 0, 0, ..., 0, 0, 0]],\n  \n         [[0, 0, 0, ..., 0, 0, 0],\n          [0, 0, 0, ..., 0, 0, 0],\n          [0, 0, 0, ..., 0, 0, 0],\n          ...,\n          [0, 0, 0, ..., 0, 0, 0],\n          [0, 0, 0, ..., 0, 0, 0],\n          [0, 0, 0, ..., 0, 0, 0]],\n  \n         [[0, 0, 0, ..., 0, 0, 0],\n          [0, 0, 0, ..., 0, 0, 0],\n          [0, 0, 0, ..., 0, 0, 0],\n          ...,\n          [0, 0, 0, ..., 0, 0, 0],\n          [0, 0, 0, ..., 0, 0, 0],\n          [0, 0, 0, ..., 0, 0, 0]],\n  \n         ...,\n  \n         [[0, 0, 0, ..., 0, 0, 0],\n          [0, 0, 0, ..., 0, 0, 0],\n          [0, 0, 0, ..., 0, 0, 0],\n          ...,\n          [0, 0, 0, ..., 0, 0, 0],\n          [0, 0, 0, ..., 0, 0, 0],\n          [0, 0, 0, ..., 0, 0, 0]],\n  \n         [[0, 0, 0, ..., 0, 0, 0],\n          [0, 0, 0, ..., 0, 0, 0],\n          [0, 0, 0, ..., 0, 0, 0],\n          ...,\n          [0, 0, 0, ..., 0, 0, 0],\n          [0, 0, 0, ..., 0, 0, 0],\n          [0, 0, 0, ..., 0, 0, 0]],\n  \n         [[0, 0, 0, ..., 0, 0, 0],\n          [0, 0, 0, ..., 0, 0, 0],\n          [0, 0, 0, ..., 0, 0, 0],\n          ...,\n          [0, 0, 0, ..., 0, 0, 0],\n          [0, 0, 0, ..., 0, 0, 0],\n          [0, 0, 0, ..., 0, 0, 0]]], dtype=uint8),\n  array([7, 2, 1, ..., 4, 5, 6], dtype=uint8)))"
     },
     "execution_count": 2,
     "metadata": {},
     "output_type": "execute_result"
    }
   ],
   "source": [
    "data = tf.keras.datasets.mnist.load_data()\n",
    "data"
   ],
   "metadata": {
    "collapsed": false
   }
  },
  {
   "cell_type": "code",
   "execution_count": 3,
   "outputs": [
    {
     "name": "stdout",
     "output_type": "stream",
     "text": [
      "[[[0 0 0 ... 0 0 0]\n",
      "  [0 0 0 ... 0 0 0]\n",
      "  [0 0 0 ... 0 0 0]\n",
      "  ...\n",
      "  [0 0 0 ... 0 0 0]\n",
      "  [0 0 0 ... 0 0 0]\n",
      "  [0 0 0 ... 0 0 0]]\n",
      "\n",
      " [[0 0 0 ... 0 0 0]\n",
      "  [0 0 0 ... 0 0 0]\n",
      "  [0 0 0 ... 0 0 0]\n",
      "  ...\n",
      "  [0 0 0 ... 0 0 0]\n",
      "  [0 0 0 ... 0 0 0]\n",
      "  [0 0 0 ... 0 0 0]]\n",
      "\n",
      " [[0 0 0 ... 0 0 0]\n",
      "  [0 0 0 ... 0 0 0]\n",
      "  [0 0 0 ... 0 0 0]\n",
      "  ...\n",
      "  [0 0 0 ... 0 0 0]\n",
      "  [0 0 0 ... 0 0 0]\n",
      "  [0 0 0 ... 0 0 0]]\n",
      "\n",
      " ...\n",
      "\n",
      " [[0 0 0 ... 0 0 0]\n",
      "  [0 0 0 ... 0 0 0]\n",
      "  [0 0 0 ... 0 0 0]\n",
      "  ...\n",
      "  [0 0 0 ... 0 0 0]\n",
      "  [0 0 0 ... 0 0 0]\n",
      "  [0 0 0 ... 0 0 0]]\n",
      "\n",
      " [[0 0 0 ... 0 0 0]\n",
      "  [0 0 0 ... 0 0 0]\n",
      "  [0 0 0 ... 0 0 0]\n",
      "  ...\n",
      "  [0 0 0 ... 0 0 0]\n",
      "  [0 0 0 ... 0 0 0]\n",
      "  [0 0 0 ... 0 0 0]]\n",
      "\n",
      " [[0 0 0 ... 0 0 0]\n",
      "  [0 0 0 ... 0 0 0]\n",
      "  [0 0 0 ... 0 0 0]\n",
      "  ...\n",
      "  [0 0 0 ... 0 0 0]\n",
      "  [0 0 0 ... 0 0 0]\n",
      "  [0 0 0 ... 0 0 0]]] \n",
      " [5 0 4 ... 5 6 8]\n"
     ]
    }
   ],
   "source": [
    "(x_train, y_train), (x_test, y_test) = data\n",
    "print(x_train,'\\n', y_train)"
   ],
   "metadata": {
    "collapsed": false
   }
  },
  {
   "cell_type": "code",
   "execution_count": 4,
   "outputs": [
    {
     "data": {
      "text/plain": "(60000, 28, 28)"
     },
     "execution_count": 4,
     "metadata": {},
     "output_type": "execute_result"
    }
   ],
   "source": [
    "x_train.shape"
   ],
   "metadata": {
    "collapsed": false
   }
  },
  {
   "cell_type": "code",
   "execution_count": 5,
   "outputs": [],
   "source": [
    "#  not use CNN\n",
    "x_train = x_train.reshape(-1, 28*28)\n",
    "x_test = x_test.reshape(-1, 28*28)\n",
    "\n",
    "x_train = tf.cast(x_train, dtype=tf.float32)\n",
    "x_test = tf.cast(x_test, dtype=tf.float32)"
   ],
   "metadata": {
    "collapsed": false
   }
  },
  {
   "cell_type": "code",
   "execution_count": 6,
   "outputs": [
    {
     "name": "stdout",
     "output_type": "stream",
     "text": [
      "Model: \"sequential\"\n",
      "_________________________________________________________________\n",
      " Layer (type)                Output Shape              Param #   \n",
      "=================================================================\n",
      " dense (Dense)               (None, 256)               200960    \n",
      "                                                                 \n",
      " dense_1 (Dense)             (None, 64)                16448     \n",
      "                                                                 \n",
      " dense_2 (Dense)             (None, 32)                2080      \n",
      "                                                                 \n",
      " dense_3 (Dense)             (None, 10)                330       \n",
      "                                                                 \n",
      "=================================================================\n",
      "Total params: 219,818\n",
      "Trainable params: 219,818\n",
      "Non-trainable params: 0\n",
      "_________________________________________________________________\n"
     ]
    }
   ],
   "source": [
    "model = tf.keras.Sequential([\n",
    "    tf.keras.layers.Dense(units = 256, activation= 'relu', use_bias= True, input_shape= (784,) ),\n",
    "    tf.keras.layers.Dense(units = 64, activation= 'relu', use_bias= True),\n",
    "    tf.keras.layers.Dense(units = 32, activation= 'relu', use_bias= True),\n",
    "    tf.keras.layers.Dense(units = 10, activation= 'softmax', use_bias= True)\n",
    "])\n",
    "\n",
    "model.summary()"
   ],
   "metadata": {
    "collapsed": false
   }
  },
  {
   "cell_type": "code",
   "execution_count": 7,
   "outputs": [
    {
     "name": "stdout",
     "output_type": "stream",
     "text": [
      "Epoch 1/30\n",
      "750/750 [==============================] - 4s 3ms/step - loss: 1.5778 - accuracy: 0.6297 - val_loss: 0.7131 - val_accuracy: 0.7876\n",
      "Epoch 2/30\n",
      "750/750 [==============================] - 2s 3ms/step - loss: 0.5878 - accuracy: 0.8260 - val_loss: 0.4998 - val_accuracy: 0.8607\n",
      "Epoch 3/30\n",
      "750/750 [==============================] - 2s 3ms/step - loss: 0.2960 - accuracy: 0.9191 - val_loss: 0.2124 - val_accuracy: 0.9467\n",
      "Epoch 4/30\n",
      "750/750 [==============================] - 2s 3ms/step - loss: 0.1673 - accuracy: 0.9521 - val_loss: 0.1781 - val_accuracy: 0.9506\n",
      "Epoch 5/30\n",
      "750/750 [==============================] - 2s 3ms/step - loss: 0.1387 - accuracy: 0.9607 - val_loss: 0.1628 - val_accuracy: 0.9605\n",
      "Epoch 6/30\n",
      "750/750 [==============================] - 2s 3ms/step - loss: 0.1062 - accuracy: 0.9686 - val_loss: 0.1405 - val_accuracy: 0.9649\n",
      "Epoch 7/30\n",
      "750/750 [==============================] - 2s 3ms/step - loss: 0.0949 - accuracy: 0.9732 - val_loss: 0.1601 - val_accuracy: 0.9590\n",
      "Epoch 8/30\n",
      "750/750 [==============================] - 2s 3ms/step - loss: 0.0872 - accuracy: 0.9745 - val_loss: 0.1713 - val_accuracy: 0.9572\n",
      "Epoch 9/30\n",
      "750/750 [==============================] - 2s 3ms/step - loss: 0.0824 - accuracy: 0.9766 - val_loss: 0.1883 - val_accuracy: 0.9517\n",
      "Epoch 10/30\n",
      "750/750 [==============================] - 2s 3ms/step - loss: 0.0678 - accuracy: 0.9810 - val_loss: 0.1479 - val_accuracy: 0.9620\n",
      "Epoch 11/30\n",
      "750/750 [==============================] - 2s 3ms/step - loss: 0.0578 - accuracy: 0.9833 - val_loss: 0.1387 - val_accuracy: 0.9687\n",
      "Epoch 12/30\n",
      "750/750 [==============================] - 2s 3ms/step - loss: 0.0634 - accuracy: 0.9823 - val_loss: 0.1445 - val_accuracy: 0.9680\n",
      "Epoch 13/30\n",
      "750/750 [==============================] - 2s 3ms/step - loss: 0.0543 - accuracy: 0.9848 - val_loss: 0.1464 - val_accuracy: 0.9690\n",
      "Epoch 14/30\n",
      "750/750 [==============================] - 2s 3ms/step - loss: 0.0437 - accuracy: 0.9863 - val_loss: 0.1659 - val_accuracy: 0.9674\n",
      "Epoch 15/30\n",
      "750/750 [==============================] - 2s 3ms/step - loss: 0.0470 - accuracy: 0.9865 - val_loss: 0.1360 - val_accuracy: 0.9707\n",
      "Epoch 16/30\n",
      "750/750 [==============================] - 2s 3ms/step - loss: 0.0415 - accuracy: 0.9875 - val_loss: 0.1528 - val_accuracy: 0.9729\n",
      "Epoch 17/30\n",
      "750/750 [==============================] - 2s 3ms/step - loss: 0.0396 - accuracy: 0.9885 - val_loss: 0.1462 - val_accuracy: 0.9695\n",
      "Epoch 18/30\n",
      "750/750 [==============================] - 2s 3ms/step - loss: 0.0387 - accuracy: 0.9892 - val_loss: 0.1632 - val_accuracy: 0.9683\n",
      "Epoch 19/30\n",
      "750/750 [==============================] - 2s 3ms/step - loss: 0.0335 - accuracy: 0.9901 - val_loss: 0.1666 - val_accuracy: 0.9722\n",
      "Epoch 20/30\n",
      "750/750 [==============================] - 2s 3ms/step - loss: 0.0376 - accuracy: 0.9893 - val_loss: 0.1888 - val_accuracy: 0.9684\n",
      "Epoch 21/30\n",
      "750/750 [==============================] - 2s 3ms/step - loss: 0.0309 - accuracy: 0.9911 - val_loss: 0.1933 - val_accuracy: 0.9653\n",
      "Epoch 22/30\n",
      "750/750 [==============================] - 2s 3ms/step - loss: 0.0352 - accuracy: 0.9902 - val_loss: 0.1572 - val_accuracy: 0.9747\n",
      "Epoch 23/30\n",
      "750/750 [==============================] - 2s 3ms/step - loss: 0.0255 - accuracy: 0.9930 - val_loss: 0.1534 - val_accuracy: 0.9732\n",
      "Epoch 24/30\n",
      "750/750 [==============================] - 2s 3ms/step - loss: 0.0287 - accuracy: 0.9918 - val_loss: 0.1649 - val_accuracy: 0.9726\n",
      "Epoch 25/30\n",
      "750/750 [==============================] - 2s 3ms/step - loss: 0.0249 - accuracy: 0.9928 - val_loss: 0.1713 - val_accuracy: 0.9712\n",
      "Epoch 26/30\n",
      "750/750 [==============================] - 2s 3ms/step - loss: 0.0228 - accuracy: 0.9937 - val_loss: 0.1795 - val_accuracy: 0.9717\n",
      "Epoch 27/30\n",
      "750/750 [==============================] - 2s 3ms/step - loss: 0.0312 - accuracy: 0.9917 - val_loss: 0.1785 - val_accuracy: 0.9720\n",
      "Epoch 28/30\n",
      "750/750 [==============================] - 2s 3ms/step - loss: 0.0247 - accuracy: 0.9935 - val_loss: 0.1767 - val_accuracy: 0.9722\n",
      "Epoch 29/30\n",
      "750/750 [==============================] - 2s 3ms/step - loss: 0.0285 - accuracy: 0.9927 - val_loss: 0.1681 - val_accuracy: 0.9743\n",
      "Epoch 30/30\n",
      "750/750 [==============================] - 2s 3ms/step - loss: 0.0205 - accuracy: 0.9947 - val_loss: 0.1864 - val_accuracy: 0.9743\n"
     ]
    }
   ],
   "source": [
    "model.compile(loss = 'sparse_categorical_crossentropy', optimizer= 'adam', metrics= ['accuracy'])\n",
    "hist = model.fit(x = x_train, y = y_train, batch_size= 64, epochs= 30, validation_split=0.2)"
   ],
   "metadata": {
    "collapsed": false
   }
  },
  {
   "cell_type": "code",
   "execution_count": 8,
   "outputs": [
    {
     "data": {
      "text/plain": "<Axes: >"
     },
     "execution_count": 8,
     "metadata": {},
     "output_type": "execute_result"
    },
    {
     "data": {
      "text/plain": "<Figure size 640x480 with 1 Axes>",
      "image/png": "[encoded data removed]"
     },
     "metadata": {},
     "output_type": "display_data"
    }
   ],
   "source": [
    "import seaborn\n",
    "\n",
    "seaborn.lineplot(x = range(0, len(hist.history['loss'])), y = hist.history['loss'])"
   ],
   "metadata": {
    "collapsed": false
   }
  },
  {
   "cell_type": "code",
   "execution_count": 9,
   "outputs": [
    {
     "data": {
      "text/plain": "<Axes: >"
     },
     "execution_count": 9,
     "metadata": {},
     "output_type": "execute_result"
    },
    {
     "data": {
      "text/plain": "<Figure size 640x480 with 1 Axes>",
      "image/png": "[encoded data removed]"
     },
     "metadata": {},
     "output_type": "display_data"
    }
   ],
   "source": [
    "seaborn.lineplot(x = range(0, len(hist.history['accuracy'])), y = hist.history['accuracy'])"
   ],
   "metadata": {
    "collapsed": false
   }
  },
  {
   "cell_type": "code",
   "execution_count": 10,
   "outputs": [
    {
     "name": "stdout",
     "output_type": "stream",
     "text": [
      "313/313 [==============================] - 1s 2ms/step - loss: 0.1908 - accuracy: 0.9752\n"
     ]
    },
    {
     "data": {
      "text/plain": "[0.19083651900291443, 0.9751999974250793]"
     },
     "execution_count": 10,
     "metadata": {},
     "output_type": "execute_result"
    }
   ],
   "source": [
    "model.evaluate(x_test, y_test)"
   ],
   "metadata": {
    "collapsed": false
   }
  },
  {
   "cell_type": "markdown",
   "source": [
    "# use CNN"
   ],
   "metadata": {
    "collapsed": false
   }
  },
  {
   "cell_type": "code",
   "execution_count": 11,
   "outputs": [],
   "source": [
    "import tensorflow as tf\n",
    "import numpy as np\n",
    "import pandas as pd\n",
    "import tqdm as tqdm"
   ],
   "metadata": {
    "collapsed": false
   }
  },
  {
   "cell_type": "code",
   "execution_count": 12,
   "outputs": [],
   "source": [
    "x_train = tf.reshape(x_train,[60000, 28, 28])\n",
    "x_test = tf.reshape(x_test,[-1, 28, 28])"
   ],
   "metadata": {
    "collapsed": false
   }
  },
  {
   "cell_type": "code",
   "execution_count": 15,
   "outputs": [
    {
     "name": "stdout",
     "output_type": "stream",
     "text": [
      "Model: \"sequential_2\"\n",
      "_________________________________________________________________\n",
      " Layer (type)                Output Shape              Param #   \n",
      "=================================================================\n",
      " conv2d_3 (Conv2D)           (None, 28, 28, 32)        320       \n",
      "                                                                 \n",
      " max_pooling2d_3 (MaxPooling  (None, 14, 14, 32)       0         \n",
      " 2D)                                                             \n",
      "                                                                 \n",
      " conv2d_4 (Conv2D)           (None, 14, 14, 64)        18496     \n",
      "                                                                 \n",
      " max_pooling2d_4 (MaxPooling  (None, 7, 7, 64)         0         \n",
      " 2D)                                                             \n",
      "                                                                 \n",
      " conv2d_5 (Conv2D)           (None, 7, 7, 128)         73856     \n",
      "                                                                 \n",
      " max_pooling2d_5 (MaxPooling  (None, 4, 4, 128)        0         \n",
      " 2D)                                                             \n",
      "                                                                 \n",
      " flatten_1 (Flatten)         (None, 2048)              0         \n",
      "                                                                 \n",
      " dense_6 (Dense)             (None, 512)               1049088   \n",
      "                                                                 \n",
      " dense_7 (Dense)             (None, 10)                5130      \n",
      "                                                                 \n",
      "=================================================================\n",
      "Total params: 1,146,890\n",
      "Trainable params: 1,146,890\n",
      "Non-trainable params: 0\n",
      "_________________________________________________________________\n"
     ]
    }
   ],
   "source": [
    "model_CNN = tf.keras.Sequential([\n",
    "    tf.keras.layers.Conv2D(filters= 32, kernel_size=(3,3), strides= (1,1), padding= 'same', input_shape= (28,28,1), activation='relu'),\n",
    "    tf.keras.layers.MaxPool2D(pool_size= (2,2), strides= (2,2), padding= 'same'),\n",
    "    tf.keras.layers.Conv2D(filters = 64, kernel_size=(3,3), strides= (1,1), padding= 'same', activation='relu'),\n",
    "    tf.keras.layers.MaxPool2D(pool_size= (2,2), strides=(2,2), padding='same'),\n",
    "    tf.keras.layers.Conv2D(filters = 128, kernel_size=(3,3), strides= (1,1), padding= 'same', activation='relu'),\n",
    "    tf.keras.layers.MaxPool2D(pool_size= (2,2), strides=(2,2), padding='same'),\n",
    "    tf.keras.layers.Flatten(),\n",
    "    tf.keras.layers.Dense(units= 512, activation= 'relu'),\n",
    "    tf.keras.layers.Dense(units= 10, activation= 'softmax')\n",
    "])\n",
    "\n",
    "\n",
    "model_CNN.summary()"
   ],
   "metadata": {
    "collapsed": false
   }
  },
  {
   "cell_type": "code",
   "execution_count": 16,
   "outputs": [
    {
     "name": "stdout",
     "output_type": "stream",
     "text": [
      "Epoch 1/50\n",
      "750/750 [==============================] - 5s 7ms/step - loss: 0.5587 - accuracy: 0.9365 - val_loss: 0.0653 - val_accuracy: 0.9799\n",
      "Epoch 2/50\n",
      "750/750 [==============================] - 4s 6ms/step - loss: 0.0566 - accuracy: 0.9822 - val_loss: 0.0589 - val_accuracy: 0.9843\n",
      "Epoch 3/50\n",
      "750/750 [==============================] - 4s 6ms/step - loss: 0.0401 - accuracy: 0.9876 - val_loss: 0.0805 - val_accuracy: 0.9767\n",
      "Epoch 4/50\n",
      "750/750 [==============================] - 4s 6ms/step - loss: 0.0364 - accuracy: 0.9883 - val_loss: 0.0488 - val_accuracy: 0.9852\n",
      "Epoch 5/50\n",
      "750/750 [==============================] - 4s 6ms/step - loss: 0.0308 - accuracy: 0.9900 - val_loss: 0.0494 - val_accuracy: 0.9862\n",
      "Epoch 6/50\n",
      "750/750 [==============================] - 4s 6ms/step - loss: 0.0275 - accuracy: 0.9912 - val_loss: 0.0553 - val_accuracy: 0.9852\n",
      "Epoch 7/50\n",
      "750/750 [==============================] - 5s 6ms/step - loss: 0.0245 - accuracy: 0.9925 - val_loss: 0.0442 - val_accuracy: 0.9885\n",
      "Epoch 8/50\n",
      "750/750 [==============================] - 4s 6ms/step - loss: 0.0240 - accuracy: 0.9925 - val_loss: 0.0559 - val_accuracy: 0.9882\n",
      "Epoch 9/50\n",
      "750/750 [==============================] - 5s 6ms/step - loss: 0.0219 - accuracy: 0.9930 - val_loss: 0.0675 - val_accuracy: 0.9859\n",
      "Epoch 10/50\n",
      "750/750 [==============================] - 5s 6ms/step - loss: 0.0282 - accuracy: 0.9919 - val_loss: 0.0766 - val_accuracy: 0.9843\n",
      "Epoch 11/50\n",
      "750/750 [==============================] - 5s 6ms/step - loss: 0.0159 - accuracy: 0.9949 - val_loss: 0.0613 - val_accuracy: 0.9869\n",
      "Epoch 12/50\n",
      "750/750 [==============================] - 5s 6ms/step - loss: 0.0194 - accuracy: 0.9943 - val_loss: 0.0609 - val_accuracy: 0.9865\n",
      "Epoch 13/50\n",
      "750/750 [==============================] - 5s 6ms/step - loss: 0.0161 - accuracy: 0.9952 - val_loss: 0.0716 - val_accuracy: 0.9862\n",
      "Epoch 14/50\n",
      "750/750 [==============================] - 4s 6ms/step - loss: 0.0211 - accuracy: 0.9942 - val_loss: 0.0570 - val_accuracy: 0.9891\n",
      "Epoch 15/50\n",
      "750/750 [==============================] - 4s 6ms/step - loss: 0.0158 - accuracy: 0.9954 - val_loss: 0.0633 - val_accuracy: 0.9885\n",
      "Epoch 16/50\n",
      "750/750 [==============================] - 4s 6ms/step - loss: 0.0176 - accuracy: 0.9948 - val_loss: 0.0712 - val_accuracy: 0.9858\n",
      "Epoch 17/50\n",
      "750/750 [==============================] - 5s 6ms/step - loss: 0.0130 - accuracy: 0.9964 - val_loss: 0.0783 - val_accuracy: 0.9879\n",
      "Epoch 18/50\n",
      "750/750 [==============================] - 4s 6ms/step - loss: 0.0128 - accuracy: 0.9964 - val_loss: 0.0902 - val_accuracy: 0.9862\n",
      "Epoch 19/50\n",
      "750/750 [==============================] - 5s 6ms/step - loss: 0.0091 - accuracy: 0.9974 - val_loss: 0.0832 - val_accuracy: 0.9871\n",
      "Epoch 20/50\n",
      "750/750 [==============================] - 5s 6ms/step - loss: 0.0217 - accuracy: 0.9949 - val_loss: 0.0793 - val_accuracy: 0.9868\n",
      "Epoch 21/50\n",
      "750/750 [==============================] - 5s 6ms/step - loss: 0.0130 - accuracy: 0.9966 - val_loss: 0.0945 - val_accuracy: 0.9858\n",
      "Epoch 22/50\n",
      "750/750 [==============================] - 5s 6ms/step - loss: 0.0116 - accuracy: 0.9967 - val_loss: 0.0985 - val_accuracy: 0.9859\n",
      "Epoch 23/50\n",
      "750/750 [==============================] - 5s 7ms/step - loss: 0.0149 - accuracy: 0.9964 - val_loss: 0.1012 - val_accuracy: 0.9857\n",
      "Epoch 24/50\n",
      "750/750 [==============================] - 5s 6ms/step - loss: 0.0135 - accuracy: 0.9967 - val_loss: 0.0985 - val_accuracy: 0.9854\n",
      "Epoch 25/50\n",
      "750/750 [==============================] - 5s 6ms/step - loss: 0.0099 - accuracy: 0.9974 - val_loss: 0.0952 - val_accuracy: 0.9881\n",
      "Epoch 26/50\n",
      "750/750 [==============================] - 4s 6ms/step - loss: 0.0151 - accuracy: 0.9963 - val_loss: 0.1299 - val_accuracy: 0.9867\n",
      "Epoch 27/50\n",
      "750/750 [==============================] - 5s 6ms/step - loss: 0.0115 - accuracy: 0.9975 - val_loss: 0.1481 - val_accuracy: 0.9859\n",
      "Epoch 28/50\n",
      "750/750 [==============================] - 4s 6ms/step - loss: 0.0200 - accuracy: 0.9958 - val_loss: 0.1042 - val_accuracy: 0.9874\n",
      "Epoch 29/50\n",
      "750/750 [==============================] - 4s 6ms/step - loss: 0.0131 - accuracy: 0.9977 - val_loss: 0.0980 - val_accuracy: 0.9901\n",
      "Epoch 30/50\n",
      "750/750 [==============================] - 4s 6ms/step - loss: 0.0093 - accuracy: 0.9981 - val_loss: 0.0955 - val_accuracy: 0.9899\n",
      "Epoch 31/50\n",
      "750/750 [==============================] - 4s 6ms/step - loss: 0.0162 - accuracy: 0.9966 - val_loss: 0.1243 - val_accuracy: 0.9872\n",
      "Epoch 32/50\n",
      "750/750 [==============================] - 4s 6ms/step - loss: 0.0153 - accuracy: 0.9970 - val_loss: 0.1291 - val_accuracy: 0.9861\n",
      "Epoch 33/50\n",
      "750/750 [==============================] - 4s 6ms/step - loss: 0.0135 - accuracy: 0.9973 - val_loss: 0.1115 - val_accuracy: 0.9893\n",
      "Epoch 34/50\n",
      "750/750 [==============================] - 5s 6ms/step - loss: 0.0094 - accuracy: 0.9980 - val_loss: 0.1334 - val_accuracy: 0.9879\n",
      "Epoch 35/50\n",
      "750/750 [==============================] - 5s 6ms/step - loss: 0.0143 - accuracy: 0.9974 - val_loss: 0.1505 - val_accuracy: 0.9883\n",
      "Epoch 36/50\n",
      "750/750 [==============================] - 4s 6ms/step - loss: 0.0207 - accuracy: 0.9968 - val_loss: 0.1111 - val_accuracy: 0.9868\n",
      "Epoch 37/50\n",
      "750/750 [==============================] - 5s 6ms/step - loss: 0.0115 - accuracy: 0.9975 - val_loss: 0.1377 - val_accuracy: 0.9866\n",
      "Epoch 38/50\n",
      "750/750 [==============================] - 5s 6ms/step - loss: 0.0154 - accuracy: 0.9973 - val_loss: 0.1656 - val_accuracy: 0.9878\n",
      "Epoch 39/50\n",
      "750/750 [==============================] - 4s 6ms/step - loss: 0.0111 - accuracy: 0.9979 - val_loss: 0.0975 - val_accuracy: 0.9900\n",
      "Epoch 40/50\n",
      "750/750 [==============================] - 4s 6ms/step - loss: 0.0097 - accuracy: 0.9984 - val_loss: 0.1225 - val_accuracy: 0.9886\n",
      "Epoch 41/50\n",
      "750/750 [==============================] - 5s 6ms/step - loss: 0.0102 - accuracy: 0.9981 - val_loss: 0.1312 - val_accuracy: 0.9862\n",
      "Epoch 42/50\n",
      "750/750 [==============================] - 5s 7ms/step - loss: 0.0190 - accuracy: 0.9973 - val_loss: 0.1643 - val_accuracy: 0.9886\n",
      "Epoch 43/50\n",
      "750/750 [==============================] - 5s 6ms/step - loss: 0.0151 - accuracy: 0.9978 - val_loss: 0.1316 - val_accuracy: 0.9893\n",
      "Epoch 44/50\n",
      "750/750 [==============================] - 5s 6ms/step - loss: 0.0155 - accuracy: 0.9976 - val_loss: 0.1400 - val_accuracy: 0.9895\n",
      "Epoch 45/50\n",
      "750/750 [==============================] - 5s 6ms/step - loss: 0.0094 - accuracy: 0.9983 - val_loss: 0.1841 - val_accuracy: 0.9860\n",
      "Epoch 46/50\n",
      "750/750 [==============================] - 5s 6ms/step - loss: 0.0189 - accuracy: 0.9971 - val_loss: 0.1776 - val_accuracy: 0.9871\n",
      "Epoch 47/50\n",
      "750/750 [==============================] - 5s 6ms/step - loss: 0.0182 - accuracy: 0.9973 - val_loss: 0.1738 - val_accuracy: 0.9885\n",
      "Epoch 48/50\n",
      "750/750 [==============================] - 5s 6ms/step - loss: 0.0123 - accuracy: 0.9983 - val_loss: 0.1469 - val_accuracy: 0.9873\n",
      "Epoch 49/50\n",
      "750/750 [==============================] - 5s 6ms/step - loss: 0.0078 - accuracy: 0.9986 - val_loss: 0.1782 - val_accuracy: 0.9894\n",
      "Epoch 50/50\n",
      "750/750 [==============================] - 4s 6ms/step - loss: 0.0241 - accuracy: 0.9971 - val_loss: 0.1827 - val_accuracy: 0.9874\n"
     ]
    },
    {
     "data": {
      "text/plain": "<keras.callbacks.History at 0x24a395772e0>"
     },
     "execution_count": 16,
     "metadata": {},
     "output_type": "execute_result"
    }
   ],
   "source": [
    "model_CNN.compile(optimizer = 'adam',\n",
    "                  loss ='sparse_categorical_crossentropy',\n",
    "                  metrics=['accuracy'])\n",
    "model_CNN.fit(x_train, y_train, epochs= 50, batch_size= 64, validation_split= 0.2)"
   ],
   "metadata": {
    "collapsed": false
   }
  },
  {
   "cell_type": "code",
   "execution_count": 17,
   "outputs": [
    {
     "name": "stdout",
     "output_type": "stream",
     "text": [
      "313/313 [==============================] - 2s 5ms/step - loss: 0.1761 - accuracy: 0.9879\n"
     ]
    },
    {
     "data": {
      "text/plain": "[0.1761419177055359, 0.9879000186920166]"
     },
     "execution_count": 17,
     "metadata": {},
     "output_type": "execute_result"
    }
   ],
   "source": [
    "model_CNN.evaluate(x_test, y_test)"
   ],
   "metadata": {
    "collapsed": false
   }
  },
  {
   "cell_type": "markdown",
   "source": [
    "# model 개선"
   ],
   "metadata": {
    "collapsed": false
   }
  },
  {
   "cell_type": "code",
   "execution_count": 19,
   "outputs": [],
   "source": [
    "# VGGNET 스타일의 CNN 모델"
   ],
   "metadata": {
    "collapsed": false
   }
  },
  {
   "cell_type": "code",
   "execution_count": 29,
   "outputs": [
    {
     "name": "stdout",
     "output_type": "stream",
     "text": [
      "Model: \"sequential_11\"\n",
      "_________________________________________________________________\n",
      " Layer (type)                Output Shape              Param #   \n",
      "=================================================================\n",
      " conv2d_44 (Conv2D)          (None, 28, 28, 32)        320       \n",
      "                                                                 \n",
      " conv2d_45 (Conv2D)          (None, 28, 28, 64)        18496     \n",
      "                                                                 \n",
      " max_pooling2d_25 (MaxPoolin  (None, 14, 14, 64)       0         \n",
      " g2D)                                                            \n",
      "                                                                 \n",
      " conv2d_46 (Conv2D)          (None, 14, 14, 128)       73856     \n",
      "                                                                 \n",
      " conv2d_47 (Conv2D)          (None, 14, 14, 256)       295168    \n",
      "                                                                 \n",
      " max_pooling2d_26 (MaxPoolin  (None, 7, 7, 256)        0         \n",
      " g2D)                                                            \n",
      "                                                                 \n",
      " conv2d_48 (Conv2D)          (None, 7, 7, 512)         1180160   \n",
      "                                                                 \n",
      " conv2d_49 (Conv2D)          (None, 5, 5, 1024)        4719616   \n",
      "                                                                 \n",
      " max_pooling2d_27 (MaxPoolin  (None, 2, 2, 1024)       0         \n",
      " g2D)                                                            \n",
      "                                                                 \n",
      " flatten_10 (Flatten)        (None, 4096)              0         \n",
      "                                                                 \n",
      " dense_26 (Dense)            (None, 512)               2097664   \n",
      "                                                                 \n",
      " dropout_4 (Dropout)         (None, 512)               0         \n",
      "                                                                 \n",
      " dense_27 (Dense)            (None, 256)               131328    \n",
      "                                                                 \n",
      " dropout_5 (Dropout)         (None, 256)               0         \n",
      "                                                                 \n",
      " dense_28 (Dense)            (None, 10)                2570      \n",
      "                                                                 \n",
      "=================================================================\n",
      "Total params: 8,519,178\n",
      "Trainable params: 8,519,178\n",
      "Non-trainable params: 0\n",
      "_________________________________________________________________\n"
     ]
    }
   ],
   "source": [
    "model_VGG = tf.keras.Sequential([\n",
    "    tf.keras.layers.Conv2D(filters= 32, kernel_size=(3,3), strides= (1,1), padding= 'same', input_shape= (28,28,1), activation='relu'),\n",
    "    tf.keras.layers.Conv2D(filters= 64, kernel_size=(3,3), strides= (1,1), padding= 'same', activation='relu'),\n",
    "    tf.keras.layers.MaxPool2D(pool_size= (2,2)),\n",
    "\n",
    "    tf.keras.layers.Conv2D(filters= 128, kernel_size=(3,3), strides= (1,1), padding= 'same', activation='relu'),\n",
    "    tf.keras.layers.Conv2D(filters= 256, kernel_size=(3,3), strides= (1,1), padding= 'same', activation='relu'),\n",
    "    tf.keras.layers.MaxPool2D(pool_size= (2,2)),\n",
    "\n",
    "    tf.keras.layers.Conv2D(filters= 512, kernel_size=(3,3), strides= (1,1), padding= 'same', activation='relu'),\n",
    "    tf.keras.layers.Conv2D(filters= 1024, kernel_size=(3,3), strides= (1,1), padding= 'valid', activation='relu'),\n",
    "    tf.keras.layers.MaxPool2D(pool_size= (2,2)),\n",
    "\n",
    "    tf.keras.layers.Flatten(),\n",
    "    tf.keras.layers.Dense(units= 512, activation= 'relu'),\n",
    "    tf.keras.layers.Dropout(rate = 0.5),\n",
    "    tf.keras.layers.Dense(units= 256, activation= 'relu'),\n",
    "    tf.keras.layers.Dropout(rate = 0.5),\n",
    "    tf.keras.layers.Dense(units= 10, activation= 'softmax')\n",
    "])\n",
    "\n",
    "\n",
    "model_VGG.summary()"
   ],
   "metadata": {
    "collapsed": false
   }
  },
  {
   "cell_type": "code",
   "execution_count": 31,
   "outputs": [
    {
     "name": "stdout",
     "output_type": "stream",
     "text": [
      "Epoch 1/25\n",
      "750/750 [==============================] - 30s 38ms/step - loss: 0.0553 - accuracy: 0.9860 - val_loss: 0.0632 - val_accuracy: 0.9847\n",
      "Epoch 2/25\n",
      "750/750 [==============================] - 29s 38ms/step - loss: 0.0452 - accuracy: 0.9883 - val_loss: 0.0549 - val_accuracy: 0.9872\n",
      "Epoch 3/25\n",
      "750/750 [==============================] - 28s 38ms/step - loss: 0.0420 - accuracy: 0.9899 - val_loss: 0.0575 - val_accuracy: 0.9880\n",
      "Epoch 4/25\n",
      "750/750 [==============================] - 29s 38ms/step - loss: 0.0372 - accuracy: 0.9907 - val_loss: 0.0566 - val_accuracy: 0.9865\n",
      "Epoch 5/25\n",
      "750/750 [==============================] - 29s 38ms/step - loss: 0.0385 - accuracy: 0.9908 - val_loss: 0.0482 - val_accuracy: 0.9900\n",
      "Epoch 6/25\n",
      "750/750 [==============================] - 29s 38ms/step - loss: 0.0343 - accuracy: 0.9915 - val_loss: 0.0398 - val_accuracy: 0.9910\n",
      "Epoch 7/25\n",
      "750/750 [==============================] - 29s 38ms/step - loss: 0.0280 - accuracy: 0.9929 - val_loss: 0.0439 - val_accuracy: 0.9908\n",
      "Epoch 8/25\n",
      "750/750 [==============================] - 28s 38ms/step - loss: 0.0314 - accuracy: 0.9929 - val_loss: 0.0558 - val_accuracy: 0.9890\n",
      "Epoch 9/25\n",
      "750/750 [==============================] - 28s 38ms/step - loss: 0.0334 - accuracy: 0.9923 - val_loss: 0.0726 - val_accuracy: 0.9867\n",
      "Epoch 10/25\n",
      "750/750 [==============================] - 28s 38ms/step - loss: 0.0305 - accuracy: 0.9937 - val_loss: 0.0545 - val_accuracy: 0.9891\n",
      "Epoch 11/25\n",
      "750/750 [==============================] - 28s 38ms/step - loss: 0.0275 - accuracy: 0.9936 - val_loss: 0.0417 - val_accuracy: 0.9905\n",
      "Epoch 12/25\n",
      "750/750 [==============================] - 28s 38ms/step - loss: 0.0328 - accuracy: 0.9922 - val_loss: 0.0708 - val_accuracy: 0.9898\n",
      "Epoch 13/25\n",
      "750/750 [==============================] - 28s 38ms/step - loss: 0.0291 - accuracy: 0.9933 - val_loss: 0.0847 - val_accuracy: 0.9886\n",
      "Epoch 14/25\n",
      "750/750 [==============================] - 28s 38ms/step - loss: 0.0253 - accuracy: 0.9939 - val_loss: 0.0580 - val_accuracy: 0.9899\n",
      "Epoch 15/25\n",
      "750/750 [==============================] - 28s 38ms/step - loss: 0.0360 - accuracy: 0.9921 - val_loss: 0.0443 - val_accuracy: 0.9909\n",
      "Epoch 16/25\n",
      "750/750 [==============================] - 28s 38ms/step - loss: 0.0197 - accuracy: 0.9952 - val_loss: 0.0408 - val_accuracy: 0.9924\n",
      "Epoch 17/25\n",
      "750/750 [==============================] - 28s 38ms/step - loss: 0.0185 - accuracy: 0.9954 - val_loss: 0.0556 - val_accuracy: 0.9899\n",
      "Epoch 18/25\n",
      "750/750 [==============================] - 29s 38ms/step - loss: 0.0313 - accuracy: 0.9933 - val_loss: 0.0434 - val_accuracy: 0.9921\n",
      "Epoch 19/25\n",
      "750/750 [==============================] - 28s 38ms/step - loss: 0.0202 - accuracy: 0.9952 - val_loss: 0.0657 - val_accuracy: 0.9911\n",
      "Epoch 20/25\n",
      "750/750 [==============================] - 28s 38ms/step - loss: 0.0234 - accuracy: 0.9948 - val_loss: 0.0496 - val_accuracy: 0.9921\n",
      "Epoch 21/25\n",
      "750/750 [==============================] - 28s 38ms/step - loss: 0.0295 - accuracy: 0.9936 - val_loss: 0.0532 - val_accuracy: 0.9900\n",
      "Epoch 22/25\n",
      "750/750 [==============================] - 28s 38ms/step - loss: 0.0254 - accuracy: 0.9944 - val_loss: 0.0441 - val_accuracy: 0.9923\n",
      "Epoch 23/25\n",
      "750/750 [==============================] - 28s 38ms/step - loss: 0.0320 - accuracy: 0.9941 - val_loss: 0.0603 - val_accuracy: 0.9843\n",
      "Epoch 24/25\n",
      "750/750 [==============================] - 28s 38ms/step - loss: 0.0280 - accuracy: 0.9939 - val_loss: 0.0528 - val_accuracy: 0.9915\n",
      "Epoch 25/25\n",
      "750/750 [==============================] - 28s 38ms/step - loss: 0.0167 - accuracy: 0.9962 - val_loss: 0.1036 - val_accuracy: 0.9893\n"
     ]
    }
   ],
   "source": [
    "model_VGG.compile(optimizer = 'adam',\n",
    "                  loss ='sparse_categorical_crossentropy',\n",
    "                  metrics=['accuracy'])\n",
    "hist = model_VGG.fit(x_train, y_train, epochs= 25, batch_size= 64, validation_split= 0.2)"
   ],
   "metadata": {
    "collapsed": false
   }
  },
  {
   "cell_type": "code",
   "execution_count": 36,
   "outputs": [
    {
     "data": {
      "text/plain": "{'loss': [0.055318739265203476,\n  0.0452476441860199,\n  0.04197930544614792,\n  0.03715350106358528,\n  0.0384671688079834,\n  0.0342501662671566,\n  0.027950098738074303,\n  0.03139139711856842,\n  0.03336797282099724,\n  0.030501024797558784,\n  0.02751108817756176,\n  0.032764386385679245,\n  0.02905394323170185,\n  0.025324422866106033,\n  0.03604843467473984,\n  0.0197235606610775,\n  0.018474185839295387,\n  0.03134750947356224,\n  0.020223546773195267,\n  0.023383943364024162,\n  0.029507238417863846,\n  0.025390630587935448,\n  0.03196965157985687,\n  0.028007926419377327,\n  0.016740769147872925],\n 'accuracy': [0.9860000014305115,\n  0.9882500171661377,\n  0.9898541569709778,\n  0.9906874895095825,\n  0.9907916784286499,\n  0.9914583563804626,\n  0.9928541779518127,\n  0.9929375052452087,\n  0.992312490940094,\n  0.9937499761581421,\n  0.9935833215713501,\n  0.992229163646698,\n  0.9932708144187927,\n  0.9938541650772095,\n  0.9920833110809326,\n  0.9952083230018616,\n  0.995395839214325,\n  0.9932500123977661,\n  0.995229184627533,\n  0.9947916865348816,\n  0.9936249852180481,\n  0.9943958520889282,\n  0.9941041469573975,\n  0.9938541650772095,\n  0.9961875081062317],\n 'val_loss': [0.06316819041967392,\n  0.054945703595876694,\n  0.05746440589427948,\n  0.05656718462705612,\n  0.04820863902568817,\n  0.039828598499298096,\n  0.04388023540377617,\n  0.05582421272993088,\n  0.07262575626373291,\n  0.054506659507751465,\n  0.04170495271682739,\n  0.07076123356819153,\n  0.08467970788478851,\n  0.05803634226322174,\n  0.044294580817222595,\n  0.04078229144215584,\n  0.05560227856040001,\n  0.043357644230127335,\n  0.06566157937049866,\n  0.049600157886743546,\n  0.05321825295686722,\n  0.044052641838788986,\n  0.0603160597383976,\n  0.05282406136393547,\n  0.1036335825920105],\n 'val_accuracy': [0.984749972820282,\n  0.9872499704360962,\n  0.9879999756813049,\n  0.9865000247955322,\n  0.9900000095367432,\n  0.9909999966621399,\n  0.9907500147819519,\n  0.9890000224113464,\n  0.9866666793823242,\n  0.9890833497047424,\n  0.9904999732971191,\n  0.9898333549499512,\n  0.9885833263397217,\n  0.9899166822433472,\n  0.9909166693687439,\n  0.9924166798591614,\n  0.9899166822433472,\n  0.9920833110809326,\n  0.9910833239555359,\n  0.9920833110809326,\n  0.9900000095367432,\n  0.9922500252723694,\n  0.984333336353302,\n  0.9915000200271606,\n  0.9892500042915344]}"
     },
     "execution_count": 36,
     "metadata": {},
     "output_type": "execute_result"
    }
   ],
   "source": [
    "hist.history"
   ],
   "metadata": {
    "collapsed": false
   }
  },
  {
   "cell_type": "code",
   "execution_count": 41,
   "outputs": [
    {
     "data": {
      "text/plain": "<Axes: >"
     },
     "execution_count": 41,
     "metadata": {},
     "output_type": "execute_result"
    },
    {
     "data": {
      "text/plain": "<Figure size 640x480 with 1 Axes>",
      "image/png": "[encoded data removed]"
     },
     "metadata": {},
     "output_type": "display_data"
    }
   ],
   "source": [
    "import seaborn as sns\n",
    "sns.lineplot(x = np.arange(0, len(hist.history['loss'])), y = hist.history['loss'])"
   ],
   "metadata": {
    "collapsed": false
   }
  },
  {
   "cell_type": "code",
   "execution_count": 42,
   "outputs": [
    {
     "data": {
      "text/plain": "<Axes: >"
     },
     "execution_count": 42,
     "metadata": {},
     "output_type": "execute_result"
    },
    {
     "data": {
      "text/plain": "<Figure size 640x480 with 1 Axes>",
      "image/png": "[encoded data removed]"
     },
     "metadata": {},
     "output_type": "display_data"
    }
   ],
   "source": [
    "sns.lineplot(x = np.arange(0, len(hist.history['accuracy'])), y = hist.history['accuracy'])"
   ],
   "metadata": {
    "collapsed": false
   }
  },
  {
   "cell_type": "code",
   "execution_count": 45,
   "outputs": [
    {
     "name": "stdout",
     "output_type": "stream",
     "text": [
      "313/313 [==============================] - 2s 8ms/step - loss: 0.1041 - accuracy: 0.9898\n"
     ]
    },
    {
     "data": {
      "text/plain": "[0.10413046926259995, 0.989799976348877]"
     },
     "execution_count": 45,
     "metadata": {},
     "output_type": "execute_result"
    }
   ],
   "source": [
    "model_VGG.evaluate(x_test, y_test)"
   ],
   "metadata": {
    "collapsed": false
   }
  }
 ],
 "metadata": {
  "kernelspec": {
   "display_name": "Python 3",
   "language": "python",
   "name": "python3"
  },
  "language_info": {
   "codemirror_mode": {
    "name": "ipython",
    "version": 2
   },
   "file_extension": ".py",
   "mimetype": "text/x-python",
   "name": "python",
   "nbconvert_exporter": "python",
   "pygments_lexer": "ipython2",
   "version": "2.7.6"
  }
 },
 "nbformat": 4,
 "nbformat_minor": 0
}
