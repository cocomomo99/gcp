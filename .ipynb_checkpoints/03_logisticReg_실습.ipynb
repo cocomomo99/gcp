{
 "cells": [
  {
   "cell_type": "code",
   "execution_count": 5,
   "metadata": {
    "collapsed": true
   },
   "outputs": [],
   "source": [
    "import pandas as pd\n",
    "import numpy as np\n",
    "import tensorflow as tf"
   ]
  },
  {
   "cell_type": "markdown",
   "source": [
    "# 실습 1"
   ],
   "metadata": {
    "collapsed": false
   }
  },
  {
   "cell_type": "code",
   "execution_count": 32,
   "outputs": [],
   "source": [
    "df = pd.read_csv('C:/Users/HOME/PycharmProjects/ai/.ipynb_checkpoints/data_set/data-03-diabetes.csv', ).to_numpy()"
   ],
   "metadata": {
    "collapsed": false
   }
  },
  {
   "cell_type": "code",
   "execution_count": 63,
   "outputs": [
    {
     "data": {
      "text/plain": "array([[-0.882353 , -0.145729 ,  0.0819672, ..., -0.766866 , -0.666667 ,\n         1.       ],\n       [-0.0588235,  0.839196 ,  0.0491803, ..., -0.492741 , -0.633333 ,\n         0.       ],\n       [-0.882353 , -0.105528 ,  0.0819672, ..., -0.923997 ,  0.       ,\n         1.       ],\n       ...,\n       [-0.411765 ,  0.21608  ,  0.180328 , ..., -0.857387 , -0.7      ,\n         1.       ],\n       [-0.882353 ,  0.266332 , -0.0163934, ..., -0.768574 , -0.133333 ,\n         0.       ],\n       [-0.882353 , -0.0653266,  0.147541 , ..., -0.797609 , -0.933333 ,\n         1.       ]])"
     },
     "execution_count": 63,
     "metadata": {},
     "output_type": "execute_result"
    }
   ],
   "source": [
    "df"
   ],
   "metadata": {
    "collapsed": false
   }
  },
  {
   "cell_type": "code",
   "execution_count": 64,
   "outputs": [],
   "source": [
    "train_num = 531\n",
    "\n",
    "train_x = tf.Variable(df[:train_num,:-1], dtype= tf.float32)\n",
    "train_y = tf.Variable(df[:train_num, -1], dtype= tf.float32)\n",
    "\n",
    "test_x = tf.Variable(df[train_num:, :-1], dtype= tf.float32)\n",
    "test_y = tf.Variable(df[train_num: -1], dtype= tf.float32)"
   ],
   "metadata": {
    "collapsed": false
   }
  },
  {
   "cell_type": "code",
   "execution_count": 65,
   "outputs": [
    {
     "data": {
      "text/plain": "(<tf.Variable 'Variable:0' shape=(531, 8) dtype=float32, numpy=\n array([[-0.882353 , -0.145729 ,  0.0819672, ..., -0.207153 , -0.766866 ,\n         -0.666667 ],\n        [-0.0588235,  0.839196 ,  0.0491803, ..., -0.305514 , -0.492741 ,\n         -0.633333 ],\n        [-0.882353 , -0.105528 ,  0.0819672, ..., -0.162444 , -0.923997 ,\n          0.       ],\n        ...,\n        [ 0.       , -0.427136 , -0.0163934, ..., -0.353204 , -0.438941 ,\n          0.533333 ],\n        [ 0.       ,  0.276382 ,  0.311475 , ...,  0.0819672, -0.380017 ,\n         -0.933333 ],\n        [-0.647059 ,  0.296482 ,  0.508197 , ...,  0.0849479, -0.239966 ,\n         -0.633333 ]], dtype=float32)>,\n <tf.Variable 'Variable:0' shape=(531,) dtype=float32, numpy=\n array([1., 0., 1., 0., 1., 0., 1., 0., 0., 1., 0., 1., 0., 0., 0., 0., 1.,\n        0., 1., 1., 0., 0., 0., 0., 1., 1., 1., 1., 0., 1., 1., 1., 1., 1.,\n        0., 0., 0., 1., 1., 1., 0., 1., 0., 1., 1., 0., 1., 1., 1., 1., 0.,\n        1., 1., 0., 1., 1., 1., 1., 0., 1., 1., 0., 1., 0., 1., 1., 1., 0.,\n        1., 0., 1., 1., 1., 1., 1., 0., 1., 1., 1., 1., 1., 0., 1., 1., 1.,\n        0., 1., 1., 1., 1., 0., 1., 1., 1., 1., 1., 0., 0., 1., 1., 1., 1.,\n        1., 1., 1., 1., 0., 0., 0., 1., 1., 0., 0., 0., 1., 1., 1., 0., 1.,\n        1., 1., 0., 0., 1., 1., 0., 0., 0., 0., 0., 1., 1., 1., 1., 1., 1.,\n        1., 1., 1., 1., 0., 1., 1., 1., 1., 1., 1., 1., 1., 0., 1., 0., 0.,\n        1., 1., 1., 0., 1., 1., 1., 1., 0., 0., 1., 1., 1., 1., 0., 0., 1.,\n        1., 1., 0., 1., 0., 1., 0., 1., 1., 1., 1., 1., 0., 0., 0., 0., 0.,\n        1., 1., 0., 0., 1., 0., 1., 0., 0., 0., 1., 1., 1., 1., 1., 1., 0.,\n        0., 1., 0., 1., 1., 1., 0., 0., 0., 0., 1., 0., 0., 0., 0., 1., 1.,\n        1., 1., 1., 0., 1., 1., 0., 0., 1., 1., 1., 0., 0., 0., 1., 1., 1.,\n        0., 0., 1., 0., 1., 1., 1., 1., 1., 1., 1., 1., 0., 0., 1., 1., 1.,\n        1., 0., 1., 1., 0., 1., 0., 1., 1., 0., 0., 1., 1., 1., 1., 1., 0.,\n        1., 1., 1., 0., 1., 1., 0., 0., 1., 0., 1., 1., 1., 0., 0., 0., 1.,\n        1., 0., 1., 0., 1., 0., 0., 1., 0., 1., 1., 0., 1., 0., 0., 1., 1.,\n        0., 1., 0., 1., 1., 0., 1., 0., 1., 0., 0., 0., 1., 1., 0., 1., 0.,\n        1., 1., 1., 0., 1., 1., 1., 1., 0., 0., 0., 1., 1., 1., 1., 1., 1.,\n        1., 1., 1., 0., 1., 1., 1., 1., 1., 0., 0., 0., 1., 0., 0., 1., 1.,\n        0., 1., 1., 0., 1., 1., 0., 0., 1., 1., 1., 1., 0., 1., 1., 0., 1.,\n        1., 1., 1., 1., 1., 1., 0., 0., 0., 1., 1., 0., 1., 1., 0., 1., 1.,\n        0., 1., 0., 0., 0., 1., 0., 1., 0., 1., 0., 0., 1., 1., 1., 1., 0.,\n        0., 1., 0., 1., 0., 1., 1., 1., 1., 0., 0., 1., 0., 1., 0., 1., 1.,\n        1., 1., 1., 0., 1., 1., 1., 1., 0., 1., 1., 0., 0., 0., 1., 1., 0.,\n        1., 1., 0., 1., 1., 1., 0., 1., 1., 1., 1., 1., 1., 1., 1., 1., 1.,\n        1., 0., 1., 1., 1., 1., 1., 1., 1., 0., 1., 1., 1., 0., 1., 1., 1.,\n        0., 0., 1., 1., 1., 1., 1., 1., 1., 0., 1., 1., 1., 1., 0., 1., 1.,\n        1., 0., 1., 1., 1., 0., 1., 1., 1., 0., 1., 1., 1., 1., 0., 0., 1.,\n        1., 1., 1., 1., 0., 1., 1., 1., 1., 1., 1., 1., 1., 1., 1., 1., 0.,\n        1., 1., 1., 0.], dtype=float32)>)"
     },
     "execution_count": 65,
     "metadata": {},
     "output_type": "execute_result"
    }
   ],
   "source": [
    "train_x, train_y"
   ],
   "metadata": {
    "collapsed": false
   }
  },
  {
   "cell_type": "code",
   "execution_count": 66,
   "outputs": [
    {
     "data": {
      "text/plain": "<tf.Variable 'Variable:0' shape=(227, 8) dtype=float32, numpy=\narray([[-0.0588235 ,  0.00502513,  0.213115  , ...,  0.174367  ,\n        -0.502135  , -0.266667  ],\n       [-0.647059  ,  0.286432  ,  0.180328  , ..., -0.0342771 ,\n        -0.59778   , -0.8       ],\n       [ 0.176471  , -0.0954774 ,  0.393443  , ...,  0.0402385 ,\n        -0.362084  ,  0.166667  ],\n       ...,\n       [-0.411765  ,  0.21608   ,  0.180328  , ..., -0.219076  ,\n        -0.857387  , -0.7       ],\n       [-0.882353  ,  0.266332  , -0.0163934 , ..., -0.102832  ,\n        -0.768574  , -0.133333  ],\n       [-0.882353  , -0.0653266 ,  0.147541  , ..., -0.0938897 ,\n        -0.797609  , -0.933333  ]], dtype=float32)>"
     },
     "execution_count": 66,
     "metadata": {},
     "output_type": "execute_result"
    }
   ],
   "source": [
    "test_x"
   ],
   "metadata": {
    "collapsed": false
   }
  },
  {
   "cell_type": "markdown",
   "source": [
    "# 가중치, 오차 초기화"
   ],
   "metadata": {
    "collapsed": false
   }
  },
  {
   "cell_type": "code",
   "execution_count": 67,
   "outputs": [
    {
     "data": {
      "text/plain": "(<tf.Variable 'weight:0' shape=(8, 1) dtype=float32, numpy=\n array([[-0.31876564],\n        [-0.47741324],\n        [-1.1692128 ],\n        [ 0.455473  ],\n        [ 0.6487608 ],\n        [-0.07611021],\n        [ 0.44030946],\n        [ 0.52626884]], dtype=float32)>,\n <tf.Variable 'bias:0' shape=(1, 1) dtype=float32, numpy=array([[-1.1782687]], dtype=float32)>)"
     },
     "execution_count": 67,
     "metadata": {},
     "output_type": "execute_result"
    }
   ],
   "source": [
    "w = tf.Variable(tf.random.normal([8,1], dtype=tf.float32), name = 'weight')\n",
    "b = tf.Variable(tf.random.normal([1,1], dtype=tf.float32), name= 'bias')\n",
    "w, b"
   ],
   "metadata": {
    "collapsed": false
   }
  },
  {
   "cell_type": "code",
   "execution_count": 93,
   "outputs": [],
   "source": [
    "def pred(x):\n",
    "    pred = tf.sigmoid(tf.matmul(x, w) + b)\n",
    "    target = tf.cast(pred > 0.5, dtype= tf.float32)\n",
    "    return target\n",
    "\n",
    "def cost_func():\n",
    "    pred = tf.sigmoid(tf.matmul(train_x, w) + b)\n",
    "    cost = - tf.reduce_mean(train_y * tf.math.log(pred) +\n",
    "                            (1 - train_y) * tf.math.log(1- pred))\n",
    "    return cost\n"
   ],
   "metadata": {
    "collapsed": false
   }
  },
  {
   "cell_type": "code",
   "execution_count": 75,
   "outputs": [
    {
     "data": {
      "text/plain": "<tf.Tensor: shape=(), dtype=float32, numpy=1.5838052>"
     },
     "execution_count": 75,
     "metadata": {},
     "output_type": "execute_result"
    }
   ],
   "source": [
    "cost_func()"
   ],
   "metadata": {
    "collapsed": false
   }
  },
  {
   "cell_type": "code",
   "execution_count": 77,
   "outputs": [
    {
     "name": "stdout",
     "output_type": "stream",
     "text": [
      "***** Start Learning!!\n",
      "0000 \n",
      " cost:[ 0.6452632 ]  W: [[ 2.4960400e-05]\n",
      " [ 5.5187746e-05]\n",
      " [-1.5856855e-05]\n",
      " [ 4.8769471e-05]\n",
      " [ 1.0647503e-04]\n",
      " [-1.7529183e-05]\n",
      " [ 5.8014040e-05]\n",
      " [ 8.6151413e-05]] \n",
      "  b: [[0.6342637]]\n",
      "0500 \n",
      " cost:[ 0.6452636 ]  W: [[-5.7184963e-08]\n",
      " [ 1.9671674e-08]\n",
      " [-7.8003097e-08]\n",
      " [ 3.4183319e-08]\n",
      " [ 6.5829880e-08]\n",
      " [ 1.7353787e-07]\n",
      " [-2.1048418e-08]\n",
      " [ 2.0356900e-08]] \n",
      "  b: [[0.63438904]]\n",
      "1000 \n",
      " cost:[ 0.64526296 ]  W: [[ 2.0029850e-07]\n",
      " [-2.9485929e-07]\n",
      " [-2.3242166e-07]\n",
      " [ 2.1487293e-07]\n",
      " [ 1.5064634e-07]\n",
      " [ 2.3321354e-07]\n",
      " [ 2.5796936e-07]\n",
      " [ 2.0276252e-07]] \n",
      "  b: [[0.6343889]]\n",
      "1500 \n",
      " cost:[ 0.64526355 ]  W: [[ 0.00052418]\n",
      " [-0.00052324]\n",
      " [-0.00052763]\n",
      " [ 0.00052432]\n",
      " [ 0.0005226 ]\n",
      " [ 0.00051104]\n",
      " [ 0.00052904]\n",
      " [ 0.00052447]] \n",
      "  b: [[0.6338677]]\n",
      "2000 \n",
      " cost:[ 0.6452636 ]  W: [[-1.2253301e-07]\n",
      " [-2.0582718e-08]\n",
      " [ 6.2323593e-08]\n",
      " [-8.8719467e-08]\n",
      " [-1.6731815e-07]\n",
      " [ 2.7617872e-07]\n",
      " [-7.3256068e-08]\n",
      " [-1.4734690e-07]] \n",
      "  b: [[0.6343891]]\n",
      "2500 \n",
      " cost:[ 0.6452698 ]  W: [[ 0.00205043]\n",
      " [-0.00206469]\n",
      " [-0.00203958]\n",
      " [ 0.00205234]\n",
      " [ 0.00205133]\n",
      " [ 0.00202693]\n",
      " [ 0.00205913]\n",
      " [ 0.00204899]] \n",
      "  b: [[0.6323482]]\n",
      "3000 \n",
      " cost:[ 0.64526343 ]  W: [[ 0.0003703 ]\n",
      " [-0.00036467]\n",
      " [-0.00037897]\n",
      " [ 0.00036187]\n",
      " [ 0.00036318]\n",
      " [ 0.00037217]\n",
      " [ 0.00035366]\n",
      " [ 0.00036883]] \n",
      "  b: [[0.63399285]]\n",
      "3500 \n",
      " cost:[ 0.6452632 ]  W: [[ 7.9641293e-05]\n",
      " [-8.0098573e-05]\n",
      " [-7.7401288e-05]\n",
      " [ 8.0271449e-05]\n",
      " [ 8.0591417e-05]\n",
      " [ 8.0984726e-05]\n",
      " [ 7.9084537e-05]\n",
      " [ 7.8985991e-05]] \n",
      "  b: [[0.63430715]]\n",
      "4000 \n",
      " cost:[ 0.64526314 ]  W: [[-2.8254522e-05]\n",
      " [ 2.7722010e-05]\n",
      " [ 2.8919676e-05]\n",
      " [-2.8898903e-05]\n",
      " [-2.8906783e-05]\n",
      " [-2.8498049e-05]\n",
      " [-2.9037823e-05]\n",
      " [-2.8550297e-05]] \n",
      "  b: [[0.634417]]\n",
      "4500 \n",
      " cost:[ 0.6452632 ]  W: [[ 8.3965831e-05]\n",
      " [-8.3856532e-05]\n",
      " [-8.4069034e-05]\n",
      " [ 8.4242492e-05]\n",
      " [ 8.4504558e-05]\n",
      " [ 8.3001636e-05]\n",
      " [ 8.4707353e-05]\n",
      " [ 8.4229163e-05]] \n",
      "  b: [[0.63430506]]\n",
      "5000 \n",
      " cost:[ 0.6452636 ]  W: [[-9.4989610e-07]\n",
      " [ 9.4175130e-07]\n",
      " [ 9.5323259e-07]\n",
      " [-9.3214857e-07]\n",
      " [-9.3699219e-07]\n",
      " [-9.5190802e-07]\n",
      " [-9.4921955e-07]\n",
      " [-9.4008078e-07]] \n",
      "  b: [[0.6343901]]\n",
      "***** Learning Finished!!\n"
     ]
    }
   ],
   "source": [
    "optimizer = tf.optimizers.Adam(learning_rate=0.03)\n",
    "\n",
    "print('***** Start Learning!!')\n",
    "for step in range(5001):\n",
    "    optimizer.minimize(loss=cost_func, var_list=[w, b])\n",
    "    if step % 500 == 0:\n",
    "        print('%04d' % step,'\\n', 'cost:[', cost_func().numpy(), ']',\n",
    "              ' W:', w.numpy(),'\\n', ' b:', b.numpy())\n",
    "print('***** Learning Finished!!')"
   ],
   "metadata": {
    "collapsed": false
   }
  },
  {
   "cell_type": "markdown",
   "source": [
    "# 실습 2"
   ],
   "metadata": {
    "collapsed": false
   }
  },
  {
   "cell_type": "code",
   "execution_count": 85,
   "outputs": [
    {
     "data": {
      "text/plain": "array([[22,  1,  0,  2,  0,  0],\n       [26,  2,  0,  1,  0,  1],\n       [26,  2,  1,  1,  0,  0],\n       [28,  1,  0,  2,  0,  0],\n       [22,  2,  0,  1,  0,  1],\n       [26,  1,  1,  0,  0,  0],\n       [27,  2,  0,  1,  0,  0],\n       [32,  3,  0,  1,  0,  1],\n       [28,  2,  0,  1,  0,  0],\n       [27,  1,  1,  1,  0,  1],\n       [36,  1,  0,  1,  0,  0],\n       [33,  1,  1,  0,  0,  1],\n       [23,  1,  1,  1,  0,  0],\n       [20,  1,  0,  1,  1,  0],\n       [29,  1,  2,  0,  1,  1],\n       [25,  1,  2,  0,  0,  0],\n       [25,  1,  0,  1,  0,  0],\n       [20,  1,  2,  2,  0,  1],\n       [37,  3,  0,  1,  1,  1],\n       [24,  1,  2,  0,  1,  1],\n       [26,  1,  1,  1,  0,  0],\n       [33,  2,  0,  0,  1,  1],\n       [25,  1,  1,  2,  0,  0],\n       [27,  1,  0,  0,  1,  1],\n       [20,  1,  0,  2,  1,  1],\n       [18,  1,  0,  1,  0,  0],\n       [18,  1,  1,  2,  1,  1],\n       [30,  1,  0,  1,  0,  0],\n       [32,  1,  0,  2,  1,  1],\n       [26,  2,  1,  1,  1,  0],\n       [25,  1,  0,  0,  0,  0],\n       [40,  1,  0,  1,  1,  1],\n       [32,  2,  0,  2,  1,  1],\n       [27,  2,  0,  1,  1,  1],\n       [26,  2,  2,  1,  0,  1],\n       [28,  3,  0,  2,  0,  1],\n       [33,  1,  1,  1,  0,  0],\n       [31,  2,  2,  1,  0,  0],\n       [31,  1,  0,  1,  0,  0],\n       [26,  1,  2,  0,  1,  1],\n       [27,  1,  0,  2,  1,  1],\n       [19,  1,  0,  1,  0,  1],\n       [36,  1,  1,  2,  0,  1],\n       [22,  1,  0,  1,  0,  1],\n       [36,  4,  0,  2,  1,  1],\n       [28,  3,  0,  1,  1,  1],\n       [26,  1,  0,  1,  0,  0],\n       [32,  2,  0,  2,  1,  1],\n       [26,  2,  2,  1,  0,  0],\n       [29,  2,  0,  0,  1,  1],\n       [33,  3,  2,  1,  1,  0],\n       [21,  2,  1,  0,  1,  1],\n       [30,  3,  2,  2,  0,  0],\n       [35,  1,  1,  0,  0,  0],\n       [29,  2,  0,  1,  1,  1],\n       [25,  2,  0,  1,  0,  0],\n       [32,  3,  1,  0,  1,  1],\n       [21,  1,  0,  0,  0,  1],\n       [26,  1,  0,  2,  0,  1],\n       [30,  2,  1,  2,  1,  1],\n       [22,  1,  2,  2,  0,  0],\n       [19,  1,  0,  1,  0,  1],\n       [32,  2,  0,  0,  0,  1],\n       [32,  2,  0,  1,  1,  1],\n       [31,  1,  2,  2,  1,  0],\n       [35,  2,  0,  1,  0,  1],\n       [28,  3,  0,  1,  0,  1],\n       [29,  2,  0,  1,  1,  0],\n       [25,  1,  0,  0,  0,  1],\n       [27,  2,  2,  0,  0,  0],\n       [17,  1,  0,  0,  0,  1],\n       [29,  1,  2,  0,  1,  1],\n       [28,  2,  0,  1,  0,  0],\n       [32,  3,  0,  1,  1,  0],\n       [38,  3,  2,  2,  1,  1],\n       [27,  2,  1,  1,  0,  0],\n       [33,  4,  0,  1,  0,  1],\n       [29,  2,  1,  2,  0,  1],\n       [25,  1,  2,  0,  0,  1],\n       [24,  2,  2,  1,  0,  0]], dtype=int64)"
     },
     "execution_count": 85,
     "metadata": {},
     "output_type": "execute_result"
    }
   ],
   "source": [
    "df2 = pd.read_csv('C:/Users/HOME/PycharmProjects/ai/.ipynb_checkpoints/data_set/caesarian.csv', header= None)\n",
    "df2"
   ],
   "metadata": {
    "collapsed": false
   }
  },
  {
   "cell_type": "code",
   "execution_count": 90,
   "outputs": [
    {
     "data": {
      "text/plain": "(<tf.Variable 'Variable:0' shape=(64, 5) dtype=float32, numpy=\n array([[22.,  1.,  0.,  2.,  0.],\n        [26.,  2.,  0.,  1.,  0.],\n        [26.,  2.,  1.,  1.,  0.],\n        [28.,  1.,  0.,  2.,  0.],\n        [22.,  2.,  0.,  1.,  0.],\n        [26.,  1.,  1.,  0.,  0.],\n        [27.,  2.,  0.,  1.,  0.],\n        [32.,  3.,  0.,  1.,  0.],\n        [28.,  2.,  0.,  1.,  0.],\n        [27.,  1.,  1.,  1.,  0.],\n        [36.,  1.,  0.,  1.,  0.],\n        [33.,  1.,  1.,  0.,  0.],\n        [23.,  1.,  1.,  1.,  0.],\n        [20.,  1.,  0.,  1.,  1.],\n        [29.,  1.,  2.,  0.,  1.],\n        [25.,  1.,  2.,  0.,  0.],\n        [25.,  1.,  0.,  1.,  0.],\n        [20.,  1.,  2.,  2.,  0.],\n        [37.,  3.,  0.,  1.,  1.],\n        [24.,  1.,  2.,  0.,  1.],\n        [26.,  1.,  1.,  1.,  0.],\n        [33.,  2.,  0.,  0.,  1.],\n        [25.,  1.,  1.,  2.,  0.],\n        [27.,  1.,  0.,  0.,  1.],\n        [20.,  1.,  0.,  2.,  1.],\n        [18.,  1.,  0.,  1.,  0.],\n        [18.,  1.,  1.,  2.,  1.],\n        [30.,  1.,  0.,  1.,  0.],\n        [32.,  1.,  0.,  2.,  1.],\n        [26.,  2.,  1.,  1.,  1.],\n        [25.,  1.,  0.,  0.,  0.],\n        [40.,  1.,  0.,  1.,  1.],\n        [32.,  2.,  0.,  2.,  1.],\n        [27.,  2.,  0.,  1.,  1.],\n        [26.,  2.,  2.,  1.,  0.],\n        [28.,  3.,  0.,  2.,  0.],\n        [33.,  1.,  1.,  1.,  0.],\n        [31.,  2.,  2.,  1.,  0.],\n        [31.,  1.,  0.,  1.,  0.],\n        [26.,  1.,  2.,  0.,  1.],\n        [27.,  1.,  0.,  2.,  1.],\n        [19.,  1.,  0.,  1.,  0.],\n        [36.,  1.,  1.,  2.,  0.],\n        [22.,  1.,  0.,  1.,  0.],\n        [36.,  4.,  0.,  2.,  1.],\n        [28.,  3.,  0.,  1.,  1.],\n        [26.,  1.,  0.,  1.,  0.],\n        [32.,  2.,  0.,  2.,  1.],\n        [26.,  2.,  2.,  1.,  0.],\n        [29.,  2.,  0.,  0.,  1.],\n        [33.,  3.,  2.,  1.,  1.],\n        [21.,  2.,  1.,  0.,  1.],\n        [30.,  3.,  2.,  2.,  0.],\n        [35.,  1.,  1.,  0.,  0.],\n        [29.,  2.,  0.,  1.,  1.],\n        [25.,  2.,  0.,  1.,  0.],\n        [32.,  3.,  1.,  0.,  1.],\n        [21.,  1.,  0.,  0.,  0.],\n        [26.,  1.,  0.,  2.,  0.],\n        [30.,  2.,  1.,  2.,  1.],\n        [22.,  1.,  2.,  2.,  0.],\n        [19.,  1.,  0.,  1.,  0.],\n        [32.,  2.,  0.,  0.,  0.],\n        [32.,  2.,  0.,  1.,  1.]], dtype=float32)>,\n <tf.Variable 'Variable:0' shape=(64,) dtype=float32, numpy=\n array([0., 1., 0., 0., 1., 0., 0., 1., 0., 1., 0., 1., 0., 0., 1., 0., 0.,\n        1., 1., 1., 0., 1., 0., 1., 1., 0., 1., 0., 1., 0., 0., 1., 1., 1.,\n        1., 1., 0., 0., 0., 1., 1., 1., 1., 1., 1., 1., 0., 1., 0., 1., 0.,\n        1., 0., 0., 1., 0., 1., 1., 1., 1., 0., 1., 1., 1.], dtype=float32)>)"
     },
     "execution_count": 90,
     "metadata": {},
     "output_type": "execute_result"
    }
   ],
   "source": [
    "train_x = tf.Variable(df2[:64, :-1], dtype= tf.float32)\n",
    "train_y = tf.Variable(df2[:64, -1], dtype= tf.float32)\n",
    "\n",
    "test_x = tf.Variable(df2[64:, :-1], dtype= tf.float32)\n",
    "test_y = tf.Variable(df2[64:, -1], dtype= tf.float32)\n",
    "\n",
    "train_x, train_y"
   ],
   "metadata": {
    "collapsed": false
   }
  },
  {
   "cell_type": "markdown",
   "source": [
    "## 가중치 초기화"
   ],
   "metadata": {
    "collapsed": false
   }
  },
  {
   "cell_type": "code",
   "execution_count": 96,
   "outputs": [
    {
     "data": {
      "text/plain": "(<tf.Variable 'weight:0' shape=(5, 1) dtype=float32, numpy=\n array([[ 0.12620011],\n        [ 1.9413121 ],\n        [ 0.691379  ],\n        [ 0.04644853],\n        [-0.25955227]], dtype=float32)>,\n <tf.Variable 'bias:0' shape=(1, 1) dtype=float32, numpy=array([[-0.8319111]], dtype=float32)>)"
     },
     "execution_count": 96,
     "metadata": {},
     "output_type": "execute_result"
    }
   ],
   "source": [
    "w = tf.Variable(tf.random.normal([ 5, 1 ], dtype=tf.float32), name='weight')\n",
    "b = tf.Variable(tf.random.normal([ 1, 1 ], dtype=tf.float32), name='bias')\n",
    "w, b"
   ],
   "metadata": {
    "collapsed": false
   }
  },
  {
   "cell_type": "code",
   "execution_count": 120,
   "outputs": [],
   "source": [
    "def pred(x):\n",
    "    pred = tf.sigmoid(tf.matmul(x, w) + b)\n",
    "    target = tf.cast(pred > 0.5, dtype=tf.float32)\n",
    "    return target\n",
    "\n",
    "\n",
    "def cost_func():\n",
    "    pred = tf.sigmoid(tf.matmul(train_x, w) + b)\n",
    "    cost = - tf.reduce_mean(train_y * tf.math.log(pred) +\n",
    "                            (1 - train_y) * tf.math.log(1 - pred))\n",
    "    return cost\n",
    "\n",
    "def accuracy(pred_y, y):\n",
    "    return tf.reduce_mean(tf.cast(tf.equal(pred_y, y), dtype= tf.float32))"
   ],
   "metadata": {
    "collapsed": false
   }
  },
  {
   "cell_type": "code",
   "execution_count": 107,
   "outputs": [
    {
     "data": {
      "text/plain": "<tf.Tensor: shape=(), dtype=float32, numpy=0.68328196>"
     },
     "execution_count": 107,
     "metadata": {},
     "output_type": "execute_result"
    }
   ],
   "source": [
    "cost_func()"
   ],
   "metadata": {
    "collapsed": false
   }
  },
  {
   "cell_type": "code",
   "execution_count": 99,
   "outputs": [
    {
     "name": "stdout",
     "output_type": "stream",
     "text": [
      "***** Start Learning!!\n",
      "0000 \n",
      " cost:[ 2.1597493 ]  W: [[ 0.09620012]\n",
      " [ 1.9113122 ]\n",
      " [ 0.6613794 ]\n",
      " [ 0.01644875]\n",
      " [-0.28955168]] \n",
      "  b: [[-0.8619109]]\n",
      "0500 \n",
      " cost:[ 0.6813196 ]  W: [[ 0.01136384]\n",
      " [-0.00277362]\n",
      " [ 0.01718964]\n",
      " [ 0.02698202]\n",
      " [-0.00497459]] \n",
      "  b: [[-0.03788123]]\n",
      "1000 \n",
      " cost:[ 0.6808919 ]  W: [[ 0.00075934]\n",
      " [-0.00017957]\n",
      " [ 0.00115319]\n",
      " [ 0.00180094]\n",
      " [-0.00033735]] \n",
      "  b: [[0.29147127]]\n",
      "1500 \n",
      " cost:[ 0.6808901 ]  W: [[ 1.1816281e-05]\n",
      " [-2.7929118e-06]\n",
      " [ 1.7970195e-05]\n",
      " [ 2.8017945e-05]\n",
      " [-5.2236960e-06]] \n",
      "  b: [[0.31471366]]\n",
      "2000 \n",
      " cost:[ 0.68088996 ]  W: [[ 2.0007883e-08]\n",
      " [-6.1449428e-09]\n",
      " [ 3.2205186e-08]\n",
      " [ 3.9022435e-08]\n",
      " [-1.0460835e-08]] \n",
      "  b: [[0.31508043]]\n",
      "2500 \n",
      " cost:[ 0.6808902 ]  W: [[2.8120841e-08]\n",
      " [1.8715024e-08]\n",
      " [2.3793570e-08]\n",
      " [3.5366114e-08]\n",
      " [2.0584585e-08]] \n",
      "  b: [[0.31508097]]\n",
      "3000 \n",
      " cost:[ 0.6808899 ]  W: [[-2.7580260e-08]\n",
      " [-2.4481835e-08]\n",
      " [-2.7297837e-08]\n",
      " [-3.2885957e-08]\n",
      " [-1.1031932e-08]] \n",
      "  b: [[0.31508106]]\n",
      "3500 \n",
      " cost:[ 0.68088996 ]  W: [[-3.8362584e-09]\n",
      " [ 7.5756237e-09]\n",
      " [-6.8785955e-10]\n",
      " [-2.9527472e-08]\n",
      " [-7.0302377e-09]] \n",
      "  b: [[0.315081]]\n",
      "4000 \n",
      " cost:[ 0.68089044 ]  W: [[-4.0986619e-05]\n",
      " [-5.4105847e-05]\n",
      " [-3.4683151e-05]\n",
      " [-2.5791713e-05]\n",
      " [-5.9918864e-05]] \n",
      "  b: [[0.31472918]]\n",
      "4500 \n",
      " cost:[ 0.6808903 ]  W: [[4.2228955e-08]\n",
      " [4.6313431e-08]\n",
      " [5.0341104e-08]\n",
      " [3.3241321e-08]\n",
      " [5.6819438e-08]] \n",
      "  b: [[0.31508112]]\n",
      "5000 \n",
      " cost:[ 0.68328196 ]  W: [[0.00433188]\n",
      " [0.0042894 ]\n",
      " [0.00427247]\n",
      " [0.0042936 ]\n",
      " [0.00444023]] \n",
      "  b: [[0.31930083]]\n",
      "***** Learning Finished!!\n"
     ]
    }
   ],
   "source": [
    "optimizer = tf.optimizers.Adam(learning_rate=0.03)\n",
    "\n",
    "print('***** Start Learning!!')\n",
    "for step in range(5001):\n",
    "    optimizer.minimize(loss=cost_func, var_list=[w, b])\n",
    "    if step % 500 == 0:\n",
    "        print('%04d' % step,'\\n', 'cost:[', cost_func().numpy(), ']',\n",
    "              ' W:', w.numpy(),'\\n', ' b:', b.numpy())\n",
    "print('***** Learning Finished!!')"
   ],
   "metadata": {
    "collapsed": false
   }
  },
  {
   "cell_type": "code",
   "execution_count": 113,
   "outputs": [
    {
     "data": {
      "text/plain": "<tf.Tensor: shape=(16, 1), dtype=float32, numpy=\narray([[1.],\n       [1.],\n       [1.],\n       [1.],\n       [1.],\n       [1.],\n       [1.],\n       [1.],\n       [1.],\n       [1.],\n       [1.],\n       [1.],\n       [1.],\n       [1.],\n       [1.],\n       [1.]], dtype=float32)>"
     },
     "execution_count": 113,
     "metadata": {},
     "output_type": "execute_result"
    }
   ],
   "source": [
    "pred_y = pred(test_x)\n",
    "pred_y"
   ],
   "metadata": {
    "collapsed": false
   }
  },
  {
   "cell_type": "code",
   "execution_count": 121,
   "outputs": [
    {
     "data": {
      "text/plain": "<tf.Tensor: shape=(), dtype=float32, numpy=0.5625>"
     },
     "execution_count": 121,
     "metadata": {},
     "output_type": "execute_result"
    }
   ],
   "source": [
    "accuracy(pred_y, test_y)"
   ],
   "metadata": {
    "collapsed": false
   }
  },
  {
   "cell_type": "code",
   "execution_count": null,
   "outputs": [],
   "source": [],
   "metadata": {
    "collapsed": false
   }
  }
 ],
 "metadata": {
  "kernelspec": {
   "display_name": "Python 3",
   "language": "python",
   "name": "python3"
  },
  "language_info": {
   "codemirror_mode": {
    "name": "ipython",
    "version": 2
   },
   "file_extension": ".py",
   "mimetype": "text/x-python",
   "name": "python",
   "nbconvert_exporter": "python",
   "pygments_lexer": "ipython2",
   "version": "2.7.6"
  }
 },
 "nbformat": 4,
 "nbformat_minor": 0
}
