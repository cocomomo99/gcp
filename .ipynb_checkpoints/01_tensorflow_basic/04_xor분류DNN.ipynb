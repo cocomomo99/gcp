{
 "cells": [
  {
   "cell_type": "code",
   "execution_count": 1,
   "metadata": {
    "collapsed": true
   },
   "outputs": [],
   "source": [
    "import tensorflow as tf\n",
    "import numpy as np\n"
   ]
  },
  {
   "cell_type": "markdown",
   "source": [
    "xor : 1 layer\n",
    "2진분류 : 2 layer\n",
    "활성화 함수 : sigmoid"
   ],
   "metadata": {
    "collapsed": false
   }
  },
  {
   "cell_type": "code",
   "execution_count": 5,
   "outputs": [],
   "source": [
    "# train data set\n",
    "x_data = [[0,0],\n",
    "          [0,1],\n",
    "          [1,0],\n",
    "          [1,1]]\n",
    "\n",
    "y_data = [[0],\n",
    "          [1],\n",
    "          [1],\n",
    "          [0]]\n",
    "\n",
    "x_train = np.array(x_data,dtype= float)\n",
    "y_train = np.array(y_data,dtype= float)"
   ],
   "metadata": {
    "collapsed": false
   }
  },
  {
   "cell_type": "code",
   "execution_count": 14,
   "outputs": [
    {
     "data": {
      "text/plain": "(<tf.Variable 'weight:0' shape=(2, 2) dtype=float64, numpy=\n array([[0.04341093, 0.41730428],\n        [0.72496813, 0.71284793]])>,\n <tf.Variable 'bias:0' shape=(2,) dtype=float64, numpy=array([0.65971156, 0.37093444])>)"
     },
     "execution_count": 14,
     "metadata": {},
     "output_type": "execute_result"
    }
   ],
   "source": [
    "w = tf.Variable(np.random.random([2, 2]), dtype=tf.float64, name='weight')\n",
    "b = tf.Variable(np.random.random([2]), dtype=tf.float64, name='bias')\n",
    "w, b"
   ],
   "metadata": {
    "collapsed": false
   }
  },
  {
   "cell_type": "code",
   "execution_count": 15,
   "outputs": [],
   "source": [
    "def logit(x):\n",
    "    return tf.matmul(x, w) + b\n",
    "\n",
    "\n",
    "def cost():\n",
    "    return tf.nn.softmax(logit(x_train))"
   ],
   "metadata": {
    "collapsed": false
   }
  },
  {
   "cell_type": "code",
   "execution_count": 16,
   "outputs": [
    {
     "data": {
      "text/plain": "<tf.Tensor: shape=(4, 2), dtype=float64, numpy=\narray([[0.57169673, 0.42830327],\n       [0.57466186, 0.42533814],\n       [0.47873378, 0.52126622],\n       [0.48175909, 0.51824091]])>"
     },
     "execution_count": 16,
     "metadata": {},
     "output_type": "execute_result"
    }
   ],
   "source": [
    "cost()"
   ],
   "metadata": {
    "collapsed": false
   }
  },
  {
   "cell_type": "code",
   "execution_count": 17,
   "outputs": [
    {
     "name": "stdout",
     "output_type": "stream",
     "text": [
      "***** Start Learning!!\n",
      "0000 \n",
      " cost :\n",
      " [[0.57169673 0.42830327]\n",
      " [0.57466186 0.42533814]\n",
      " [0.47873378 0.52126622]\n",
      " [0.48175909 0.51824091]] ] \n",
      "  W :\n",
      " [[0.04341093 0.41730428]\n",
      " [0.72496813 0.71284793]] \n",
      "  b :\n",
      " [0.65971156 0.37093444]\n",
      "0500 \n",
      " cost :\n",
      " [[0.57169673 0.42830327]\n",
      " [0.57466186 0.42533814]\n",
      " [0.47873378 0.52126622]\n",
      " [0.48175909 0.51824091]] ] \n",
      "  W :\n",
      " [[0.04341093 0.41730428]\n",
      " [0.72496813 0.71284793]] \n",
      "  b :\n",
      " [0.65971156 0.37093444]\n",
      "1000 \n",
      " cost :\n",
      " [[0.57169673 0.42830327]\n",
      " [0.57466186 0.42533814]\n",
      " [0.47873378 0.52126622]\n",
      " [0.48175909 0.51824091]] ] \n",
      "  W :\n",
      " [[0.04341093 0.41730427]\n",
      " [0.72496812 0.71284793]] \n",
      "  b :\n",
      " [0.65971156 0.37093444]\n",
      "1500 \n",
      " cost :\n",
      " [[0.57169673 0.42830327]\n",
      " [0.57466186 0.42533814]\n",
      " [0.47873378 0.52126622]\n",
      " [0.48175909 0.51824091]] ] \n",
      "  W :\n",
      " [[0.04341093 0.41730427]\n",
      " [0.72496812 0.71284793]] \n",
      "  b :\n",
      " [0.65971155 0.37093443]\n",
      "2000 \n",
      " cost :\n",
      " [[0.57169673 0.42830327]\n",
      " [0.57466186 0.42533814]\n",
      " [0.47873378 0.52126622]\n",
      " [0.48175909 0.51824091]] ] \n",
      "  W :\n",
      " [[0.04341092 0.41730427]\n",
      " [0.72496812 0.71284793]] \n",
      "  b :\n",
      " [0.65971154 0.37093443]\n",
      "2500 \n",
      " cost :\n",
      " [[0.57169672 0.42830328]\n",
      " [0.57466186 0.42533814]\n",
      " [0.47873378 0.52126622]\n",
      " [0.48175909 0.51824091]] ] \n",
      "  W :\n",
      " [[0.04341092 0.41730427]\n",
      " [0.72496812 0.71284792]] \n",
      "  b :\n",
      " [0.65971154 0.37093442]\n",
      "3000 \n",
      " cost :\n",
      " [[0.57169672 0.42830328]\n",
      " [0.57466186 0.42533814]\n",
      " [0.47873378 0.52126622]\n",
      " [0.48175909 0.51824091]] ] \n",
      "  W :\n",
      " [[0.04341092 0.41730426]\n",
      " [0.72496811 0.71284792]] \n",
      "  b :\n",
      " [0.65971153 0.37093442]\n",
      "3500 \n",
      " cost :\n",
      " [[0.57169672 0.42830328]\n",
      " [0.57466186 0.42533814]\n",
      " [0.47873378 0.52126622]\n",
      " [0.48175909 0.51824091]] ] \n",
      "  W :\n",
      " [[0.04341091 0.41730426]\n",
      " [0.72496811 0.71284792]] \n",
      "  b :\n",
      " [0.65971153 0.37093441]\n",
      "4000 \n",
      " cost :\n",
      " [[0.57169672 0.42830328]\n",
      " [0.57466186 0.42533814]\n",
      " [0.47873378 0.52126622]\n",
      " [0.48175909 0.51824091]] ] \n",
      "  W :\n",
      " [[0.04341091 0.41730425]\n",
      " [0.72496811 0.71284791]] \n",
      "  b :\n",
      " [0.65971152 0.3709344 ]\n",
      "4500 \n",
      " cost :\n",
      " [[0.57169672 0.42830328]\n",
      " [0.57466186 0.42533814]\n",
      " [0.47873378 0.52126622]\n",
      " [0.48175909 0.51824091]] ] \n",
      "  W :\n",
      " [[0.0434109  0.41730425]\n",
      " [0.7249681  0.71284791]] \n",
      "  b :\n",
      " [0.65971152 0.3709344 ]\n",
      "5000 \n",
      " cost :\n",
      " [[0.57169672 0.42830328]\n",
      " [0.57466186 0.42533814]\n",
      " [0.47873378 0.52126622]\n",
      " [0.48175909 0.51824091]] ] \n",
      "  W :\n",
      " [[0.0434109  0.41730425]\n",
      " [0.7249681  0.71284791]] \n",
      "  b :\n",
      " [0.65971151 0.37093439]\n",
      "***** Learning Finished!!\n"
     ]
    }
   ],
   "source": [
    "optimizer = tf.optimizers.Adam(learning_rate= 0.05)\n",
    "\n",
    "print('***** Start Learning!!')\n",
    "for step in range(5001):\n",
    "    optimizer.minimize(loss=cost, var_list=[w, b])\n",
    "    if step % 500 == 0:\n",
    "        print('%04d' % step,'\\n', 'cost :\\n', cost().numpy(), ']', '\\n',\n",
    "              ' W :\\n', w.numpy(),'\\n', ' b :\\n', b.numpy())\n",
    "print('***** Learning Finished!!')"
   ],
   "metadata": {
    "collapsed": false
   }
  },
  {
   "cell_type": "code",
   "execution_count": 18,
   "outputs": [],
   "source": [
    "def pred():\n",
    "    return tf.argmax(tf.exp(logit(x_train)), axis= 1)"
   ],
   "metadata": {
    "collapsed": false
   }
  },
  {
   "cell_type": "code",
   "execution_count": 19,
   "outputs": [
    {
     "data": {
      "text/plain": "<tf.Tensor: shape=(4,), dtype=int64, numpy=array([0, 0, 1, 1], dtype=int64)>"
     },
     "execution_count": 19,
     "metadata": {},
     "output_type": "execute_result"
    }
   ],
   "source": [
    "pred()"
   ],
   "metadata": {
    "collapsed": false
   }
  },
  {
   "cell_type": "markdown",
   "source": [
    "# 2 layer 구현"
   ],
   "metadata": {
    "collapsed": false
   }
  },
  {
   "cell_type": "code",
   "execution_count": 30,
   "outputs": [
    {
     "data": {
      "text/plain": "(<tf.Variable 'weight1:0' shape=(2, 2) dtype=float64, numpy=\n array([[0.94997905, 0.12687257],\n        [0.33540152, 0.17602637]])>,\n <tf.Variable 'bias1:0' shape=(2,) dtype=float64, numpy=array([0.57646432, 0.62372596])>)"
     },
     "execution_count": 30,
     "metadata": {},
     "output_type": "execute_result"
    }
   ],
   "source": [
    "w1 = tf.Variable(np.random.random([2, 2]), dtype=tf.float64, name='weight1')\n",
    "b1 = tf.Variable(np.random.random([2]), dtype=tf.float64, name='bias1')\n",
    "w1, b1"
   ],
   "metadata": {
    "collapsed": false
   }
  },
  {
   "cell_type": "code",
   "execution_count": 31,
   "outputs": [
    {
     "data": {
      "text/plain": "(<tf.Variable 'weight2:0' shape=(2, 1) dtype=float64, numpy=\n array([[0.80996924],\n        [0.38002478]])>,\n <tf.Variable 'bias2:0' shape=(1,) dtype=float64, numpy=array([0.57226584])>)"
     },
     "execution_count": 31,
     "metadata": {},
     "output_type": "execute_result"
    }
   ],
   "source": [
    "w2 = tf.Variable(np.random.random([2, 1]), dtype=tf.float64, name='weight2')\n",
    "b2 = tf.Variable(np.random.random([1]), dtype=tf.float64, name='bias2')\n",
    "w2, b2"
   ],
   "metadata": {
    "collapsed": false
   }
  },
  {
   "cell_type": "code",
   "execution_count": 32,
   "outputs": [],
   "source": [
    "def layer1(x):\n",
    "    return tf.nn.sigmoid(tf.matmul(x, w1) + b1)\n",
    "\n",
    "def layer2(x):\n",
    "    layer1_output = layer1(x)\n",
    "    hypothesis = tf.nn.sigmoid(tf.matmul(layer1_output, w2) + b2)\n",
    "    return hypothesis\n",
    "\n",
    "def cost():\n",
    "    layer2_output = layer2(x_train)\n",
    "    return -tf.reduce_mean(y_train * tf.math.log(layer2_output) +\n",
    "                           (1 - y_train) * tf.math.log(1 - layer2_output))\n",
    "\n",
    "def pred(x):\n",
    "    return tf.argmax(tf.nn.softmax(layer2(x)), axis=1)\n"
   ],
   "metadata": {
    "collapsed": false
   }
  },
  {
   "cell_type": "code",
   "execution_count": 33,
   "outputs": [
    {
     "data": {
      "text/plain": "<tf.Tensor: shape=(4, 1), dtype=float64, numpy=\narray([[0.7922057 ],\n       [0.8041238 ],\n       [0.81694692],\n       [0.82427005]])>"
     },
     "execution_count": 33,
     "metadata": {},
     "output_type": "execute_result"
    }
   ],
   "source": [
    "layer2(x_train)"
   ],
   "metadata": {
    "collapsed": false
   }
  },
  {
   "cell_type": "code",
   "execution_count": 34,
   "outputs": [
    {
     "data": {
      "text/plain": "<tf.Tensor: shape=(), dtype=float64, numpy=0.9325491704000168>"
     },
     "execution_count": 34,
     "metadata": {},
     "output_type": "execute_result"
    }
   ],
   "source": [
    "cost()"
   ],
   "metadata": {
    "collapsed": false
   }
  },
  {
   "cell_type": "code",
   "execution_count": 40,
   "outputs": [
    {
     "name": "stdout",
     "output_type": "stream",
     "text": [
      "***** Start Learning!!\n",
      "0000 \n",
      " cost :\n",
      " tf.Tensor(0.001612090180478345, shape=(), dtype=float64) ] \n",
      "  W :\n",
      " [[0.0434109  0.41730425]\n",
      " [0.7249681  0.71284791]] \n",
      "  b :\n",
      " [0.65971151 0.37093439]\n",
      "0100 \n",
      " cost :\n",
      " tf.Tensor(0.0010110495632858999, shape=(), dtype=float64) ] \n",
      "  W :\n",
      " [[0.0434109  0.41730425]\n",
      " [0.7249681  0.71284791]] \n",
      "  b :\n",
      " [0.65971151 0.37093439]\n",
      "0200 \n",
      " cost :\n",
      " tf.Tensor(0.0006962402914921758, shape=(), dtype=float64) ] \n",
      "  W :\n",
      " [[0.0434109  0.41730425]\n",
      " [0.7249681  0.71284791]] \n",
      "  b :\n",
      " [0.65971151 0.37093439]\n",
      "0300 \n",
      " cost :\n",
      " tf.Tensor(0.0005111151196404611, shape=(), dtype=float64) ] \n",
      "  W :\n",
      " [[0.0434109  0.41730425]\n",
      " [0.7249681  0.71284791]] \n",
      "  b :\n",
      " [0.65971151 0.37093439]\n",
      "0400 \n",
      " cost :\n",
      " tf.Tensor(0.0003924469843634726, shape=(), dtype=float64) ] \n",
      "  W :\n",
      " [[0.0434109  0.41730425]\n",
      " [0.7249681  0.71284791]] \n",
      "  b :\n",
      " [0.65971151 0.37093439]\n",
      "0500 \n",
      " cost :\n",
      " tf.Tensor(0.00031149807044867706, shape=(), dtype=float64) ] \n",
      "  W :\n",
      " [[0.0434109  0.41730425]\n",
      " [0.7249681  0.71284791]] \n",
      "  b :\n",
      " [0.65971151 0.37093439]\n",
      "0600 \n",
      " cost :\n",
      " tf.Tensor(0.00025362170958791923, shape=(), dtype=float64) ] \n",
      "  W :\n",
      " [[0.0434109  0.41730425]\n",
      " [0.7249681  0.71284791]] \n",
      "  b :\n",
      " [0.65971151 0.37093439]\n",
      "0700 \n",
      " cost :\n",
      " tf.Tensor(0.00021069233887404326, shape=(), dtype=float64) ] \n",
      "  W :\n",
      " [[0.0434109  0.41730425]\n",
      " [0.7249681  0.71284791]] \n",
      "  b :\n",
      " [0.65971151 0.37093439]\n",
      "0800 \n",
      " cost :\n",
      " tf.Tensor(0.00017789621724492805, shape=(), dtype=float64) ] \n",
      "  W :\n",
      " [[0.0434109  0.41730425]\n",
      " [0.7249681  0.71284791]] \n",
      "  b :\n",
      " [0.65971151 0.37093439]\n",
      "0900 \n",
      " cost :\n",
      " tf.Tensor(0.00015222801816544996, shape=(), dtype=float64) ] \n",
      "  W :\n",
      " [[0.0434109  0.41730425]\n",
      " [0.7249681  0.71284791]] \n",
      "  b :\n",
      " [0.65971151 0.37093439]\n",
      "1000 \n",
      " cost :\n",
      " tf.Tensor(0.00013172919091910005, shape=(), dtype=float64) ] \n",
      "  W :\n",
      " [[0.0434109  0.41730425]\n",
      " [0.7249681  0.71284791]] \n",
      "  b :\n",
      " [0.65971151 0.37093439]\n",
      "1100 \n",
      " cost :\n",
      " tf.Tensor(0.00011507688756103116, shape=(), dtype=float64) ] \n",
      "  W :\n",
      " [[0.0434109  0.41730425]\n",
      " [0.7249681  0.71284791]] \n",
      "  b :\n",
      " [0.65971151 0.37093439]\n",
      "1200 \n",
      " cost :\n",
      " tf.Tensor(0.00010135016755397904, shape=(), dtype=float64) ] \n",
      "  W :\n",
      " [[0.0434109  0.41730425]\n",
      " [0.7249681  0.71284791]] \n",
      "  b :\n",
      " [0.65971151 0.37093439]\n",
      "1300 \n",
      " cost :\n",
      " tf.Tensor(8.989103246709307e-05, shape=(), dtype=float64) ] \n",
      "  W :\n",
      " [[0.0434109  0.41730425]\n",
      " [0.7249681  0.71284791]] \n",
      "  b :\n",
      " [0.65971151 0.37093439]\n",
      "1400 \n",
      " cost :\n",
      " tf.Tensor(8.021865540865878e-05, shape=(), dtype=float64) ] \n",
      "  W :\n",
      " [[0.0434109  0.41730425]\n",
      " [0.7249681  0.71284791]] \n",
      "  b :\n",
      " [0.65971151 0.37093439]\n",
      "1500 \n",
      " cost :\n",
      " tf.Tensor(7.197469016722065e-05, shape=(), dtype=float64) ] \n",
      "  W :\n",
      " [[0.0434109  0.41730425]\n",
      " [0.7249681  0.71284791]] \n",
      "  b :\n",
      " [0.65971151 0.37093439]\n",
      "1600 \n",
      " cost :\n",
      " tf.Tensor(6.488739189321842e-05, shape=(), dtype=float64) ] \n",
      "  W :\n",
      " [[0.0434109  0.41730425]\n",
      " [0.7249681  0.71284791]] \n",
      "  b :\n",
      " [0.65971151 0.37093439]\n",
      "1700 \n",
      " cost :\n",
      " tf.Tensor(5.8747481568817184e-05, shape=(), dtype=float64) ] \n",
      "  W :\n",
      " [[0.0434109  0.41730425]\n",
      " [0.7249681  0.71284791]] \n",
      "  b :\n",
      " [0.65971151 0.37093439]\n",
      "1800 \n",
      " cost :\n",
      " tf.Tensor(5.339154511335176e-05, shape=(), dtype=float64) ] \n",
      "  W :\n",
      " [[0.0434109  0.41730425]\n",
      " [0.7249681  0.71284791]] \n",
      "  b :\n",
      " [0.65971151 0.37093439]\n",
      "1900 \n",
      " cost :\n",
      " tf.Tensor(4.869038563490697e-05, shape=(), dtype=float64) ] \n",
      "  W :\n",
      " [[0.0434109  0.41730425]\n",
      " [0.7249681  0.71284791]] \n",
      "  b :\n",
      " [0.65971151 0.37093439]\n",
      "2000 \n",
      " cost :\n",
      " tf.Tensor(4.454070354095925e-05, shape=(), dtype=float64) ] \n",
      "  W :\n",
      " [[0.0434109  0.41730425]\n",
      " [0.7249681  0.71284791]] \n",
      "  b :\n",
      " [0.65971151 0.37093439]\n",
      "2100 \n",
      " cost :\n",
      " tf.Tensor(4.0859056872973246e-05, shape=(), dtype=float64) ] \n",
      "  W :\n",
      " [[0.0434109  0.41730425]\n",
      " [0.7249681  0.71284791]] \n",
      "  b :\n",
      " [0.65971151 0.37093439]\n",
      "2200 \n",
      " cost :\n",
      " tf.Tensor(3.757741207482209e-05, shape=(), dtype=float64) ] \n",
      "  W :\n",
      " [[0.0434109  0.41730425]\n",
      " [0.7249681  0.71284791]] \n",
      "  b :\n",
      " [0.65971151 0.37093439]\n",
      "2300 \n",
      " cost :\n",
      " tf.Tensor(3.4639822179014315e-05, shape=(), dtype=float64) ] \n",
      "  W :\n",
      " [[0.0434109  0.41730425]\n",
      " [0.7249681  0.71284791]] \n",
      "  b :\n",
      " [0.65971151 0.37093439]\n",
      "2400 \n",
      " cost :\n",
      " tf.Tensor(3.1999916103558616e-05, shape=(), dtype=float64) ] \n",
      "  W :\n",
      " [[0.0434109  0.41730425]\n",
      " [0.7249681  0.71284791]] \n",
      "  b :\n",
      " [0.65971151 0.37093439]\n",
      "2500 \n",
      " cost :\n",
      " tf.Tensor(2.9618979472146297e-05, shape=(), dtype=float64) ] \n",
      "  W :\n",
      " [[0.0434109  0.41730425]\n",
      " [0.7249681  0.71284791]] \n",
      "  b :\n",
      " [0.65971151 0.37093439]\n",
      "2600 \n",
      " cost :\n",
      " tf.Tensor(2.746447224448456e-05, shape=(), dtype=float64) ] \n",
      "  W :\n",
      " [[0.0434109  0.41730425]\n",
      " [0.7249681  0.71284791]] \n",
      "  b :\n",
      " [0.65971151 0.37093439]\n",
      "2700 \n",
      " cost :\n",
      " tf.Tensor(2.5508872656011282e-05, shape=(), dtype=float64) ] \n",
      "  W :\n",
      " [[0.0434109  0.41730425]\n",
      " [0.7249681  0.71284791]] \n",
      "  b :\n",
      " [0.65971151 0.37093439]\n",
      "2800 \n",
      " cost :\n",
      " tf.Tensor(2.3728767542459563e-05, shape=(), dtype=float64) ] \n",
      "  W :\n",
      " [[0.0434109  0.41730425]\n",
      " [0.7249681  0.71284791]] \n",
      "  b :\n",
      " [0.65971151 0.37093439]\n",
      "2900 \n",
      " cost :\n",
      " tf.Tensor(2.210413055988869e-05, shape=(), dtype=float64) ] \n",
      "  W :\n",
      " [[0.0434109  0.41730425]\n",
      " [0.7249681  0.71284791]] \n",
      "  b :\n",
      " [0.65971151 0.37093439]\n",
      "3000 \n",
      " cost :\n",
      " tf.Tensor(2.061774503007972e-05, shape=(), dtype=float64) ] \n",
      "  W :\n",
      " [[0.0434109  0.41730425]\n",
      " [0.7249681  0.71284791]] \n",
      "  b :\n",
      " [0.65971151 0.37093439]\n",
      "3100 \n",
      " cost :\n",
      " tf.Tensor(1.925473907172851e-05, shape=(), dtype=float64) ] \n",
      "  W :\n",
      " [[0.0434109  0.41730425]\n",
      " [0.7249681  0.71284791]] \n",
      "  b :\n",
      " [0.65971151 0.37093439]\n",
      "3200 \n",
      " cost :\n",
      " tf.Tensor(1.800220861922594e-05, shape=(), dtype=float64) ] \n",
      "  W :\n",
      " [[0.0434109  0.41730425]\n",
      " [0.7249681  0.71284791]] \n",
      "  b :\n",
      " [0.65971151 0.37093439]\n",
      "3300 \n",
      " cost :\n",
      " tf.Tensor(1.6848909755846972e-05, shape=(), dtype=float64) ] \n",
      "  W :\n",
      " [[0.0434109  0.41730425]\n",
      " [0.7249681  0.71284791]] \n",
      "  b :\n",
      " [0.65971151 0.37093439]\n",
      "3400 \n",
      " cost :\n",
      " tf.Tensor(1.578500610505758e-05, shape=(), dtype=float64) ] \n",
      "  W :\n",
      " [[0.0434109  0.41730425]\n",
      " [0.7249681  0.71284791]] \n",
      "  b :\n",
      " [0.65971151 0.37093439]\n",
      "3500 \n",
      " cost :\n",
      " tf.Tensor(1.4801860250686077e-05, shape=(), dtype=float64) ] \n",
      "  W :\n",
      " [[0.0434109  0.41730425]\n",
      " [0.7249681  0.71284791]] \n",
      "  b :\n",
      " [0.65971151 0.37093439]\n",
      "3600 \n",
      " cost :\n",
      " tf.Tensor(1.3891860589685912e-05, shape=(), dtype=float64) ] \n",
      "  W :\n",
      " [[0.0434109  0.41730425]\n",
      " [0.7249681  0.71284791]] \n",
      "  b :\n",
      " [0.65971151 0.37093439]\n",
      "3700 \n",
      " cost :\n",
      " tf.Tensor(1.3048276871224675e-05, shape=(), dtype=float64) ] \n",
      "  W :\n",
      " [[0.0434109  0.41730425]\n",
      " [0.7249681  0.71284791]] \n",
      "  b :\n",
      " [0.65971151 0.37093439]\n",
      "3800 \n",
      " cost :\n",
      " tf.Tensor(1.2265139091344398e-05, shape=(), dtype=float64) ] \n",
      "  W :\n",
      " [[0.0434109  0.41730425]\n",
      " [0.7249681  0.71284791]] \n",
      "  b :\n",
      " [0.65971151 0.37093439]\n",
      "3900 \n",
      " cost :\n",
      " tf.Tensor(1.1537135506749642e-05, shape=(), dtype=float64) ] \n",
      "  W :\n",
      " [[0.0434109  0.41730425]\n",
      " [0.7249681  0.71284791]] \n",
      "  b :\n",
      " [0.65971151 0.37093439]\n",
      "4000 \n",
      " cost :\n",
      " tf.Tensor(1.0859526377796321e-05, shape=(), dtype=float64) ] \n",
      "  W :\n",
      " [[0.0434109  0.41730425]\n",
      " [0.7249681  0.71284791]] \n",
      "  b :\n",
      " [0.65971151 0.37093439]\n",
      "4100 \n",
      " cost :\n",
      " tf.Tensor(1.022807071671369e-05, shape=(), dtype=float64) ] \n",
      "  W :\n",
      " [[0.0434109  0.41730425]\n",
      " [0.7249681  0.71284791]] \n",
      "  b :\n",
      " [0.65971151 0.37093439]\n",
      "4200 \n",
      " cost :\n",
      " tf.Tensor(9.638963835893262e-06, shape=(), dtype=float64) ] \n",
      "  W :\n",
      " [[0.0434109  0.41730425]\n",
      " [0.7249681  0.71284791]] \n",
      "  b :\n",
      " [0.65971151 0.37093439]\n",
      "4300 \n",
      " cost :\n",
      " tf.Tensor(9.088783907026602e-06, shape=(), dtype=float64) ] \n",
      "  W :\n",
      " [[0.0434109  0.41730425]\n",
      " [0.7249681  0.71284791]] \n",
      "  b :\n",
      " [0.65971151 0.37093439]\n",
      "4400 \n",
      " cost :\n",
      " tf.Tensor(8.57444606732504e-06, shape=(), dtype=float64) ] \n",
      "  W :\n",
      " [[0.0434109  0.41730425]\n",
      " [0.7249681  0.71284791]] \n",
      "  b :\n",
      " [0.65971151 0.37093439]\n",
      "4500 \n",
      " cost :\n",
      " tf.Tensor(8.093162874015461e-06, shape=(), dtype=float64) ] \n",
      "  W :\n",
      " [[0.0434109  0.41730425]\n",
      " [0.7249681  0.71284791]] \n",
      "  b :\n",
      " [0.65971151 0.37093439]\n",
      "4600 \n",
      " cost :\n",
      " tf.Tensor(7.642410118026164e-06, shape=(), dtype=float64) ] \n",
      "  W :\n",
      " [[0.0434109  0.41730425]\n",
      " [0.7249681  0.71284791]] \n",
      "  b :\n",
      " [0.65971151 0.37093439]\n",
      "4700 \n",
      " cost :\n",
      " tf.Tensor(7.2198971782164184e-06, shape=(), dtype=float64) ] \n",
      "  W :\n",
      " [[0.0434109  0.41730425]\n",
      " [0.7249681  0.71284791]] \n",
      "  b :\n",
      " [0.65971151 0.37093439]\n",
      "4800 \n",
      " cost :\n",
      " tf.Tensor(6.823541237185406e-06, shape=(), dtype=float64) ] \n",
      "  W :\n",
      " [[0.0434109  0.41730425]\n",
      " [0.7249681  0.71284791]] \n",
      "  b :\n",
      " [0.65971151 0.37093439]\n",
      "4900 \n",
      " cost :\n",
      " tf.Tensor(6.451444791091817e-06, shape=(), dtype=float64) ] \n",
      "  W :\n",
      " [[0.0434109  0.41730425]\n",
      " [0.7249681  0.71284791]] \n",
      "  b :\n",
      " [0.65971151 0.37093439]\n",
      "5000 \n",
      " cost :\n",
      " tf.Tensor(6.101875978490067e-06, shape=(), dtype=float64) ] \n",
      "  W :\n",
      " [[0.0434109  0.41730425]\n",
      " [0.7249681  0.71284791]] \n",
      "  b :\n",
      " [0.65971151 0.37093439]\n",
      "***** Learning Finished!!\n"
     ]
    }
   ],
   "source": [
    "optimizer = tf.optimizers.Adam(learning_rate= 0.01)\n",
    "\n",
    "print('***** Start Learning!!')\n",
    "for step in range(5001):\n",
    "    optimizer.minimize(loss=cost, var_list=[w1, b1, w2, b2])\n",
    "    if step % 100 == 0:\n",
    "        print('%04d' % step,'\\n', 'cost :\\n', tf.reduce_mean(cost().numpy()), ']', '\\n',\n",
    "              ' W :\\n', w.numpy(),'\\n', ' b :\\n', b.numpy())\n",
    "print('***** Learning Finished!!')"
   ],
   "metadata": {
    "collapsed": false
   }
  },
  {
   "cell_type": "code",
   "execution_count": 47,
   "outputs": [
    {
     "data": {
      "text/plain": "<tf.Tensor: shape=(4, 1), dtype=float64, numpy=\narray([[6.10075159e-06],\n       [9.99992841e-01],\n       [9.99994941e-01],\n       [6.08852953e-06]])>"
     },
     "execution_count": 47,
     "metadata": {},
     "output_type": "execute_result"
    }
   ],
   "source": [
    "layer2(x_train)"
   ],
   "metadata": {
    "collapsed": false
   }
  },
  {
   "cell_type": "code",
   "execution_count": 213,
   "outputs": [],
   "source": [],
   "metadata": {
    "collapsed": false
   }
  }
 ],
 "metadata": {
  "kernelspec": {
   "display_name": "Python 3",
   "language": "python",
   "name": "python3"
  },
  "language_info": {
   "codemirror_mode": {
    "name": "ipython",
    "version": 2
   },
   "file_extension": ".py",
   "mimetype": "text/x-python",
   "name": "python",
   "nbconvert_exporter": "python",
   "pygments_lexer": "ipython2",
   "version": "2.7.6"
  }
 },
 "nbformat": 4,
 "nbformat_minor": 0
}
