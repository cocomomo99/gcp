{
 "cells": [
  {
   "cell_type": "code",
   "execution_count": 138,
   "metadata": {
    "collapsed": true
   },
   "outputs": [],
   "source": [
    "import pandas as pd\n",
    "import numpy as np\n",
    "import seaborn\n",
    "import tensorflow as tf\n",
    "\n",
    "from plotnine import *"
   ]
  },
  {
   "cell_type": "code",
   "execution_count": 139,
   "outputs": [],
   "source": [
    "def sigmoid(z):\n",
    "    return 1. / (1. + np.exp(-z))\n"
   ],
   "metadata": {
    "collapsed": false
   }
  },
  {
   "cell_type": "code",
   "execution_count": 140,
   "outputs": [
    {
     "data": {
      "text/plain": "3.7200759760208356e-44"
     },
     "execution_count": 140,
     "metadata": {},
     "output_type": "execute_result"
    }
   ],
   "source": [
    "sigmoid(-100)"
   ],
   "metadata": {
    "collapsed": false
   }
  },
  {
   "cell_type": "code",
   "execution_count": 141,
   "outputs": [
    {
     "data": {
      "text/plain": "range(0, 10)"
     },
     "execution_count": 141,
     "metadata": {},
     "output_type": "execute_result"
    }
   ],
   "source": [
    "x = range(10)\n",
    "x"
   ],
   "metadata": {
    "collapsed": false
   }
  },
  {
   "cell_type": "code",
   "execution_count": 142,
   "outputs": [
    {
     "data": {
      "text/plain": "<Axes: >"
     },
     "execution_count": 142,
     "metadata": {},
     "output_type": "execute_result"
    },
    {
     "data": {
      "text/plain": "<Figure size 640x480 with 1 Axes>",
      "image/png": "[encoded data removed]"
     },
     "metadata": {},
     "output_type": "display_data"
    }
   ],
   "source": [
    "# 시각화\n",
    "xx,yy=[],[]\n",
    "for k in range(-100,101):\n",
    "    n = sigmoid(k/10)\n",
    "\n",
    "    xx.append(k/10)\n",
    "    yy.append(n)\n",
    "\n",
    "seaborn.lineplot(x = xx,y = yy)"
   ],
   "metadata": {
    "collapsed": false
   }
  },
  {
   "cell_type": "markdown",
   "source": [
    "# 실습"
   ],
   "metadata": {
    "collapsed": false
   }
  },
  {
   "cell_type": "code",
   "execution_count": 167,
   "outputs": [],
   "source": [
    "# x_data : [6,2]\n",
    "x_data = [[1,2],\n",
    "          [2,3],\n",
    "          [3,1],\n",
    "          [4,3],\n",
    "          [5,3],\n",
    "          [6,2]]\n",
    "\n",
    "# y_data : [6,1]\n",
    "y_data = [[0],\n",
    "          [0],\n",
    "          [0],\n",
    "          [1],\n",
    "          [1],\n",
    "          [1]]\n",
    "x_train = np.array(x_data,dtype=np.float32)\n",
    "y_train = np.array(y_data,dtype=np.float32)"
   ],
   "metadata": {
    "collapsed": false
   }
  },
  {
   "cell_type": "code",
   "execution_count": 168,
   "outputs": [
    {
     "data": {
      "text/plain": "(<tf.Variable 'weight:0' shape=(2, 1) dtype=float32, numpy=\n array([[-0.15685436],\n        [-0.46111506]], dtype=float32)>,\n <tf.Variable 'bias:0' shape=(1, 1) dtype=float32, numpy=array([[0.23808356]], dtype=float32)>)"
     },
     "execution_count": 168,
     "metadata": {},
     "output_type": "execute_result"
    }
   ],
   "source": [
    "w = tf.Variable(tf.random.normal([2,1], dtype=tf.float32), name = 'weight')\n",
    "b = tf.Variable(tf.random.normal([1,1], dtype=tf.float32), name= 'bias')\n",
    "w, b"
   ],
   "metadata": {
    "collapsed": false
   }
  },
  {
   "cell_type": "code",
   "execution_count": 204,
   "outputs": [],
   "source": [
    "def step_func(x):\n",
    "    return x > 0.5\n",
    "\n",
    "def pred(x):\n",
    "    pred = tf.sigmoid(tf.matmul(x, w) + b)\n",
    "    target = tf.cast(pred > 0.5, dtype= tf.float32)\n",
    "    return target\n",
    "\n",
    "def cost_func():\n",
    "    pred = tf.sigmoid(tf.matmul(x_train, w) + b)\n",
    "    cost = - tf.reduce_mean(y_train * tf.math.log(pred) +\n",
    "                            (1 - y_train) * tf.math.log(1- pred))\n",
    "    return cost\n"
   ],
   "metadata": {
    "collapsed": false
   }
  },
  {
   "cell_type": "code",
   "execution_count": 205,
   "outputs": [
    {
     "data": {
      "text/plain": "<tf.Tensor: shape=(6, 1), dtype=float32, numpy=\narray([[0.],\n       [0.],\n       [0.],\n       [1.],\n       [1.],\n       [1.]], dtype=float32)>"
     },
     "execution_count": 205,
     "metadata": {},
     "output_type": "execute_result"
    }
   ],
   "source": [
    "pred(x_train)"
   ],
   "metadata": {
    "collapsed": false
   }
  },
  {
   "cell_type": "code",
   "execution_count": 206,
   "outputs": [
    {
     "data": {
      "text/plain": "<tf.Tensor: shape=(), dtype=float32, numpy=0.0018946157>"
     },
     "execution_count": 206,
     "metadata": {},
     "output_type": "execute_result"
    }
   ],
   "source": [
    "cost_func()"
   ],
   "metadata": {
    "collapsed": false
   }
  },
  {
   "cell_type": "code",
   "execution_count": 207,
   "outputs": [],
   "source": [
    "cross_ent = tf.losses.BinaryCrossentropy(from_logits= True)"
   ],
   "metadata": {
    "collapsed": false
   }
  },
  {
   "cell_type": "code",
   "execution_count": 208,
   "outputs": [
    {
     "data": {
      "text/plain": "<tf.Tensor: shape=(), dtype=float32, numpy=0.50320446>"
     },
     "execution_count": 208,
     "metadata": {},
     "output_type": "execute_result"
    }
   ],
   "source": [
    "cross_ent(pred(x_train), y_train)"
   ],
   "metadata": {
    "collapsed": false
   }
  },
  {
   "cell_type": "markdown",
   "source": [
    "## *learning start*"
   ],
   "metadata": {
    "collapsed": false
   }
  },
  {
   "cell_type": "code",
   "execution_count": 209,
   "outputs": [
    {
     "name": "stdout",
     "output_type": "stream",
     "text": [
      "***** Start Learning!!\n",
      "0000 \n",
      " cost:[ 0.0018928373 ]  W: [[5.5797677]\n",
      " [2.775846 ]] \n",
      "  b: [[-25.08417]]\n",
      "1\n",
      "0500 \n",
      " cost:[ nan ]  W: [[nan]\n",
      " [nan]] \n",
      "  b: [[nan]]\n",
      "1\n",
      "1000 \n",
      " cost:[ nan ]  W: [[nan]\n",
      " [nan]] \n",
      "  b: [[nan]]\n",
      "1\n",
      "1500 \n",
      " cost:[ nan ]  W: [[nan]\n",
      " [nan]] \n",
      "  b: [[nan]]\n",
      "1\n",
      "2000 \n",
      " cost:[ nan ]  W: [[nan]\n",
      " [nan]] \n",
      "  b: [[nan]]\n",
      "1\n",
      "2500 \n",
      " cost:[ nan ]  W: [[nan]\n",
      " [nan]] \n",
      "  b: [[nan]]\n",
      "1\n",
      "3000 \n",
      " cost:[ nan ]  W: [[nan]\n",
      " [nan]] \n",
      "  b: [[nan]]\n",
      "1\n",
      "3500 \n",
      " cost:[ nan ]  W: [[nan]\n",
      " [nan]] \n",
      "  b: [[nan]]\n",
      "1\n",
      "4000 \n",
      " cost:[ nan ]  W: [[nan]\n",
      " [nan]] \n",
      "  b: [[nan]]\n",
      "1\n",
      "4500 \n",
      " cost:[ nan ]  W: [[nan]\n",
      " [nan]] \n",
      "  b: [[nan]]\n",
      "1\n",
      "5000 \n",
      " cost:[ nan ]  W: [[nan]\n",
      " [nan]] \n",
      "  b: [[nan]]\n",
      "1\n",
      "***** Learning Finished!!\n"
     ]
    }
   ],
   "source": [
    "optimizer = tf.optimizers.Adam(learning_rate=0.03)\n",
    "\n",
    "print('***** Start Learning!!')\n",
    "for step in range(5001):\n",
    "    optimizer.minimize(loss=cost_func, var_list=[w, b])\n",
    "    if step % 500 == 0:\n",
    "        print('%04d' % step,'\\n', 'cost:[', cost_func().numpy(), ']',\n",
    "              ' W:', w.numpy(),'\\n', ' b:', b.numpy())\n",
    "        print('1')\n",
    "print('***** Learning Finished!!')"
   ],
   "metadata": {
    "collapsed": false
   }
  },
  {
   "cell_type": "markdown",
   "source": [
    "## 정확도 평가"
   ],
   "metadata": {
    "collapsed": false
   }
  },
  {
   "cell_type": "code",
   "execution_count": 197,
   "outputs": [
    {
     "data": {
      "text/plain": "100.0"
     },
     "execution_count": 197,
     "metadata": {},
     "output_type": "execute_result"
    }
   ],
   "source": [
    "tf.reduce_sum(tf.cast(tf.equal(pred(x_train), y_train), dtype= tf.float32)) / x_train.shape[0]*100"
   ],
   "metadata": {
    "collapsed": false
   }
  },
  {
   "cell_type": "code",
   "execution_count": null,
   "outputs": [],
   "source": [],
   "metadata": {
    "collapsed": false
   }
  }
 ],
 "metadata": {
  "kernelspec": {
   "display_name": "Python 3",
   "language": "python",
   "name": "python3"
  },
  "language_info": {
   "codemirror_mode": {
    "name": "ipython",
    "version": 2
   },
   "file_extension": ".py",
   "mimetype": "text/x-python",
   "name": "python",
   "nbconvert_exporter": "python",
   "pygments_lexer": "ipython2",
   "version": "2.7.6"
  }
 },
 "nbformat": 4,
 "nbformat_minor": 0
}
