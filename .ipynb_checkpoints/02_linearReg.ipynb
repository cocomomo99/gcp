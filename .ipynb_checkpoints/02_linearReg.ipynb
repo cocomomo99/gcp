{
 "cells": [
  {
   "cell_type": "markdown",
   "source": [],
   "metadata": {
    "collapsed": false
   }
  },
  {
   "cell_type": "markdown",
   "source": [
    "# linear Regession"
   ],
   "metadata": {
    "collapsed": false
   }
  },
  {
   "cell_type": "code",
   "execution_count": 21,
   "outputs": [],
   "source": [
    "import numpy as np\n",
    "import tensorflow as tf"
   ],
   "metadata": {
    "collapsed": false
   }
  },
  {
   "cell_type": "markdown",
   "source": [
    "# train 데이터 생성"
   ],
   "metadata": {
    "collapsed": false
   }
  },
  {
   "cell_type": "code",
   "execution_count": 22,
   "outputs": [
    {
     "data": {
      "text/plain": "([1, 2, 3, 4, 5], [1.1, 2.2, 3.3, 4.4, 5.5])"
     },
     "execution_count": 22,
     "metadata": {},
     "output_type": "execute_result"
    }
   ],
   "source": [
    "x_train = [1, 2, 3, 4, 5]\n",
    "y_train = [1.1, 2.2, 3.3, 4.4, 5.5]\n",
    "x_train, y_train"
   ],
   "metadata": {
    "collapsed": false
   }
  },
  {
   "cell_type": "code",
   "execution_count": 33,
   "outputs": [],
   "source": [
    "tf.random.set_seed(6)"
   ],
   "metadata": {
    "collapsed": false
   }
  },
  {
   "cell_type": "markdown",
   "source": [
    "# 변수 초기화 weight, bias"
   ],
   "metadata": {
    "collapsed": false
   }
  },
  {
   "cell_type": "code",
   "execution_count": 111,
   "outputs": [
    {
     "data": {
      "text/plain": "(<tf.Variable 'weight:0' shape=(1,) dtype=float32, numpy=array([-0.0807016], dtype=float32)>,\n <tf.Variable 'bias:0' shape=(1,) dtype=float32, numpy=array([-1.1115178], dtype=float32)>)"
     },
     "execution_count": 111,
     "metadata": {},
     "output_type": "execute_result"
    }
   ],
   "source": [
    "w = tf.Variable(tf.random.normal([1]), name= 'weight')\n",
    "b = tf.Variable(tf.random.normal([1]), name= 'bias')\n",
    "w, b"
   ],
   "metadata": {
    "collapsed": false
   }
  },
  {
   "cell_type": "markdown",
   "source": [
    "# 예측 함수(hypothesis) : H(X) = w*x + b"
   ],
   "metadata": {
    "collapsed": false
   }
  },
  {
   "cell_type": "code",
   "execution_count": 118,
   "outputs": [],
   "source": [
    "def hyp(x):\n",
    "    h = x*w + b\n",
    "    return h"
   ],
   "metadata": {
    "collapsed": false
   }
  },
  {
   "cell_type": "code",
   "execution_count": 119,
   "outputs": [
    {
     "data": {
      "text/plain": "<tf.Tensor: shape=(5,), dtype=float32, numpy=\narray([-1.1922194, -1.272921 , -1.3536226, -1.4343241, -1.5150257],\n      dtype=float32)>"
     },
     "execution_count": 119,
     "metadata": {},
     "output_type": "execute_result"
    }
   ],
   "source": [
    "hyp(x_train)"
   ],
   "metadata": {
    "collapsed": false
   }
  },
  {
   "cell_type": "markdown",
   "source": [
    "# 비용 함수(cost function) : (H(x) - y_train)^2"
   ],
   "metadata": {
    "collapsed": false
   }
  },
  {
   "cell_type": "code",
   "execution_count": 129,
   "outputs": [],
   "source": [
    "def cost_function():\n",
    "    cost = tf.reduce_mean(tf.square(hyp(x_train) - y_train)) #tf.reduce_mean : 평균,\n",
    "    return cost"
   ],
   "metadata": {
    "collapsed": false
   }
  },
  {
   "cell_type": "code",
   "execution_count": 137,
   "outputs": [
    {
     "data": {
      "text/plain": "<tf.Tensor: shape=(), dtype=float32, numpy=3.6300206e-11>"
     },
     "execution_count": 137,
     "metadata": {},
     "output_type": "execute_result"
    }
   ],
   "source": [
    "cost_function()"
   ],
   "metadata": {
    "collapsed": false
   }
  },
  {
   "cell_type": "markdown",
   "source": [
    "# gradient descent"
   ],
   "metadata": {
    "collapsed": false
   }
  },
  {
   "cell_type": "code",
   "execution_count": 135,
   "outputs": [],
   "source": [
    "# optimizer = tf.compat.v1.train.GradientDescentOptimizer(learning_rate = 0.01)\n",
    "# optimizer = tf.compat.v1.train.AdamOptimizer(learning_rate = 0.01)\n",
    "optimizer = tf.optimizers.Adam(learning_rate= 0.03)"
   ],
   "metadata": {
    "collapsed": false
   }
  },
  {
   "cell_type": "markdown",
   "source": [
    "# 학습 시작"
   ],
   "metadata": {
    "collapsed": false
   }
  },
  {
   "cell_type": "code",
   "execution_count": 136,
   "outputs": [
    {
     "name": "stdout",
     "output_type": "stream",
     "text": [
      "**** start learning ****\n",
      "0000 cost:[ 5.4483447e-05 ]  W: [1.0978968]  b: [-0.00044575]\n",
      "0100 cost:[ 2.3351804e-07 ]  W: [1.1001118]  b: [0.00012105]\n",
      "0200 cost:[ 1.1482371e-12 ]  W: [1.0999998]  b: [-2.537625e-07]\n",
      "0300 cost:[ 1.16529e-13 ]  W: [1.0999999]  b: [-2.5470897e-09]\n",
      "0400 cost:[ 1.16529e-13 ]  W: [1.0999999]  b: [-5.4769558e-08]\n",
      "0500 cost:[ 1.1368684e-14 ]  W: [1.1]  b: [2.6207118e-08]\n",
      "0600 cost:[ 7.6454397e-13 ]  W: [1.1000001]  b: [2.4770767e-07]\n",
      "0700 cost:[ 1.16529e-13 ]  W: [1.0999999]  b: [-3.5603946e-09]\n",
      "0800 cost:[ 2.9558577e-13 ]  W: [1.1000001]  b: [1.0473879e-07]\n",
      "0900 cost:[ 1.9326763e-13 ]  W: [1.0999999]  b: [-1.2722415e-07]\n",
      "1000 cost:[ 1.4210855e-14 ]  W: [1.1]  b: [7.352145e-08]\n",
      "1100 cost:[ 1.6740387e-12 ]  W: [1.0999997]  b: [-2.355963e-07]\n",
      "1200 cost:[ 1.2505552e-13 ]  W: [1.0999999]  b: [-6.5083924e-08]\n",
      "1300 cost:[ 6.8212105e-14 ]  W: [1.1]  b: [2.3343578e-07]\n",
      "1400 cost:[ 3.2858338e-11 ]  W: [1.1000013]  b: [1.4624884e-06]\n",
      "1500 cost:[ 1.4053725e-06 ]  W: [1.0997205]  b: [-0.00027909]\n",
      "1600 cost:[ 7.539171e-10 ]  W: [1.0999935]  b: [-6.4189417e-06]\n",
      "1700 cost:[ 3.0745494e-05 ]  W: [1.101307]  b: [0.00130671]\n",
      "1800 cost:[ 1.0926016e-09 ]  W: [1.0999923]  b: [-7.868284e-06]\n",
      "1900 cost:[ 1.820271e-05 ]  W: [1.0989944]  b: [-0.00100542]\n",
      "2000 cost:[ 6.723099e-10 ]  W: [1.099994]  b: [-6.26192e-06]\n",
      "2100 cost:[ 5.0943073e-11 ]  W: [1.0999982]  b: [-1.5445105e-06]\n",
      "2200 cost:[ 1.1525449e-08 ]  W: [1.1000253]  b: [2.544091e-05]\n",
      "2300 cost:[ 1.0347776e-10 ]  W: [1.0999976]  b: [-2.5875354e-06]\n",
      "2400 cost:[ 2.8976763e-05 ]  W: [1.1012688]  b: [0.00126897]\n",
      "2500 cost:[ 1.8646005e-09 ]  W: [1.0999899]  b: [-1.0345964e-05]\n",
      "2600 cost:[ 1.2718158e-05 ]  W: [1.0991595]  b: [-0.00084071]\n",
      "2700 cost:[ 2.470546e-08 ]  W: [1.099963]  b: [-3.697208e-05]\n",
      "2800 cost:[ 1.1368684e-14 ]  W: [1.1]  b: [-3.745652e-08]\n",
      "2900 cost:[ 1.3076057e-06 ]  W: [1.1002696]  b: [0.00026959]\n",
      "finish learing\n"
     ]
    }
   ],
   "source": [
    "print('**** start learning ****')\n",
    "var_list = [w, b]\n",
    "\n",
    "for step in range(3000):\n",
    "    optimizer.minimize(loss = cost_function, var_list = var_list)\n",
    "    if step % 100 == 0:\n",
    "        print('%04d'%step,'cost:[',cost_function().numpy(),']',\n",
    "             ' W:',w.numpy(),' b:',b.numpy())\n",
    "print('finish learing')"
   ],
   "metadata": {
    "collapsed": false
   }
  },
  {
   "cell_type": "code",
   "execution_count": 106,
   "outputs": [],
   "source": [],
   "metadata": {
    "collapsed": false
   }
  },
  {
   "cell_type": "code",
   "execution_count": null,
   "outputs": [],
   "source": [],
   "metadata": {
    "collapsed": false
   }
  }
 ],
 "metadata": {
  "kernelspec": {
   "display_name": "Python 3",
   "language": "python",
   "name": "python3"
  },
  "language_info": {
   "codemirror_mode": {
    "name": "ipython",
    "version": 2
   },
   "file_extension": ".py",
   "mimetype": "text/x-python",
   "name": "python",
   "nbconvert_exporter": "python",
   "pygments_lexer": "ipython2",
   "version": "2.7.6"
  }
 },
 "nbformat": 4,
 "nbformat_minor": 0
}
