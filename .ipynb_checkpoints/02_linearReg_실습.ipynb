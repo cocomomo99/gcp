{
 "cells": [
  {
   "cell_type": "code",
   "execution_count": 19,
   "metadata": {
    "collapsed": true
   },
   "outputs": [],
   "source": [
    "import pandas as pd\n",
    "import numpy as np\n",
    "import matplotlib.pyplot as plt\n",
    "import tensorflow as tf\n",
    "from plotnine import *\n",
    "\n",
    "tf.random.set_seed(5)\n",
    "optimizer = tf.keras.optimizers.Adam(learning_rate= 0.05)"
   ]
  },
  {
   "cell_type": "code",
   "execution_count": 122,
   "outputs": [
    {
     "data": {
      "text/plain": "    # \"speed\"  dist\n0           4     2\n1           4    10\n2           7     4\n3           7    22\n4           8    16\n5           9    10\n6          10    18\n7          10    26\n8          10    34\n9          11    17\n10         11    28\n11         12    14\n12         12    20\n13         12    24\n14         12    28\n15         13    26\n16         13    34\n17         13    34\n18         13    46\n19         14    26\n20         14    36\n21         14    60\n22         14    80\n23         15    20\n24         15    26\n25         15    54\n26         16    32\n27         16    40\n28         17    32\n29         17    40\n30         17    50\n31         18    42\n32         18    56\n33         18    76\n34         18    84\n35         19    36\n36         19    46\n37         19    68\n38         20    32\n39         20    48\n40         20    52\n41         20    56\n42         20    64\n43         22    66\n44         23    54\n45         24    70\n46         24    92\n47         24    93\n48         24   120\n49         25    85",
      "text/html": "<div>\n<style scoped>\n    .dataframe tbody tr th:only-of-type {\n        vertical-align: middle;\n    }\n\n    .dataframe tbody tr th {\n        vertical-align: top;\n    }\n\n    .dataframe thead th {\n        text-align: right;\n    }\n</style>\n<table border=\"1\" class=\"dataframe\">\n  <thead>\n    <tr style=\"text-align: right;\">\n      <th></th>\n      <th># \"speed\"</th>\n      <th>dist</th>\n    </tr>\n  </thead>\n  <tbody>\n    <tr>\n      <th>0</th>\n      <td>4</td>\n      <td>2</td>\n    </tr>\n    <tr>\n      <th>1</th>\n      <td>4</td>\n      <td>10</td>\n    </tr>\n    <tr>\n      <th>2</th>\n      <td>7</td>\n      <td>4</td>\n    </tr>\n    <tr>\n      <th>3</th>\n      <td>7</td>\n      <td>22</td>\n    </tr>\n    <tr>\n      <th>4</th>\n      <td>8</td>\n      <td>16</td>\n    </tr>\n    <tr>\n      <th>5</th>\n      <td>9</td>\n      <td>10</td>\n    </tr>\n    <tr>\n      <th>6</th>\n      <td>10</td>\n      <td>18</td>\n    </tr>\n    <tr>\n      <th>7</th>\n      <td>10</td>\n      <td>26</td>\n    </tr>\n    <tr>\n      <th>8</th>\n      <td>10</td>\n      <td>34</td>\n    </tr>\n    <tr>\n      <th>9</th>\n      <td>11</td>\n      <td>17</td>\n    </tr>\n    <tr>\n      <th>10</th>\n      <td>11</td>\n      <td>28</td>\n    </tr>\n    <tr>\n      <th>11</th>\n      <td>12</td>\n      <td>14</td>\n    </tr>\n    <tr>\n      <th>12</th>\n      <td>12</td>\n      <td>20</td>\n    </tr>\n    <tr>\n      <th>13</th>\n      <td>12</td>\n      <td>24</td>\n    </tr>\n    <tr>\n      <th>14</th>\n      <td>12</td>\n      <td>28</td>\n    </tr>\n    <tr>\n      <th>15</th>\n      <td>13</td>\n      <td>26</td>\n    </tr>\n    <tr>\n      <th>16</th>\n      <td>13</td>\n      <td>34</td>\n    </tr>\n    <tr>\n      <th>17</th>\n      <td>13</td>\n      <td>34</td>\n    </tr>\n    <tr>\n      <th>18</th>\n      <td>13</td>\n      <td>46</td>\n    </tr>\n    <tr>\n      <th>19</th>\n      <td>14</td>\n      <td>26</td>\n    </tr>\n    <tr>\n      <th>20</th>\n      <td>14</td>\n      <td>36</td>\n    </tr>\n    <tr>\n      <th>21</th>\n      <td>14</td>\n      <td>60</td>\n    </tr>\n    <tr>\n      <th>22</th>\n      <td>14</td>\n      <td>80</td>\n    </tr>\n    <tr>\n      <th>23</th>\n      <td>15</td>\n      <td>20</td>\n    </tr>\n    <tr>\n      <th>24</th>\n      <td>15</td>\n      <td>26</td>\n    </tr>\n    <tr>\n      <th>25</th>\n      <td>15</td>\n      <td>54</td>\n    </tr>\n    <tr>\n      <th>26</th>\n      <td>16</td>\n      <td>32</td>\n    </tr>\n    <tr>\n      <th>27</th>\n      <td>16</td>\n      <td>40</td>\n    </tr>\n    <tr>\n      <th>28</th>\n      <td>17</td>\n      <td>32</td>\n    </tr>\n    <tr>\n      <th>29</th>\n      <td>17</td>\n      <td>40</td>\n    </tr>\n    <tr>\n      <th>30</th>\n      <td>17</td>\n      <td>50</td>\n    </tr>\n    <tr>\n      <th>31</th>\n      <td>18</td>\n      <td>42</td>\n    </tr>\n    <tr>\n      <th>32</th>\n      <td>18</td>\n      <td>56</td>\n    </tr>\n    <tr>\n      <th>33</th>\n      <td>18</td>\n      <td>76</td>\n    </tr>\n    <tr>\n      <th>34</th>\n      <td>18</td>\n      <td>84</td>\n    </tr>\n    <tr>\n      <th>35</th>\n      <td>19</td>\n      <td>36</td>\n    </tr>\n    <tr>\n      <th>36</th>\n      <td>19</td>\n      <td>46</td>\n    </tr>\n    <tr>\n      <th>37</th>\n      <td>19</td>\n      <td>68</td>\n    </tr>\n    <tr>\n      <th>38</th>\n      <td>20</td>\n      <td>32</td>\n    </tr>\n    <tr>\n      <th>39</th>\n      <td>20</td>\n      <td>48</td>\n    </tr>\n    <tr>\n      <th>40</th>\n      <td>20</td>\n      <td>52</td>\n    </tr>\n    <tr>\n      <th>41</th>\n      <td>20</td>\n      <td>56</td>\n    </tr>\n    <tr>\n      <th>42</th>\n      <td>20</td>\n      <td>64</td>\n    </tr>\n    <tr>\n      <th>43</th>\n      <td>22</td>\n      <td>66</td>\n    </tr>\n    <tr>\n      <th>44</th>\n      <td>23</td>\n      <td>54</td>\n    </tr>\n    <tr>\n      <th>45</th>\n      <td>24</td>\n      <td>70</td>\n    </tr>\n    <tr>\n      <th>46</th>\n      <td>24</td>\n      <td>92</td>\n    </tr>\n    <tr>\n      <th>47</th>\n      <td>24</td>\n      <td>93</td>\n    </tr>\n    <tr>\n      <th>48</th>\n      <td>24</td>\n      <td>120</td>\n    </tr>\n    <tr>\n      <th>49</th>\n      <td>25</td>\n      <td>85</td>\n    </tr>\n  </tbody>\n</table>\n</div>"
     },
     "execution_count": 122,
     "metadata": {},
     "output_type": "execute_result"
    }
   ],
   "source": [
    "df = pd.read_csv('C:\\\\Users\\\\HOME\\\\PycharmProjects\\\\ai\\\\.ipynb_checkpoints\\\\data_set\\\\data-01-cars.csv')\n",
    "df"
   ],
   "metadata": {
    "collapsed": false
   }
  },
  {
   "cell_type": "code",
   "execution_count": 130,
   "outputs": [
    {
     "data": {
      "text/plain": "array([ 4,  4,  7,  7,  8,  9, 10, 10, 10, 11, 11, 12, 12, 12, 12, 13, 13,\n       13, 13, 14, 14, 14, 14, 15, 15, 15, 16, 16, 17, 17, 17, 18, 18, 18,\n       18, 19, 19, 19, 20, 20, 20, 20, 20, 22, 23, 24, 24, 24, 24, 25],\n      dtype=int64)"
     },
     "execution_count": 130,
     "metadata": {},
     "output_type": "execute_result"
    }
   ],
   "source": [
    "x_train = df.iloc[:,0].to_numpy()\n",
    "y_train = df.iloc[:,1].to_numpy()\n",
    "\n",
    "x_train"
   ],
   "metadata": {
    "collapsed": false
   }
  },
  {
   "cell_type": "code",
   "execution_count": 131,
   "outputs": [
    {
     "data": {
      "text/plain": "array([ 4,  4,  7,  7,  8,  9, 10, 10, 10, 11, 11, 12, 12, 12, 12, 13, 13,\n       13, 13, 14, 14, 14, 14, 15, 15, 15, 16, 16, 17, 17, 17, 18, 18, 18,\n       18, 19, 19, 19, 20, 20, 20, 20, 20, 22, 23, 24, 24, 24, 24, 25],\n      dtype=int64)"
     },
     "execution_count": 131,
     "metadata": {},
     "output_type": "execute_result"
    }
   ],
   "source": [
    "df.iloc[:,0].values"
   ],
   "metadata": {
    "collapsed": false
   }
  },
  {
   "cell_type": "code",
   "execution_count": 134,
   "outputs": [
    {
     "data": {
      "text/plain": "array([ 4,  4,  7,  7,  8,  9, 10, 10, 10, 11, 11, 12, 12, 12, 12, 13, 13,\n       13, 13, 14, 14, 14, 14, 15, 15, 15, 16, 16, 17, 17, 17, 18, 18, 18,\n       18, 19, 19, 19, 20, 20, 20, 20, 20, 22, 23, 24, 24, 24, 24, 25],\n      dtype=int64)"
     },
     "execution_count": 134,
     "metadata": {},
     "output_type": "execute_result"
    }
   ],
   "source": [
    "df.values[:,0]"
   ],
   "metadata": {
    "collapsed": false
   }
  },
  {
   "cell_type": "code",
   "execution_count": 99,
   "outputs": [
    {
     "name": "stdout",
     "output_type": "stream",
     "text": [
      "<tf.Variable 'bias:0' shape=(1,) dtype=float32, numpy=array([-1.2530634], dtype=float32)>\n",
      "<tf.Variable 'weight:0' shape=(1,) dtype=float32, numpy=array([-2.3047404], dtype=float32)>\n"
     ]
    }
   ],
   "source": [
    "# 변수 초기화 : weight, bias\n",
    "W = tf.Variable(tf.random.normal([1]),name='weight')\n",
    "b = tf.Variable(tf.random.normal([1]),name='bias')\n",
    "print(b)\n",
    "print(W)"
   ],
   "metadata": {
    "collapsed": false
   }
  },
  {
   "cell_type": "code",
   "execution_count": 100,
   "outputs": [],
   "source": [
    "def hypothesis(X):\n",
    "    return X*W + b\n",
    "\n",
    "def cost_func():\n",
    "    cost = tf.reduce_mean(tf.square(hypothesis(x_train) - y_train))\n",
    "    return cost"
   ],
   "metadata": {
    "collapsed": false
   }
  },
  {
   "cell_type": "code",
   "execution_count": 101,
   "outputs": [
    {
     "data": {
      "text/plain": "<tf.Tensor: shape=(50,), dtype=float32, numpy=\narray([-10.472025, -10.472025, -17.386246, -17.386246, -19.690987,\n       -21.995728, -24.300468, -24.300468, -24.300468, -26.605207,\n       -26.605207, -28.909948, -28.909948, -28.909948, -28.909948,\n       -31.21469 , -31.21469 , -31.21469 , -31.21469 , -33.51943 ,\n       -33.51943 , -33.51943 , -33.51943 , -35.82417 , -35.82417 ,\n       -35.82417 , -38.12891 , -38.12891 , -40.43365 , -40.43365 ,\n       -40.43365 , -42.73839 , -42.73839 , -42.73839 , -42.73839 ,\n       -45.043133, -45.043133, -45.043133, -47.347874, -47.347874,\n       -47.347874, -47.347874, -47.347874, -51.95735 , -54.262093,\n       -56.566833, -56.566833, -56.566833, -56.566833, -58.871574],\n      dtype=float32)>"
     },
     "execution_count": 101,
     "metadata": {},
     "output_type": "execute_result"
    }
   ],
   "source": [
    "hypothesis(x_train)"
   ],
   "metadata": {
    "collapsed": false
   }
  },
  {
   "cell_type": "code",
   "execution_count": 102,
   "outputs": [
    {
     "data": {
      "text/plain": "<tf.Tensor: shape=(), dtype=float32, numpy=7649.2314>"
     },
     "execution_count": 102,
     "metadata": {},
     "output_type": "execute_result"
    }
   ],
   "source": [
    "cost_func()"
   ],
   "metadata": {
    "collapsed": false
   }
  },
  {
   "cell_type": "markdown",
   "source": [
    "# 학습 시작"
   ],
   "metadata": {
    "collapsed": false
   }
  },
  {
   "cell_type": "code",
   "execution_count": 104,
   "outputs": [
    {
     "name": "stdout",
     "output_type": "stream",
     "text": [
      "***** Start Learning!!\n",
      "0000 cost:[ 227.07047 ]  W: [3.9324012]  b: [-17.57896]\n",
      "0100 cost:[ 227.0704 ]  W: [3.932402]  b: [-17.578976]\n",
      "0200 cost:[ 227.07043 ]  W: [3.932402]  b: [-17.578978]\n",
      "0300 cost:[ 227.07043 ]  W: [3.932402]  b: [-17.578978]\n",
      "0400 cost:[ 227.07043 ]  W: [3.932402]  b: [-17.578978]\n",
      "0500 cost:[ 227.07043 ]  W: [3.932403]  b: [-17.578999]\n",
      "0600 cost:[ 227.07043 ]  W: [3.932403]  b: [-17.578999]\n",
      "0700 cost:[ 227.07043 ]  W: [3.932403]  b: [-17.578999]\n",
      "0800 cost:[ 227.07043 ]  W: [3.932403]  b: [-17.578999]\n",
      "0900 cost:[ 227.0704 ]  W: [3.9324038]  b: [-17.579012]\n",
      "1000 cost:[ 227.0704 ]  W: [3.9324043]  b: [-17.57902]\n",
      "1100 cost:[ 227.0704 ]  W: [3.9324043]  b: [-17.57902]\n",
      "1200 cost:[ 227.0704 ]  W: [3.9324043]  b: [-17.57902]\n",
      "1300 cost:[ 227.07043 ]  W: [3.9324043]  b: [-17.579021]\n",
      "1400 cost:[ 227.07043 ]  W: [3.9324055]  b: [-17.57904]\n",
      "1500 cost:[ 227.07043 ]  W: [3.9324057]  b: [-17.57904]\n",
      "1600 cost:[ 227.0704 ]  W: [3.9324057]  b: [-17.579042]\n",
      "1700 cost:[ 227.07039 ]  W: [3.932406]  b: [-17.579048]\n",
      "1800 cost:[ 227.07045 ]  W: [3.9324062]  b: [-17.579048]\n",
      "1900 cost:[ 227.0704 ]  W: [3.932406]  b: [-17.57905]\n",
      "2000 cost:[ 227.0704 ]  W: [3.9324067]  b: [-17.579054]\n",
      "2100 cost:[ 227.0704 ]  W: [3.9324067]  b: [-17.57906]\n",
      "2200 cost:[ 227.0704 ]  W: [3.9324067]  b: [-17.57906]\n",
      "2300 cost:[ 227.0704 ]  W: [3.9324067]  b: [-17.57906]\n",
      "2400 cost:[ 227.0704 ]  W: [3.9324067]  b: [-17.57906]\n",
      "2500 cost:[ 227.0704 ]  W: [3.9324067]  b: [-17.57906]\n",
      "2600 cost:[ 227.0704 ]  W: [3.9324067]  b: [-17.57906]\n",
      "2700 cost:[ 227.0704 ]  W: [3.9324067]  b: [-17.57906]\n",
      "2800 cost:[ 227.0704 ]  W: [3.9324067]  b: [-17.57906]\n",
      "2900 cost:[ 227.07043 ]  W: [3.9324071]  b: [-17.579063]\n",
      "***** Learning Finished!!\n"
     ]
    }
   ],
   "source": [
    "\n",
    "print('***** Start Learning!!')\n",
    "for step in range(3000):\n",
    "    optimizer.minimize(cost_func,var_list=[W,b])\n",
    "    if step % 100 == 0:\n",
    "        print('%04d'%step,'cost:[',cost_func().numpy(),']',\n",
    "             ' W:',W.numpy(),' b:',b.numpy())\n",
    "print('***** Learning Finished!!')"
   ],
   "metadata": {
    "collapsed": false
   }
  },
  {
   "cell_type": "markdown",
   "source": [
    "# weight과 bias 출력"
   ],
   "metadata": {
    "collapsed": false
   }
  },
  {
   "cell_type": "code",
   "execution_count": 164,
   "outputs": [
    {
     "name": "stdout",
     "output_type": "stream",
     "text": [
      "Weight: [3.9324079]\n"
     ]
    },
    {
     "ename": "AttributeError",
     "evalue": "'numpy.ndarray' object has no attribute 'numpy'",
     "output_type": "error",
     "traceback": [
      "\u001B[1;31m---------------------------------------------------------------------------\u001B[0m",
      "\u001B[1;31mAttributeError\u001B[0m                            Traceback (most recent call last)",
      "Cell \u001B[1;32mIn[164], line 2\u001B[0m\n\u001B[0;32m      1\u001B[0m \u001B[38;5;28mprint\u001B[39m(\u001B[38;5;124m'\u001B[39m\u001B[38;5;124mWeight:\u001B[39m\u001B[38;5;124m'\u001B[39m, W\u001B[38;5;241m.\u001B[39mnumpy())\n\u001B[1;32m----> 2\u001B[0m \u001B[38;5;28mprint\u001B[39m(\u001B[38;5;124m'\u001B[39m\u001B[38;5;124mBias:\u001B[39m\u001B[38;5;124m'\u001B[39m, \u001B[43mb\u001B[49m\u001B[38;5;241;43m.\u001B[39;49m\u001B[43mnumpy\u001B[49m())\n",
      "\u001B[1;31mAttributeError\u001B[0m: 'numpy.ndarray' object has no attribute 'numpy'"
     ]
    }
   ],
   "source": [
    "print('Weight:', W.numpy())\n",
    "print('Bias:', b.numpy())"
   ],
   "metadata": {
    "collapsed": false
   }
  },
  {
   "cell_type": "markdown",
   "source": [
    "# 예측"
   ],
   "metadata": {
    "collapsed": false
   }
  },
  {
   "cell_type": "code",
   "execution_count": 110,
   "outputs": [
    {
     "name": "stdout",
     "output_type": "stream",
     "text": [
      "***** Predict\n",
      "speed=30 , dist= [100.39316]\n",
      "speed=50 , dist= [179.0413]\n",
      "speed = [10,11,12,24,25], dist= [21.744997 25.677404 29.609816 76.79871  80.73112 ]\n"
     ]
    }
   ],
   "source": [
    "\n",
    "print('***** Predict')\n",
    "# 속도가 30과 50일 때 제동 거리를 예측해 보세요\n",
    "print('speed=30 , dist=', hypothesis(30).numpy())\n",
    "print('speed=50 , dist=', hypothesis(50).numpy())\n",
    "\n",
    "# X = [10,11,12,24,25] 일때\n",
    "print('speed = [10,11,12,24,25], dist=', hypothesis([ 10, 11, 12, 24, 25 ]).numpy())\n"
   ],
   "metadata": {
    "collapsed": false
   }
  },
  {
   "cell_type": "code",
   "execution_count": 200,
   "outputs": [
    {
     "ename": "ValueError",
     "evalue": "setting an array element with a sequence. The requested array has an inhomogeneous shape after 1 dimensions. The detected shape was (2,) + inhomogeneous part.",
     "output_type": "error",
     "traceback": [
      "\u001B[1;31m---------------------------------------------------------------------------\u001B[0m",
      "\u001B[1;31mValueError\u001B[0m                                Traceback (most recent call last)",
      "Cell \u001B[1;32mIn[200], line 7\u001B[0m\n\u001B[0;32m      3\u001B[0m     \u001B[38;5;28;01mreturn\u001B[39;00m X \u001B[38;5;241m*\u001B[39m W \u001B[38;5;241m+\u001B[39m b\n\u001B[0;32m      6\u001B[0m plt\u001B[38;5;241m.\u001B[39mplot(x_train, y_train, \u001B[38;5;124m'\u001B[39m\u001B[38;5;124mro\u001B[39m\u001B[38;5;124m'\u001B[39m)  \u001B[38;5;66;03m# Red      , 원본 데이터\u001B[39;00m\n\u001B[1;32m----> 7\u001B[0m \u001B[43mplt\u001B[49m\u001B[38;5;241;43m.\u001B[39;49m\u001B[43mplot\u001B[49m\u001B[43m(\u001B[49m\u001B[43m(\u001B[49m\u001B[38;5;241;43m0\u001B[39;49m\u001B[43m,\u001B[49m\u001B[43m \u001B[49m\u001B[38;5;241;43m25\u001B[39;49m\u001B[43m)\u001B[49m\u001B[43m,\u001B[49m\u001B[43m \u001B[49m\u001B[43m(\u001B[49m\u001B[38;5;241;43m0\u001B[39;49m\u001B[43m,\u001B[49m\u001B[43m \u001B[49m\u001B[43mprediction\u001B[49m\u001B[43m(\u001B[49m\u001B[38;5;241;43m25\u001B[39;49m\u001B[43m,\u001B[49m\u001B[43m \u001B[49m\u001B[43mW\u001B[49m\u001B[43m,\u001B[49m\u001B[43m \u001B[49m\u001B[43mb\u001B[49m\u001B[43m)\u001B[49m\u001B[43m)\u001B[49m\u001B[43m,\u001B[49m\u001B[43m \u001B[49m\u001B[38;5;124;43m'\u001B[39;49m\u001B[38;5;124;43mg\u001B[39;49m\u001B[38;5;124;43m'\u001B[39;49m\u001B[43m)\u001B[49m  \u001B[38;5;66;03m# Green\u001B[39;00m\n\u001B[0;32m      8\u001B[0m plt\u001B[38;5;241m.\u001B[39mplot((\u001B[38;5;241m0\u001B[39m,\u001B[38;5;241m25\u001B[39m),(prediction(\u001B[38;5;241m0\u001B[39m,W,b),prediction(\u001B[38;5;241m25\u001B[39m,W,b)),\u001B[38;5;124m'\u001B[39m\u001B[38;5;124mb\u001B[39m\u001B[38;5;124m'\u001B[39m )\n",
      "File \u001B[1;32m~\\anaconda3\\lib\\site-packages\\matplotlib\\pyplot.py:2812\u001B[0m, in \u001B[0;36mplot\u001B[1;34m(scalex, scaley, data, *args, **kwargs)\u001B[0m\n\u001B[0;32m   2810\u001B[0m \u001B[38;5;129m@_copy_docstring_and_deprecators\u001B[39m(Axes\u001B[38;5;241m.\u001B[39mplot)\n\u001B[0;32m   2811\u001B[0m \u001B[38;5;28;01mdef\u001B[39;00m \u001B[38;5;21mplot\u001B[39m(\u001B[38;5;241m*\u001B[39margs, scalex\u001B[38;5;241m=\u001B[39m\u001B[38;5;28;01mTrue\u001B[39;00m, scaley\u001B[38;5;241m=\u001B[39m\u001B[38;5;28;01mTrue\u001B[39;00m, data\u001B[38;5;241m=\u001B[39m\u001B[38;5;28;01mNone\u001B[39;00m, \u001B[38;5;241m*\u001B[39m\u001B[38;5;241m*\u001B[39mkwargs):\n\u001B[1;32m-> 2812\u001B[0m     \u001B[38;5;28;01mreturn\u001B[39;00m gca()\u001B[38;5;241m.\u001B[39mplot(\n\u001B[0;32m   2813\u001B[0m         \u001B[38;5;241m*\u001B[39margs, scalex\u001B[38;5;241m=\u001B[39mscalex, scaley\u001B[38;5;241m=\u001B[39mscaley,\n\u001B[0;32m   2814\u001B[0m         \u001B[38;5;241m*\u001B[39m\u001B[38;5;241m*\u001B[39m({\u001B[38;5;124m\"\u001B[39m\u001B[38;5;124mdata\u001B[39m\u001B[38;5;124m\"\u001B[39m: data} \u001B[38;5;28;01mif\u001B[39;00m data \u001B[38;5;129;01mis\u001B[39;00m \u001B[38;5;129;01mnot\u001B[39;00m \u001B[38;5;28;01mNone\u001B[39;00m \u001B[38;5;28;01melse\u001B[39;00m {}), \u001B[38;5;241m*\u001B[39m\u001B[38;5;241m*\u001B[39mkwargs)\n",
      "File \u001B[1;32m~\\anaconda3\\lib\\site-packages\\matplotlib\\axes\\_axes.py:1688\u001B[0m, in \u001B[0;36mAxes.plot\u001B[1;34m(self, scalex, scaley, data, *args, **kwargs)\u001B[0m\n\u001B[0;32m   1445\u001B[0m \u001B[38;5;250m\u001B[39m\u001B[38;5;124;03m\"\"\"\u001B[39;00m\n\u001B[0;32m   1446\u001B[0m \u001B[38;5;124;03mPlot y versus x as lines and/or markers.\u001B[39;00m\n\u001B[0;32m   1447\u001B[0m \n\u001B[1;32m   (...)\u001B[0m\n\u001B[0;32m   1685\u001B[0m \u001B[38;5;124;03m(``'green'``) or hex strings (``'#008000'``).\u001B[39;00m\n\u001B[0;32m   1686\u001B[0m \u001B[38;5;124;03m\"\"\"\u001B[39;00m\n\u001B[0;32m   1687\u001B[0m kwargs \u001B[38;5;241m=\u001B[39m cbook\u001B[38;5;241m.\u001B[39mnormalize_kwargs(kwargs, mlines\u001B[38;5;241m.\u001B[39mLine2D)\n\u001B[1;32m-> 1688\u001B[0m lines \u001B[38;5;241m=\u001B[39m [\u001B[38;5;241m*\u001B[39m\u001B[38;5;28mself\u001B[39m\u001B[38;5;241m.\u001B[39m_get_lines(\u001B[38;5;241m*\u001B[39margs, data\u001B[38;5;241m=\u001B[39mdata, \u001B[38;5;241m*\u001B[39m\u001B[38;5;241m*\u001B[39mkwargs)]\n\u001B[0;32m   1689\u001B[0m \u001B[38;5;28;01mfor\u001B[39;00m line \u001B[38;5;129;01min\u001B[39;00m lines:\n\u001B[0;32m   1690\u001B[0m     \u001B[38;5;28mself\u001B[39m\u001B[38;5;241m.\u001B[39madd_line(line)\n",
      "File \u001B[1;32m~\\anaconda3\\lib\\site-packages\\matplotlib\\axes\\_base.py:311\u001B[0m, in \u001B[0;36m_process_plot_var_args.__call__\u001B[1;34m(self, data, *args, **kwargs)\u001B[0m\n\u001B[0;32m    309\u001B[0m     this \u001B[38;5;241m+\u001B[39m\u001B[38;5;241m=\u001B[39m args[\u001B[38;5;241m0\u001B[39m],\n\u001B[0;32m    310\u001B[0m     args \u001B[38;5;241m=\u001B[39m args[\u001B[38;5;241m1\u001B[39m:]\n\u001B[1;32m--> 311\u001B[0m \u001B[38;5;28;01myield from\u001B[39;00m \u001B[38;5;28;43mself\u001B[39;49m\u001B[38;5;241;43m.\u001B[39;49m\u001B[43m_plot_args\u001B[49m\u001B[43m(\u001B[49m\n\u001B[0;32m    312\u001B[0m \u001B[43m    \u001B[49m\u001B[43mthis\u001B[49m\u001B[43m,\u001B[49m\u001B[43m \u001B[49m\u001B[43mkwargs\u001B[49m\u001B[43m,\u001B[49m\u001B[43m \u001B[49m\u001B[43mambiguous_fmt_datakey\u001B[49m\u001B[38;5;241;43m=\u001B[39;49m\u001B[43mambiguous_fmt_datakey\u001B[49m\u001B[43m)\u001B[49m\n",
      "File \u001B[1;32m~\\anaconda3\\lib\\site-packages\\matplotlib\\axes\\_base.py:494\u001B[0m, in \u001B[0;36m_process_plot_var_args._plot_args\u001B[1;34m(self, tup, kwargs, return_kwargs, ambiguous_fmt_datakey)\u001B[0m\n\u001B[0;32m    492\u001B[0m \u001B[38;5;28;01mif\u001B[39;00m \u001B[38;5;28mlen\u001B[39m(xy) \u001B[38;5;241m==\u001B[39m \u001B[38;5;241m2\u001B[39m:\n\u001B[0;32m    493\u001B[0m     x \u001B[38;5;241m=\u001B[39m _check_1d(xy[\u001B[38;5;241m0\u001B[39m])\n\u001B[1;32m--> 494\u001B[0m     y \u001B[38;5;241m=\u001B[39m \u001B[43m_check_1d\u001B[49m\u001B[43m(\u001B[49m\u001B[43mxy\u001B[49m\u001B[43m[\u001B[49m\u001B[38;5;241;43m1\u001B[39;49m\u001B[43m]\u001B[49m\u001B[43m)\u001B[49m\n\u001B[0;32m    495\u001B[0m \u001B[38;5;28;01melse\u001B[39;00m:\n\u001B[0;32m    496\u001B[0m     x, y \u001B[38;5;241m=\u001B[39m index_of(xy[\u001B[38;5;241m-\u001B[39m\u001B[38;5;241m1\u001B[39m])\n",
      "File \u001B[1;32m~\\anaconda3\\lib\\site-packages\\matplotlib\\cbook\\__init__.py:1348\u001B[0m, in \u001B[0;36m_check_1d\u001B[1;34m(x)\u001B[0m\n\u001B[0;32m   1342\u001B[0m \u001B[38;5;66;03m# plot requires `shape` and `ndim`.  If passed an\u001B[39;00m\n\u001B[0;32m   1343\u001B[0m \u001B[38;5;66;03m# object that doesn't provide them, then force to numpy array.\u001B[39;00m\n\u001B[0;32m   1344\u001B[0m \u001B[38;5;66;03m# Note this will strip unit information.\u001B[39;00m\n\u001B[0;32m   1345\u001B[0m \u001B[38;5;28;01mif\u001B[39;00m (\u001B[38;5;129;01mnot\u001B[39;00m \u001B[38;5;28mhasattr\u001B[39m(x, \u001B[38;5;124m'\u001B[39m\u001B[38;5;124mshape\u001B[39m\u001B[38;5;124m'\u001B[39m) \u001B[38;5;129;01mor\u001B[39;00m\n\u001B[0;32m   1346\u001B[0m         \u001B[38;5;129;01mnot\u001B[39;00m \u001B[38;5;28mhasattr\u001B[39m(x, \u001B[38;5;124m'\u001B[39m\u001B[38;5;124mndim\u001B[39m\u001B[38;5;124m'\u001B[39m) \u001B[38;5;129;01mor\u001B[39;00m\n\u001B[0;32m   1347\u001B[0m         \u001B[38;5;28mlen\u001B[39m(x\u001B[38;5;241m.\u001B[39mshape) \u001B[38;5;241m<\u001B[39m \u001B[38;5;241m1\u001B[39m):\n\u001B[1;32m-> 1348\u001B[0m     \u001B[38;5;28;01mreturn\u001B[39;00m \u001B[43mnp\u001B[49m\u001B[38;5;241;43m.\u001B[39;49m\u001B[43matleast_1d\u001B[49m\u001B[43m(\u001B[49m\u001B[43mx\u001B[49m\u001B[43m)\u001B[49m\n\u001B[0;32m   1349\u001B[0m \u001B[38;5;28;01melse\u001B[39;00m:\n\u001B[0;32m   1350\u001B[0m     \u001B[38;5;28;01mreturn\u001B[39;00m x\n",
      "File \u001B[1;32m~\\anaconda3\\lib\\site-packages\\numpy\\core\\shape_base.py:65\u001B[0m, in \u001B[0;36matleast_1d\u001B[1;34m(*arys)\u001B[0m\n\u001B[0;32m     63\u001B[0m res \u001B[38;5;241m=\u001B[39m []\n\u001B[0;32m     64\u001B[0m \u001B[38;5;28;01mfor\u001B[39;00m ary \u001B[38;5;129;01min\u001B[39;00m arys:\n\u001B[1;32m---> 65\u001B[0m     ary \u001B[38;5;241m=\u001B[39m \u001B[43masanyarray\u001B[49m\u001B[43m(\u001B[49m\u001B[43mary\u001B[49m\u001B[43m)\u001B[49m\n\u001B[0;32m     66\u001B[0m     \u001B[38;5;28;01mif\u001B[39;00m ary\u001B[38;5;241m.\u001B[39mndim \u001B[38;5;241m==\u001B[39m \u001B[38;5;241m0\u001B[39m:\n\u001B[0;32m     67\u001B[0m         result \u001B[38;5;241m=\u001B[39m ary\u001B[38;5;241m.\u001B[39mreshape(\u001B[38;5;241m1\u001B[39m)\n",
      "\u001B[1;31mValueError\u001B[0m: setting an array element with a sequence. The requested array has an inhomogeneous shape after 1 dimensions. The detected shape was (2,) + inhomogeneous part."
     ]
    },
    {
     "data": {
      "text/plain": "<Figure size 640x480 with 1 Axes>",
      "image/png": "[encoded data removed]"
     },
     "metadata": {
      "image/png": {
       "width": 640,
       "height": 480
      }
     },
     "output_type": "display_data"
    }
   ],
   "source": [
    "# 시각화 : matplotlib 사용\n",
    "def prediction(X, W, b):\n",
    "    return X * W + b\n",
    "\n",
    "\n",
    "plt.plot(x_train, y_train, 'ro')  # Red      , 원본 데이터\n",
    "plt.plot((0, 25), (0, prediction(25, W, b)), 'g')  # Green\n",
    "plt.plot((0,25),(prediction(0,W,b),prediction(25,W,b)),'b' ) # Blue, 예측함수"
   ],
   "metadata": {
    "collapsed": false
   }
  },
  {
   "cell_type": "code",
   "execution_count": 187,
   "outputs": [
    {
     "data": {
      "text/plain": "    # \"speed\"  dist\n0           4     2\n1           4    10\n2           7     4\n3           7    22\n4           8    16\n5           9    10\n6          10    18\n7          10    26\n8          10    34\n9          11    17\n10         11    28\n11         12    14\n12         12    20\n13         12    24\n14         12    28\n15         13    26\n16         13    34\n17         13    34\n18         13    46\n19         14    26\n20         14    36\n21         14    60\n22         14    80\n23         15    20\n24         15    26\n25         15    54\n26         16    32\n27         16    40\n28         17    32\n29         17    40\n30         17    50\n31         18    42\n32         18    56\n33         18    76\n34         18    84\n35         19    36\n36         19    46\n37         19    68\n38         20    32\n39         20    48\n40         20    52\n41         20    56\n42         20    64\n43         22    66\n44         23    54\n45         24    70\n46         24    92\n47         24    93\n48         24   120\n49         25    85",
      "text/html": "<div>\n<style scoped>\n    .dataframe tbody tr th:only-of-type {\n        vertical-align: middle;\n    }\n\n    .dataframe tbody tr th {\n        vertical-align: top;\n    }\n\n    .dataframe thead th {\n        text-align: right;\n    }\n</style>\n<table border=\"1\" class=\"dataframe\">\n  <thead>\n    <tr style=\"text-align: right;\">\n      <th></th>\n      <th># \"speed\"</th>\n      <th>dist</th>\n    </tr>\n  </thead>\n  <tbody>\n    <tr>\n      <th>0</th>\n      <td>4</td>\n      <td>2</td>\n    </tr>\n    <tr>\n      <th>1</th>\n      <td>4</td>\n      <td>10</td>\n    </tr>\n    <tr>\n      <th>2</th>\n      <td>7</td>\n      <td>4</td>\n    </tr>\n    <tr>\n      <th>3</th>\n      <td>7</td>\n      <td>22</td>\n    </tr>\n    <tr>\n      <th>4</th>\n      <td>8</td>\n      <td>16</td>\n    </tr>\n    <tr>\n      <th>5</th>\n      <td>9</td>\n      <td>10</td>\n    </tr>\n    <tr>\n      <th>6</th>\n      <td>10</td>\n      <td>18</td>\n    </tr>\n    <tr>\n      <th>7</th>\n      <td>10</td>\n      <td>26</td>\n    </tr>\n    <tr>\n      <th>8</th>\n      <td>10</td>\n      <td>34</td>\n    </tr>\n    <tr>\n      <th>9</th>\n      <td>11</td>\n      <td>17</td>\n    </tr>\n    <tr>\n      <th>10</th>\n      <td>11</td>\n      <td>28</td>\n    </tr>\n    <tr>\n      <th>11</th>\n      <td>12</td>\n      <td>14</td>\n    </tr>\n    <tr>\n      <th>12</th>\n      <td>12</td>\n      <td>20</td>\n    </tr>\n    <tr>\n      <th>13</th>\n      <td>12</td>\n      <td>24</td>\n    </tr>\n    <tr>\n      <th>14</th>\n      <td>12</td>\n      <td>28</td>\n    </tr>\n    <tr>\n      <th>15</th>\n      <td>13</td>\n      <td>26</td>\n    </tr>\n    <tr>\n      <th>16</th>\n      <td>13</td>\n      <td>34</td>\n    </tr>\n    <tr>\n      <th>17</th>\n      <td>13</td>\n      <td>34</td>\n    </tr>\n    <tr>\n      <th>18</th>\n      <td>13</td>\n      <td>46</td>\n    </tr>\n    <tr>\n      <th>19</th>\n      <td>14</td>\n      <td>26</td>\n    </tr>\n    <tr>\n      <th>20</th>\n      <td>14</td>\n      <td>36</td>\n    </tr>\n    <tr>\n      <th>21</th>\n      <td>14</td>\n      <td>60</td>\n    </tr>\n    <tr>\n      <th>22</th>\n      <td>14</td>\n      <td>80</td>\n    </tr>\n    <tr>\n      <th>23</th>\n      <td>15</td>\n      <td>20</td>\n    </tr>\n    <tr>\n      <th>24</th>\n      <td>15</td>\n      <td>26</td>\n    </tr>\n    <tr>\n      <th>25</th>\n      <td>15</td>\n      <td>54</td>\n    </tr>\n    <tr>\n      <th>26</th>\n      <td>16</td>\n      <td>32</td>\n    </tr>\n    <tr>\n      <th>27</th>\n      <td>16</td>\n      <td>40</td>\n    </tr>\n    <tr>\n      <th>28</th>\n      <td>17</td>\n      <td>32</td>\n    </tr>\n    <tr>\n      <th>29</th>\n      <td>17</td>\n      <td>40</td>\n    </tr>\n    <tr>\n      <th>30</th>\n      <td>17</td>\n      <td>50</td>\n    </tr>\n    <tr>\n      <th>31</th>\n      <td>18</td>\n      <td>42</td>\n    </tr>\n    <tr>\n      <th>32</th>\n      <td>18</td>\n      <td>56</td>\n    </tr>\n    <tr>\n      <th>33</th>\n      <td>18</td>\n      <td>76</td>\n    </tr>\n    <tr>\n      <th>34</th>\n      <td>18</td>\n      <td>84</td>\n    </tr>\n    <tr>\n      <th>35</th>\n      <td>19</td>\n      <td>36</td>\n    </tr>\n    <tr>\n      <th>36</th>\n      <td>19</td>\n      <td>46</td>\n    </tr>\n    <tr>\n      <th>37</th>\n      <td>19</td>\n      <td>68</td>\n    </tr>\n    <tr>\n      <th>38</th>\n      <td>20</td>\n      <td>32</td>\n    </tr>\n    <tr>\n      <th>39</th>\n      <td>20</td>\n      <td>48</td>\n    </tr>\n    <tr>\n      <th>40</th>\n      <td>20</td>\n      <td>52</td>\n    </tr>\n    <tr>\n      <th>41</th>\n      <td>20</td>\n      <td>56</td>\n    </tr>\n    <tr>\n      <th>42</th>\n      <td>20</td>\n      <td>64</td>\n    </tr>\n    <tr>\n      <th>43</th>\n      <td>22</td>\n      <td>66</td>\n    </tr>\n    <tr>\n      <th>44</th>\n      <td>23</td>\n      <td>54</td>\n    </tr>\n    <tr>\n      <th>45</th>\n      <td>24</td>\n      <td>70</td>\n    </tr>\n    <tr>\n      <th>46</th>\n      <td>24</td>\n      <td>92</td>\n    </tr>\n    <tr>\n      <th>47</th>\n      <td>24</td>\n      <td>93</td>\n    </tr>\n    <tr>\n      <th>48</th>\n      <td>24</td>\n      <td>120</td>\n    </tr>\n    <tr>\n      <th>49</th>\n      <td>25</td>\n      <td>85</td>\n    </tr>\n  </tbody>\n</table>\n</div>"
     },
     "execution_count": 187,
     "metadata": {},
     "output_type": "execute_result"
    }
   ],
   "source": [
    "df"
   ],
   "metadata": {
    "collapsed": false
   }
  },
  {
   "cell_type": "markdown",
   "source": [
    "# 다중회귀"
   ],
   "metadata": {
    "collapsed": false
   }
  },
  {
   "cell_type": "markdown",
   "source": [
    "## 예측함수\n",
    " $h = X1*w1 + X2*w2 + X3*w3 + b$"
   ],
   "metadata": {
    "collapsed": false
   }
  },
  {
   "cell_type": "code",
   "execution_count": 4,
   "outputs": [
    {
     "data": {
      "text/plain": "<tf.Variable 'Variable:0' shape=(3, 3) dtype=float64, numpy=\narray([[0.13806604, 0.39489128, 0.95796203],\n       [0.03611643, 0.13587335, 0.57762783],\n       [0.98093172, 0.54520112, 0.86583323]])>"
     },
     "execution_count": 4,
     "metadata": {},
     "output_type": "execute_result"
    }
   ],
   "source": [
    "X = np.random.rand(3,3)\n",
    "X = tf.Variable(X)\n",
    "X"
   ],
   "metadata": {
    "collapsed": false
   }
  },
  {
   "cell_type": "code",
   "execution_count": 5,
   "outputs": [
    {
     "data": {
      "text/plain": "<tf.Variable 'Variable:0' shape=(3, 1) dtype=float64, numpy=\narray([[0.56623663],\n       [0.6768345 ],\n       [0.11781353]])>"
     },
     "execution_count": 5,
     "metadata": {},
     "output_type": "execute_result"
    }
   ],
   "source": [
    "y = np.random.rand(3,1)\n",
    "y = tf.Variable(y)\n",
    "y"
   ],
   "metadata": {
    "collapsed": false
   }
  },
  {
   "cell_type": "code",
   "execution_count": 6,
   "outputs": [
    {
     "data": {
      "text/plain": "<tf.Variable 'Variable:0' shape=(3, 1) dtype=float64, numpy=\narray([[0.86537879],\n       [0.83664159],\n       [0.52726463]])>"
     },
     "execution_count": 6,
     "metadata": {},
     "output_type": "execute_result"
    }
   ],
   "source": [
    "w = np.random.rand(3,1)\n",
    "w = tf.Variable(w)\n",
    "w"
   ],
   "metadata": {
    "collapsed": false
   }
  },
  {
   "cell_type": "code",
   "execution_count": 7,
   "outputs": [
    {
     "data": {
      "text/plain": "<tf.Variable 'Variable:0' shape=(1, 1) dtype=float64, numpy=array([[0.04402734]])>"
     },
     "execution_count": 7,
     "metadata": {},
     "output_type": "execute_result"
    }
   ],
   "source": [
    "b = np.random.rand(1,1)\n",
    "b = tf.Variable(b)\n",
    "b"
   ],
   "metadata": {
    "collapsed": false
   }
  },
  {
   "cell_type": "code",
   "execution_count": 8,
   "outputs": [],
   "source": [
    "def hyp2(w, b):\n",
    "    return tf.matmul(X,w) + b  # 내적 곱\n",
    "\n",
    "def cost_func():\n",
    "    hyp = hyp2(w, b)\n",
    "    return tf.reduce_mean(tf.square(hyp - y))"
   ],
   "metadata": {
    "collapsed": false
   }
  },
  {
   "cell_type": "code",
   "execution_count": 9,
   "outputs": [
    {
     "data": {
      "text/plain": "<tf.Tensor: shape=(3, 1), dtype=float64, numpy=\narray([[0.99898872],\n       [0.49352174],\n       [1.805566  ]])>"
     },
     "execution_count": 9,
     "metadata": {},
     "output_type": "execute_result"
    }
   ],
   "source": [
    "h = hyp2(w, b)\n",
    "h"
   ],
   "metadata": {
    "collapsed": false
   }
  },
  {
   "cell_type": "code",
   "execution_count": 10,
   "outputs": [
    {
     "data": {
      "text/plain": "<tf.Tensor: shape=(), dtype=float64, numpy=1.0231287781565566>"
     },
     "execution_count": 10,
     "metadata": {},
     "output_type": "execute_result"
    }
   ],
   "source": [
    "cost_func()"
   ],
   "metadata": {
    "collapsed": false
   }
  },
  {
   "cell_type": "code",
   "execution_count": 11,
   "outputs": [
    {
     "name": "stdout",
     "output_type": "stream",
     "text": [
      "***** Start Learning!!\n"
     ]
    },
    {
     "ename": "NameError",
     "evalue": "name 'optimizer' is not defined",
     "output_type": "error",
     "traceback": [
      "\u001B[1;31m---------------------------------------------------------------------------\u001B[0m",
      "\u001B[1;31mNameError\u001B[0m                                 Traceback (most recent call last)",
      "Cell \u001B[1;32mIn[11], line 4\u001B[0m\n\u001B[0;32m      1\u001B[0m \u001B[38;5;28mprint\u001B[39m(\u001B[38;5;124m'\u001B[39m\u001B[38;5;124m***** Start Learning!!\u001B[39m\u001B[38;5;124m'\u001B[39m)\n\u001B[0;32m      3\u001B[0m \u001B[38;5;28;01mfor\u001B[39;00m step \u001B[38;5;129;01min\u001B[39;00m \u001B[38;5;28mrange\u001B[39m(\u001B[38;5;241m3000\u001B[39m):\n\u001B[1;32m----> 4\u001B[0m     \u001B[43moptimizer\u001B[49m\u001B[38;5;241m.\u001B[39mminimize(loss \u001B[38;5;241m=\u001B[39m cost_func,var_list\u001B[38;5;241m=\u001B[39m[w,b])\n\u001B[0;32m      5\u001B[0m     \u001B[38;5;28;01mif\u001B[39;00m step \u001B[38;5;241m%\u001B[39m \u001B[38;5;241m100\u001B[39m \u001B[38;5;241m==\u001B[39m \u001B[38;5;241m0\u001B[39m:\n\u001B[0;32m      6\u001B[0m         \u001B[38;5;28mprint\u001B[39m(\u001B[38;5;124m'\u001B[39m\u001B[38;5;132;01m%04d\u001B[39;00m\u001B[38;5;124m'\u001B[39m\u001B[38;5;241m%\u001B[39mstep,\u001B[38;5;124m'\u001B[39m\u001B[38;5;124mcost:[\u001B[39m\u001B[38;5;124m'\u001B[39m,cost_func()\u001B[38;5;241m.\u001B[39mnumpy(),\u001B[38;5;124m'\u001B[39m\u001B[38;5;124m]\u001B[39m\u001B[38;5;124m'\u001B[39m,\n\u001B[0;32m      7\u001B[0m              \u001B[38;5;124m'\u001B[39m\u001B[38;5;124m W:\u001B[39m\u001B[38;5;124m'\u001B[39m,W\u001B[38;5;241m.\u001B[39mnumpy(),\u001B[38;5;124m'\u001B[39m\u001B[38;5;124m b:\u001B[39m\u001B[38;5;124m'\u001B[39m,b\u001B[38;5;241m.\u001B[39mnumpy())\n",
      "\u001B[1;31mNameError\u001B[0m: name 'optimizer' is not defined"
     ]
    }
   ],
   "source": [
    "print('***** Start Learning!!')\n",
    "\n",
    "for step in range(3000):\n",
    "    optimizer.minimize(loss = cost_func,var_list=[w,b])\n",
    "    if step % 100 == 0:\n",
    "        print('%04d'%step,'cost:[',cost_func().numpy(),']',\n",
    "             ' W:',W.numpy(),' b:',b.numpy())\n",
    "print('***** Learning Finished!!')"
   ],
   "metadata": {
    "collapsed": false
   }
  },
  {
   "cell_type": "code",
   "execution_count": 11,
   "outputs": [],
   "source": [],
   "metadata": {
    "collapsed": false
   }
  },
  {
   "cell_type": "code",
   "execution_count": 12,
   "outputs": [
    {
     "data": {
      "text/plain": "array([[ 73.,  80.,  75., 152.],\n       [ 93.,  88.,  93., 185.],\n       [ 89.,  91.,  90., 180.],\n       [ 96.,  98., 100., 196.],\n       [ 73.,  66.,  70., 142.],\n       [ 53.,  46.,  55., 101.],\n       [ 69.,  74.,  77., 149.],\n       [ 47.,  56.,  60., 115.],\n       [ 87.,  79.,  90., 175.],\n       [ 79.,  70.,  88., 164.],\n       [ 69.,  70.,  73., 141.],\n       [ 70.,  65.,  74., 141.],\n       [ 93.,  95.,  91., 184.],\n       [ 79.,  80.,  73., 152.],\n       [ 70.,  73.,  78., 148.],\n       [ 93.,  89.,  96., 192.],\n       [ 78.,  75.,  68., 147.],\n       [ 81.,  90.,  93., 183.],\n       [ 88.,  92.,  86., 177.],\n       [ 78.,  83.,  77., 159.],\n       [ 82.,  86.,  90., 177.],\n       [ 86.,  82.,  89., 175.],\n       [ 78.,  83.,  85., 175.],\n       [ 76.,  83.,  71., 149.],\n       [ 96.,  93.,  95., 192.]], dtype=float32)"
     },
     "execution_count": 12,
     "metadata": {},
     "output_type": "execute_result"
    }
   ],
   "source": [
    "xy = np.loadtxt('C:/Users/HOME/PycharmProjects/ai/.ipynb_checkpoints/data_set/data-02-test-score.csv',\n",
    "                skiprows= 1, dtype=np.float32, delimiter= ',')\n",
    "xy"
   ],
   "metadata": {
    "collapsed": false
   }
  },
  {
   "cell_type": "code",
   "execution_count": 13,
   "outputs": [
    {
     "data": {
      "text/plain": "array([[ 73.,  80.,  75.],\n       [ 93.,  88.,  93.],\n       [ 89.,  91.,  90.],\n       [ 96.,  98., 100.],\n       [ 73.,  66.,  70.],\n       [ 53.,  46.,  55.],\n       [ 69.,  74.,  77.],\n       [ 47.,  56.,  60.],\n       [ 87.,  79.,  90.],\n       [ 79.,  70.,  88.],\n       [ 69.,  70.,  73.],\n       [ 70.,  65.,  74.],\n       [ 93.,  95.,  91.],\n       [ 79.,  80.,  73.],\n       [ 70.,  73.,  78.],\n       [ 93.,  89.,  96.],\n       [ 78.,  75.,  68.],\n       [ 81.,  90.,  93.],\n       [ 88.,  92.,  86.],\n       [ 78.,  83.,  77.],\n       [ 82.,  86.,  90.],\n       [ 86.,  82.,  89.],\n       [ 78.,  83.,  85.],\n       [ 76.,  83.,  71.],\n       [ 96.,  93.,  95.]], dtype=float32)"
     },
     "execution_count": 13,
     "metadata": {},
     "output_type": "execute_result"
    }
   ],
   "source": [
    "x = xy[:,0:3]\n",
    "x"
   ],
   "metadata": {
    "collapsed": false
   }
  },
  {
   "cell_type": "code",
   "execution_count": 14,
   "outputs": [
    {
     "data": {
      "text/plain": "array([152., 185., 180., 196., 142., 101., 149., 115., 175., 164., 141.,\n       141., 184., 152., 148., 192., 147., 183., 177., 159., 177., 175.,\n       175., 149., 192.], dtype=float32)"
     },
     "execution_count": 14,
     "metadata": {},
     "output_type": "execute_result"
    }
   ],
   "source": [
    "y = xy[:,3]\n",
    "y"
   ],
   "metadata": {
    "collapsed": false
   }
  },
  {
   "cell_type": "code",
   "execution_count": 15,
   "outputs": [
    {
     "data": {
      "text/plain": "(<tf.Variable 'weight:0' shape=(3, 1) dtype=float32, numpy=\n array([[-0.18030666],\n        [-0.95028627],\n        [-0.03964049]], dtype=float32)>,\n <tf.Variable 'bias:0' shape=(1,) dtype=float32, numpy=array([0.22652863], dtype=float32)>)"
     },
     "execution_count": 15,
     "metadata": {},
     "output_type": "execute_result"
    }
   ],
   "source": [
    "w = tf.Variable(tf.random.normal([3,1]), name='weight')\n",
    "b = tf.Variable(tf.random.normal([1]),name='bias')\n",
    "w, b"
   ],
   "metadata": {
    "collapsed": false
   }
  },
  {
   "cell_type": "code",
   "execution_count": 16,
   "outputs": [],
   "source": [
    "def cost_fuc():\n",
    "    cost = tf.reduce_mean(tf.square(tf.matmul(x,w) + b - y))\n",
    "    return cost"
   ],
   "metadata": {
    "collapsed": false
   }
  },
  {
   "cell_type": "code",
   "execution_count": 17,
   "outputs": [
    {
     "data": {
      "text/plain": "<tf.Tensor: shape=(), dtype=float32, numpy=65686.805>"
     },
     "execution_count": 17,
     "metadata": {},
     "output_type": "execute_result"
    }
   ],
   "source": [
    "cost_fuc()"
   ],
   "metadata": {
    "collapsed": false
   }
  },
  {
   "cell_type": "code",
   "execution_count": 37,
   "outputs": [
    {
     "name": "stdout",
     "output_type": "stream",
     "text": [
      "***** Start Learning!!\n",
      "0000 cost:[ 603.434 ]  W: [[-0.01662863]\n",
      " [ 0.14166558]\n",
      " [ 0.48118964]]  b: [111.925674]\n",
      "0100 cost:[ 598.6686 ]  W: [[-0.01554938]\n",
      " [ 0.13449152]\n",
      " [ 0.45669717]]  b: [114.45469]\n",
      "0200 cost:[ 594.215 ]  W: [[-0.01451815]\n",
      " [ 0.12742712]\n",
      " [ 0.43259513]]  b: [116.94626]\n",
      "0300 cost:[ 590.068 ]  W: [[-0.01353428]\n",
      " [ 0.12048186]\n",
      " [ 0.40891486]]  b: [119.39696]\n",
      "0400 cost:[ 586.2217 ]  W: [[-0.0125964 ]\n",
      " [ 0.11366554]\n",
      " [ 0.385688  ]]  b: [121.80325]\n",
      "0500 cost:[ 582.6687 ]  W: [[-0.01170325]\n",
      " [ 0.10698764]\n",
      " [ 0.36294603]]  b: [124.16167]\n",
      "0600 cost:[ 579.4006 ]  W: [[-0.01085365]\n",
      " [ 0.10045774]\n",
      " [ 0.34071988]]  b: [126.46876]\n",
      "0700 cost:[ 576.4081 ]  W: [[-0.01004625]\n",
      " [ 0.09408499]\n",
      " [ 0.31904027]]  b: [128.72112]\n",
      "0800 cost:[ 573.6811 ]  W: [[-0.00927967]\n",
      " [ 0.08787882]\n",
      " [ 0.2979377 ]]  b: [130.91531]\n",
      "0900 cost:[ 571.2083 ]  W: [[-0.00855276]\n",
      " [ 0.08184826]\n",
      " [ 0.27744174]]  b: [133.0481]\n",
      "1000 cost:[ 568.9781 ]  W: [[-0.00786424]\n",
      " [ 0.07600223]\n",
      " [ 0.25758168]]  b: [135.11621]\n",
      "1100 cost:[ 566.978 ]  W: [[-0.00721288]\n",
      " [ 0.0703494 ]\n",
      " [ 0.23838581]]  b: [137.11649]\n",
      "1200 cost:[ 565.1951 ]  W: [[-0.00659767]\n",
      " [ 0.06489805]\n",
      " [ 0.21988119]]  b: [139.04593]\n",
      "1300 cost:[ 563.6156 ]  W: [[-0.00601763]\n",
      " [ 0.05965583]\n",
      " [ 0.20209345]]  b: [140.9017]\n",
      "1400 cost:[ 562.22595 ]  W: [[-0.00547112]\n",
      " [ 0.05463072]\n",
      " [ 0.18504706]]  b: [142.681]\n",
      "1500 cost:[ 561.012 ]  W: [[-0.00495762]\n",
      " [ 0.04982954]\n",
      " [ 0.16876529]]  b: [144.3813]\n",
      "1600 cost:[ 559.9599 ]  W: [[-0.0044762 ]\n",
      " [ 0.04525834]\n",
      " [ 0.153268  ]]  b: [146.00037]\n",
      "1700 cost:[ 559.05524 ]  W: [[-0.00402591]\n",
      " [ 0.04092271]\n",
      " [ 0.13857295]]  b: [147.5362]\n",
      "1800 cost:[ 558.2842 ]  W: [[-0.00360597]\n",
      " [ 0.03682721]\n",
      " [ 0.12469489]]  b: [148.98715]\n",
      "1900 cost:[ 557.63293 ]  W: [[-0.00321542]\n",
      " [ 0.03297535]\n",
      " [ 0.1116448 ]]  b: [150.35196]\n",
      "2000 cost:[ 557.0884 ]  W: [[-0.00285332]\n",
      " [ 0.02936943]\n",
      " [ 0.09943017]]  b: [151.62973]\n",
      "2100 cost:[ 556.6378 ]  W: [[-0.00251901]\n",
      " [ 0.02601075]\n",
      " [ 0.08805466]]  b: [152.82]\n",
      "2200 cost:[ 556.2691 ]  W: [[-0.00221159]\n",
      " [ 0.02289899]\n",
      " [ 0.07751697]]  b: [153.92279]\n",
      "2300 cost:[ 555.9708 ]  W: [[-0.00193022]\n",
      " [ 0.0200326 ]\n",
      " [ 0.06781081]]  b: [154.93878]\n",
      "2400 cost:[ 555.7328 ]  W: [[-0.00167439]\n",
      " [ 0.01740779]\n",
      " [ 0.05892454]]  b: [155.86903]\n",
      "2500 cost:[ 555.54517 ]  W: [[-0.00144159]\n",
      " [ 0.01502131]\n",
      " [ 0.05084293]]  b: [156.71527]\n",
      "2600 cost:[ 556.41235 ]  W: [[-0.0054064 ]\n",
      " [ 0.0087239 ]\n",
      " [ 0.03946406]]  b: [157.47472]\n",
      "2700 cost:[ 555.2922 ]  W: [[-0.00119472]\n",
      " [ 0.01099494]\n",
      " [ 0.03735542]]  b: [158.13713]\n",
      "2800 cost:[ 555.20996 ]  W: [[-0.00100123]\n",
      " [ 0.00934889]\n",
      " [ 0.03171602]]  b: [158.72818]\n",
      "2900 cost:[ 556.3525 ]  W: [[-0.0053781 ]\n",
      " [ 0.00335412]\n",
      " [ 0.02221934]]  b: [159.24823]\n",
      "3000 cost:[ 555.10486 ]  W: [[-0.00077614]\n",
      " [ 0.00664738]\n",
      " [ 0.02258041]]  b: [159.69118]\n",
      "3100 cost:[ 555.0726 ]  W: [[-0.00066182]\n",
      " [ 0.00554064]\n",
      " [ 0.01884154]]  b: [160.07913]\n",
      "3200 cost:[ 555.9368 ]  W: [[-0.00442502]\n",
      " [ 0.00070635]\n",
      " [ 0.01170745]]  b: [160.41586]\n",
      "3300 cost:[ 555.03326 ]  W: [[-0.00044745]\n",
      " [ 0.00383929]\n",
      " [ 0.01298064]]  b: [160.69766]\n",
      "3400 cost:[ 555.0218 ]  W: [[-0.0004073 ]\n",
      " [ 0.00311386]\n",
      " [ 0.01061347]]  b: [160.93863]\n",
      "3500 cost:[ 555.6511 ]  W: [[0.00294931]\n",
      " [0.00581346]\n",
      " [0.01191487]]  b: [161.14714]\n",
      "3600 cost:[ 555.0087 ]  W: [[-0.00027487]\n",
      " [ 0.00208103]\n",
      " [ 0.00706964]]  b: [161.31013]\n",
      "3700 cost:[ 555.00507 ]  W: [[-0.00023611]\n",
      " [ 0.00166636]\n",
      " [ 0.00569171]]  b: [161.45103]\n",
      "3800 cost:[ 555.1422 ]  W: [[0.00134274]\n",
      " [0.002869  ]\n",
      " [0.00609721]]  b: [161.56978]\n",
      "3900 cost:[ 555.0012 ]  W: [[-0.00016163]\n",
      " [ 0.00107126]\n",
      " [ 0.00366562]]  b: [161.66167]\n",
      "4000 cost:[ 555.0001 ]  W: [[-0.0001286 ]\n",
      " [ 0.00084994]\n",
      " [ 0.00290804]]  b: [161.73985]\n",
      "4100 cost:[ 555.0201 ]  W: [[-6.9555349e-04]\n",
      " [ 8.2234037e-05]\n",
      " [ 1.7149695e-03]]  b: [161.80214]\n",
      "4200 cost:[ 554.999 ]  W: [[-8.0689635e-05]\n",
      " [ 5.3798343e-04]\n",
      " [ 1.8320311e-03]]  b: [161.85187]\n",
      "4300 cost:[ 554.99884 ]  W: [[-6.8553811e-05]\n",
      " [ 4.1586618e-04]\n",
      " [ 1.4288417e-03]]  b: [161.89276]\n",
      "4400 cost:[ 554.9994 ]  W: [[-0.00016474]\n",
      " [ 0.0002151 ]\n",
      " [ 0.00100796]]  b: [161.92494]\n",
      "4500 cost:[ 554.99854 ]  W: [[-3.9651302e-05]\n",
      " [ 2.5780880e-04]\n",
      " [ 8.7708578e-04]]  b: [161.9502]\n",
      "4600 cost:[ 554.9985 ]  W: [[-1.4089594e-05]\n",
      " [ 2.1519588e-04]\n",
      " [ 6.9242180e-04]]  b: [161.97086]\n",
      "4700 cost:[ 554.9985 ]  W: [[-1.3487479e-05]\n",
      " [ 1.6560781e-04]\n",
      " [ 5.3750520e-04]]  b: [161.98618]\n",
      "4800 cost:[ 554.9984 ]  W: [[-1.9467747e-05]\n",
      " [ 1.1959777e-04]\n",
      " [ 4.0795762e-04]]  b: [161.99825]\n",
      "4900 cost:[ 554.9985 ]  W: [[-1.7687598e-05]\n",
      " [ 8.8621324e-05]\n",
      " [ 3.0923469e-04]]  b: [162.0081]\n",
      "***** Learning Finished!!\n"
     ]
    }
   ],
   "source": [
    "print('***** Start Learning!!')\n",
    "\n",
    "for step in range(5000):\n",
    "    optimizer.minimize(loss = cost_fuc,var_list=[w,b])\n",
    "    if step % 100 == 0:\n",
    "        print('%04d'%step,'cost:[',cost_fuc().numpy(),']',\n",
    "             ' W:',w.numpy(),' b:',b.numpy())\n",
    "print('***** Learning Finished!!')"
   ],
   "metadata": {
    "collapsed": false
   }
  },
  {
   "cell_type": "code",
   "execution_count": 43,
   "outputs": [],
   "source": [
    "def pred(x, w, b):\n",
    "    return (tf.matmul(x,w) + b).numpy()"
   ],
   "metadata": {
    "collapsed": false
   }
  },
  {
   "cell_type": "code",
   "execution_count": 52,
   "outputs": [
    {
     "data": {
      "text/plain": "array([[ 73.,  80.,  75.],\n       [ 93.,  88.,  93.],\n       [ 89.,  91.,  90.],\n       [ 96.,  98., 100.],\n       [ 73.,  66.,  70.],\n       [ 53.,  46.,  55.],\n       [ 69.,  74.,  77.],\n       [ 47.,  56.,  60.],\n       [ 87.,  79.,  90.],\n       [ 79.,  70.,  88.],\n       [ 69.,  70.,  73.],\n       [ 70.,  65.,  74.],\n       [ 93.,  95.,  91.],\n       [ 79.,  80.,  73.],\n       [ 70.,  73.,  78.],\n       [ 93.,  89.,  96.],\n       [ 78.,  75.,  68.],\n       [ 81.,  90.,  93.],\n       [ 88.,  92.,  86.],\n       [ 78.,  83.,  77.],\n       [ 82.,  86.,  90.],\n       [ 86.,  82.,  89.],\n       [ 78.,  83.,  85.],\n       [ 76.,  83.,  71.],\n       [ 96.,  93.,  95.]], dtype=float32)"
     },
     "execution_count": 52,
     "metadata": {},
     "output_type": "execute_result"
    }
   ],
   "source": [
    "x"
   ],
   "metadata": {
    "collapsed": false
   }
  },
  {
   "cell_type": "code",
   "execution_count": 49,
   "outputs": [
    {
     "data": {
      "text/plain": "array([[162.10924],\n       [162.12817],\n       [162.12646],\n       [162.13673],\n       [162.10115],\n       [162.0793 ],\n       [162.10686],\n       [162.08408],\n       [162.12129],\n       [162.11438],\n       [162.10313],\n       [162.10208],\n       [162.12973],\n       [162.10992],\n       [162.10733],\n       [162.1302 ],\n       [162.10497],\n       [162.12535],\n       [162.12434],\n       [162.11298],\n       [162.12247],\n       [162.1216 ],\n       [162.11739],\n       [162.10907],\n       [162.13206]], dtype=float32)"
     },
     "execution_count": 49,
     "metadata": {},
     "output_type": "execute_result"
    }
   ],
   "source": [
    "df = pred(x, w, b)\n",
    "df"
   ],
   "metadata": {
    "collapsed": false
   }
  },
  {
   "cell_type": "markdown",
   "source": [
    "# 정확도 측정"
   ],
   "metadata": {
    "collapsed": false
   }
  },
  {
   "cell_type": "code",
   "execution_count": 54,
   "outputs": [],
   "source": [
    "# 정확도 측정 : RMSE(Root Mean Squared Error)\n",
    "def get_rmse(y_test,preds):\n",
    "    squared_error = 0\n",
    "    for k,_ in enumerate(y_test):\n",
    "        squared_error += (preds[k] - y_test[k])**2\n",
    "    mse = squared_error/len(y_test)\n",
    "    rmse = np.sqrt(mse)\n",
    "    return rmse[0]"
   ],
   "metadata": {
    "collapsed": false
   }
  },
  {
   "cell_type": "code",
   "execution_count": 58,
   "outputs": [
    {
     "name": "stdout",
     "output_type": "stream",
     "text": [
      "RMSE: 23.544613\n"
     ]
    }
   ],
   "source": [
    "# 학습한 데이터를 그대로 검증 데이터로 사용한 경우\n",
    "x_test = x\n",
    "y_test = y\n",
    "\n",
    "preds = pred(x_test, w, b)\n",
    "print('RMSE:',get_rmse(y_test,preds))  # RMSE: 2.4112918\n"
   ],
   "metadata": {
    "collapsed": false
   }
  },
  {
   "cell_type": "code",
   "execution_count": null,
   "outputs": [],
   "source": [],
   "metadata": {
    "collapsed": false
   }
  }
 ],
 "metadata": {
  "kernelspec": {
   "display_name": "Python 3",
   "language": "python",
   "name": "python3"
  },
  "language_info": {
   "codemirror_mode": {
    "name": "ipython",
    "version": 2
   },
   "file_extension": ".py",
   "mimetype": "text/x-python",
   "name": "python",
   "nbconvert_exporter": "python",
   "pygments_lexer": "ipython2",
   "version": "2.7.6"
  }
 },
 "nbformat": 4,
 "nbformat_minor": 0
}
